{
 "cells": [
  {
   "cell_type": "markdown",
   "metadata": {
    "id": "w6RlOAXV2PWh"
   },
   "source": [
    "### `Problem 1`: Write a program that will give you in hand monthly salary after deduction on CTC - HRA(10%), DA(5%), PF(3%) and taxes deduction as below:\n",
    "\n",
    "> Salary(Lakhs) : Tax(%)\n",
    "\n",
    "*   Below 5 : 0%\n",
    "*   5-10 : 10%\n",
    "*   10-20 : 20%\n",
    "*   above 20 : 30%"
   ]
  },
  {
   "cell_type": "code",
   "execution_count": 4,
   "metadata": {
    "id": "7tMHvKYO2etI"
   },
   "outputs": [
    {
     "name": "stdout",
     "output_type": "stream",
     "text": [
      "Enter Salary: 1200000\n",
      "Your in hand monthly salary will be - 62000.0\n"
     ]
    }
   ],
   "source": [
    "# Write code here\n",
    "\n",
    "salary = int(input('Enter Salary: '))\n",
    "\n",
    "if salary <= 500000:\n",
    "    salary = salary*0.82\n",
    "elif salary >= 500000 and salary <=1000000:\n",
    "    salary = salary*0.72\n",
    "elif salary >= 1000000 and salary <=2000000:\n",
    "    salary = salary*0.62\n",
    "else:\n",
    "    salary = salary*0.52\n",
    "    \n",
    "print('Your in hand monthly salary will be -', round(salary/12,2))"
   ]
  },
  {
   "cell_type": "markdown",
   "metadata": {
    "id": "tYzCGqwl2hfN"
   },
   "source": [
    "### `Problem 2`: Write a program that take a user input of three angles and will find out whether it can form a triangle or not."
   ]
  },
  {
   "cell_type": "code",
   "execution_count": 5,
   "metadata": {
    "id": "FYEqln-I2kxV"
   },
   "outputs": [
    {
     "name": "stdout",
     "output_type": "stream",
     "text": [
      "Enter the 1st angle :20\n",
      "Enter the 2nd angle :120\n",
      "Enter the 3rd angle :60\n",
      "Not a triangle\n"
     ]
    }
   ],
   "source": [
    "# Write code here\n",
    "\n",
    "first = int(input('Enter the 1st angle :'))\n",
    "second= int(input('Enter the 2nd angle :'))\n",
    "third = int(input('Enter the 3rd angle :'))\n",
    "\n",
    "if(first + second + third) == 180 and first>0 and second>0 and third>0:\n",
    "    print('Forms a triangle')\n",
    "else:\n",
    "    print('Not a triangle')\n",
    "    "
   ]
  },
  {
   "cell_type": "markdown",
   "metadata": {
    "id": "5vEpPh8C2pE4"
   },
   "source": [
    "### `Problem 3`: Write a program that will take user input of cost price and selling price and determines whether its a loss or a profit."
   ]
  },
  {
   "cell_type": "code",
   "execution_count": 6,
   "metadata": {
    "id": "jDwBXlkO2sfl"
   },
   "outputs": [
    {
     "name": "stdout",
     "output_type": "stream",
     "text": [
      "Enter cost price-6000\n",
      "Enter selling price-120000\n",
      "Profit\n"
     ]
    }
   ],
   "source": [
    "# write your code here \n",
    "cost_price = int(input('Enter cost price-'))\n",
    "selling_price = int(input('Enter selling price-'))\n",
    "\n",
    "if cost_price < selling_price:\n",
    "    print('Profit')\n",
    "elif cost_price > selling_price:\n",
    "    print('Loss')\n",
    "else:\n",
    "    print('No Loss No Gain')"
   ]
  },
  {
   "cell_type": "markdown",
   "metadata": {
    "id": "J_FG_cJW2ugT"
   },
   "source": [
    "### `Problem 4`: Write a menu-driven program - \n",
    "1. cm to ft \n",
    "2. km to miles \n",
    "3. USD to INR \n",
    "4. exit"
   ]
  },
  {
   "cell_type": "code",
   "execution_count": 7,
   "metadata": {
    "id": "yBHhaCGQ2zpD"
   },
   "outputs": [
    {
     "name": "stdout",
     "output_type": "stream",
     "text": [
      "\n",
      "Hi select an option\n",
      "1. cms to ft\n",
      "2. km to miles\n",
      "3. USD to INR\n",
      "4. Exit\n",
      "1\n",
      "enter the cm value12\n",
      "ft value is 0.384\n"
     ]
    }
   ],
   "source": [
    "# Write code here\n",
    "\n",
    "menu = input(\"\"\"\n",
    "Hi select an option\n",
    "1. cms to ft\n",
    "2. km to miles\n",
    "3. USD to INR\n",
    "4. Exit\n",
    "\"\"\")\n",
    "\n",
    "if menu == '1':\n",
    "    cm = float(input('enter the cm value'))\n",
    "    print('ft value is',0.032*cm)\n",
    "elif menu == '2':\n",
    "    km = float(input('enter the km value'))\n",
    "    print('miles value is',km*0.62)\n",
    "elif menu == '3':\n",
    "    usd = float(input('enter usd'))\n",
    "    print('inr',usd*80)\n",
    "else:\n",
    "    exit()"
   ]
  },
  {
   "cell_type": "markdown",
   "metadata": {
    "id": "LJJ30_Yw27ZU"
   },
   "source": [
    "### `Problem 5` - Exercise 12: Display Fibonacci series up to 10 terms.\n",
    "\n",
    "*Note: The Fibonacci Sequence is a series of numbers. The next number is found by adding up the two numbers before it. The first two numbers are 0 and 1. For example, 0, 1, 1, 2, 3, 5, 8, 13, 21. The next number in this series above is 13+21 = 34*"
   ]
  },
  {
   "cell_type": "code",
   "execution_count": 10,
   "metadata": {
    "id": "ae_1rpe52-5R"
   },
   "outputs": [
    {
     "name": "stdout",
     "output_type": "stream",
     "text": [
      "0\n",
      "1\n",
      "1\n",
      "2\n",
      "3\n",
      "5\n",
      "8\n",
      "13\n",
      "21\n",
      "34\n"
     ]
    }
   ],
   "source": [
    "# Write code here\n",
    "num1 = 0\n",
    "num2 = 1\n",
    "\n",
    "for i in range(10):\n",
    "    print(num1)\n",
    "    \n",
    "    next = num1 + num2\n",
    "    \n",
    "    num1 = num2\n",
    "    num2 = next"
   ]
  },
  {
   "cell_type": "markdown",
   "metadata": {
    "id": "pk_I_S4m3PT5"
   },
   "source": [
    "### `Problem 6` - Find the factorial of a given number.\n",
    "\n",
    "Write a program to use the loop to find the factorial of a given number.\n",
    "\n",
    "The factorial (symbol: `!`) means to multiply all whole numbers from the chosen number down to 1.\n",
    "\n",
    "For example: calculate the factorial of 5\n",
    "\n",
    "```bash\n",
    "5! = 5 × 4 × 3 × 2 × 1 = 120\n",
    "```\n",
    "\n",
    "Output: \n",
    "\n",
    "```bash\n",
    "120\n",
    "```"
   ]
  },
  {
   "cell_type": "code",
   "execution_count": 11,
   "metadata": {
    "id": "lzXxHegx3Rkc"
   },
   "outputs": [
    {
     "name": "stdout",
     "output_type": "stream",
     "text": [
      "enter num: 5\n",
      "120\n"
     ]
    }
   ],
   "source": [
    "# Write code here\n",
    "\n",
    "num = int(input('enter num: '))\n",
    "\n",
    "fact = 1\n",
    "for i in range(1,num+1):\n",
    "    fact = fact*i\n",
    "\n",
    "print(fact)"
   ]
  },
  {
   "cell_type": "markdown",
   "metadata": {
    "id": "-17IOi-g3UpU"
   },
   "source": [
    "### `Problem 7` - Reverse a given integer number.\n",
    "\n",
    "Example:\n",
    "\n",
    "`Input:`\n",
    "\n",
    "```bash\n",
    "76542\n",
    "```\n",
    "\n",
    "`Output:`\n",
    "\n",
    "```bash\n",
    "24567\n",
    "```"
   ]
  },
  {
   "cell_type": "code",
   "execution_count": 2,
   "metadata": {
    "id": "wJwLpKCr3aVA"
   },
   "outputs": [
    {
     "name": "stdout",
     "output_type": "stream",
     "text": [
      "enter num: 123\n",
      "321\n"
     ]
    }
   ],
   "source": [
    "# Write code here\n",
    "\n",
    "a = int(input('enter num: '))\n",
    "\n",
    "res = 0\n",
    "\n",
    "while a != 0:\n",
    "    digit = a%10\n",
    "    res = res*10 + digit\n",
    "    a = a//10\n",
    "print(res)"
   ]
  },
  {
   "cell_type": "markdown",
   "metadata": {
    "id": "-t8PJQaY3sHf"
   },
   "source": [
    "### `Problem 8`: Take a user input as integer N. Find out the sum from 1 to N. If any number if divisible by 5, then skip that number. And if the sum is greater than 300, don't need to calculate the sum further more. Print the final result. And don't use for loop to solve this problem.\n",
    "\n",
    "**Example 1:**\n",
    "\n",
    "`Input:`\n",
    "\n",
    "```bash\n",
    "30\n",
    "```\n",
    "\n",
    "`Output:`\n",
    "\n",
    "```bash\n",
    "276\n",
    "```"
   ]
  },
  {
   "cell_type": "code",
   "execution_count": 21,
   "metadata": {
    "id": "GZB6mGMP3ujT"
   },
   "outputs": [
    {
     "name": "stdout",
     "output_type": "stream",
     "text": [
      "enter the number: 30\n",
      "276\n"
     ]
    }
   ],
   "source": [
    "# Write code here\n",
    "num = int(input('enter the number: '))\n",
    "res = 0\n",
    "i = 1\n",
    "\n",
    "while i<num+1:\n",
    "    \n",
    "    if i%5 == 0:\n",
    "        i+=1\n",
    "    res += i\n",
    "    \n",
    "    if res > 300:\n",
    "        res -= i\n",
    "        break\n",
    "    i+=1\n",
    "print(res)\n",
    "    "
   ]
  },
  {
   "cell_type": "markdown",
   "metadata": {
    "id": "Q7ggImeA3xm4"
   },
   "source": [
    "### `Problem 9`: Write a program that keeps on accepting a number from the user until the user enters Zero. Display the sum and average of all the numbers."
   ]
  },
  {
   "cell_type": "code",
   "execution_count": 42,
   "metadata": {
    "id": "t_YDSZDe4Kdo"
   },
   "outputs": [
    {
     "name": "stdout",
     "output_type": "stream",
     "text": [
      "Enter num: 1\n",
      "Enter num: 2\n",
      "Enter num: 3\n",
      "Enter num: 4\n",
      "Enter num: 5\n",
      "Enter num: 0\n",
      "5\n",
      "Sum: 15 Average: 3.0\n"
     ]
    }
   ],
   "source": [
    "res = 0\n",
    "counter = 0\n",
    "\n",
    "# true mean it'll go infinitely until broken from inside\n",
    "while True : \n",
    "    num = int(input('Enter num: '))\n",
    "    if num == 0:\n",
    "        break\n",
    "    res = res + num\n",
    "    counter = counter + 1\n",
    "    \n",
    "print(counter)\n",
    "    \n",
    "print('Sum:',res, 'Average:',res/counter)"
   ]
  },
  {
   "cell_type": "markdown",
   "metadata": {
    "id": "6EhvEMvm4R7s"
   },
   "source": [
    "###`Problem 9`: Write a program which will find all such numbers which are divisible by 7 but are not a multiple of 5, between 2000 and 3200 (both included). The numbers obtained should be printed in a comma-separated sequence on a single line."
   ]
  },
  {
   "cell_type": "code",
   "execution_count": 44,
   "metadata": {
    "id": "d6RgP1B34T6c"
   },
   "outputs": [
    {
     "name": "stdout",
     "output_type": "stream",
     "text": [
      "2002,2009,2016,2023,2037,2044,2051,2058,2072,2079,2086,2093,2107,2114,2121,2128,2142,2149,2156,2163,2177,2184,2191,2198,2212,2219,2226,2233,2247,2254,2261,2268,2282,2289,2296,2303,2317,2324,2331,2338,2352,2359,2366,2373,2387,2394,2401,2408,2422,2429,2436,2443,2457,2464,2471,2478,2492,2499,2506,2513,2527,2534,2541,2548,2562,2569,2576,2583,2597,2604,2611,2618,2632,2639,2646,2653,2667,2674,2681,2688,2702,2709,2716,2723,2737,2744,2751,2758,2772,2779,2786,2793,2807,2814,2821,2828,2842,2849,2856,2863,2877,2884,2891,2898,2912,2919,2926,2933,2947,2954,2961,2968,2982,2989,2996,3003,3017,3024,3031,3038,3052,3059,3066,3073,3087,3094,3101,3108,3122,3129,3136,3143,3157,3164,3171,3178,3192,3199,"
     ]
    }
   ],
   "source": [
    "# Write code here\n",
    "\n",
    "for i in range(2000,3200+1):\n",
    "    if i%7==0 and i%5 != 0:\n",
    "        print(i,end=',')"
   ]
  },
  {
   "cell_type": "markdown",
   "metadata": {
    "id": "tYvmRR-G4Vp4"
   },
   "source": [
    "###`Problem 10`: Write a program, which will find all such numbers between 1000 and 3000 (both included) such that each digit of the number is an even number. The numbers obtained should be printed in a space-separated sequence on a single line.\n",
    "\n"
   ]
  },
  {
   "cell_type": "code",
   "execution_count": 5,
   "metadata": {
    "id": "k6Gs1kIf4k19"
   },
   "outputs": [
    {
     "name": "stdout",
     "output_type": "stream",
     "text": [
      "2000,2002,2004,2006,2008,2020,2022,2024,2026,2028,2040,2042,2044,2046,2048,2060,2062,2064,2066,2068,2080,2082,2084,2086,2088,2200,2202,2204,2206,2208,2220,2222,2224,2226,2228,2240,2242,2244,2246,2248,2260,2262,2264,2266,2268,2280,2282,2284,2286,2288,2400,2402,2404,2406,2408,2420,2422,2424,2426,2428,2440,2442,2444,2446,2448,2460,2462,2464,2466,2468,2480,2482,2484,2486,2488,2600,2602,2604,2606,2608,2620,2622,2624,2626,2628,2640,2642,2644,2646,2648,2660,2662,2664,2666,2668,2680,2682,2684,2686,2688,2800,2802,2804,2806,2808,2820,2822,2824,2826,2828,2840,2842,2844,2846,2848,2860,2862,2864,2866,2868,2880,2882,2884,2886,2888,"
     ]
    }
   ],
   "source": [
    "# Write code here\n",
    "\n",
    "for i in range(1000,3001):\n",
    "    flag = True\n",
    "    curr = i\n",
    "    while curr > 0:\n",
    "        last = curr%10\n",
    "        if last % 2 != 0:\n",
    "            flag = False\n",
    "            break\n",
    "        curr = curr//10\n",
    "        \n",
    "    if flag:\n",
    "        print(i,end=',')\n",
    "    "
   ]
  },
  {
   "cell_type": "markdown",
   "metadata": {
    "id": "GV18IINT4mf5"
   },
   "source": [
    "###`Problem 11`: A robot moves in a plane starting from the original point (0,0). The robot can move toward UP, DOWN, LEFT and RIGHT with a given steps. \n",
    "The trace of robot movement is shown as the following:\n",
    "```\n",
    "UP 5\n",
    "DOWN 3\n",
    "LEFT 3\n",
    "RIGHT 2\n",
    "!\n",
    "```\n",
    "> The numbers after the direction are steps. \n",
    "\n",
    "> `!` means robot stop there.\n",
    "\n",
    "**Please write a program to compute the distance from current position after a sequence of movement and original point.** \n",
    "\n",
    "*If the distance is a float, then just print the nearest integer.*\n",
    "\n",
    "Example:\n",
    "\n",
    "`Input`:\n",
    "```\n",
    "UP 5\n",
    "DOWN 3\n",
    "LEFT 3\n",
    "RIGHT 2\n",
    "!\n",
    "```\n",
    "`Output`:\n",
    "```\n",
    "2\n",
    "```"
   ]
  },
  {
   "cell_type": "code",
   "execution_count": 68,
   "metadata": {
    "id": "6UNMC2aR4w5x"
   },
   "outputs": [
    {
     "name": "stdout",
     "output_type": "stream",
     "text": [
      "\n",
      "    1. Move Right\n",
      "    2. Move Left\n",
      "    3. Move Up\n",
      "    4. Move Down\n",
      "    0  Exit\n",
      "    1\n",
      "RIGHT: 5\n",
      "\n",
      "    1. Move Right\n",
      "    2. Move Left\n",
      "    3. Move Up\n",
      "    4. Move Down\n",
      "    0  Exit\n",
      "    2\n",
      "LEFT: 5\n",
      "\n",
      "    1. Move Right\n",
      "    2. Move Left\n",
      "    3. Move Up\n",
      "    4. Move Down\n",
      "    0  Exit\n",
      "    3\n",
      "UP: 5\n",
      "\n",
      "    1. Move Right\n",
      "    2. Move Left\n",
      "    3. Move Up\n",
      "    4. Move Down\n",
      "    0  Exit\n",
      "    4\n",
      "Down: 5\n",
      "\n",
      "    1. Move Right\n",
      "    2. Move Left\n",
      "    3. Move Up\n",
      "    4. Move Down\n",
      "    0  Exit\n",
      "    0\n",
      "0\n"
     ]
    }
   ],
   "source": [
    "# Write code here\n",
    "\n",
    "x = 0\n",
    "y = 0\n",
    "\n",
    "while True:\n",
    "    menu = int(input('''\n",
    "    1. Move Right\n",
    "    2. Move Left\n",
    "    3. Move Up\n",
    "    4. Move Down\n",
    "    0  Exit\n",
    "    '''))\n",
    "   \n",
    "    if menu== 1:\n",
    "        right = int(input('RIGHT: '))\n",
    "        x = right + x\n",
    "    elif menu==2:\n",
    "        left = int(input('LEFT: '))\n",
    "        x = x - left\n",
    "    elif menu==3:\n",
    "        up = int(input('UP: '))\n",
    "        y = up + y\n",
    "    elif menu==4:\n",
    "        down = int(input('Down: '))\n",
    "        y = y - down\n",
    "    elif menu == 0:\n",
    "        break\n",
    "\n",
    "        \n",
    "euclidean_dist = ((x2)**2+(y2)**2)**0.5       \n",
    "print(int(euclidean_dist))"
   ]
  },
  {
   "cell_type": "markdown",
   "metadata": {
    "id": "3fsAIAhK5GYY"
   },
   "source": [
    "###`Problem 12`:Write a program to print whether a given number is a prime number or not"
   ]
  },
  {
   "cell_type": "code",
   "execution_count": 76,
   "metadata": {
    "id": "j6y91lxy5LZs"
   },
   "outputs": [
    {
     "name": "stdout",
     "output_type": "stream",
     "text": [
      "Enter num: 13\n",
      "Prime\n"
     ]
    }
   ],
   "source": [
    "# Write code here\n",
    "\n",
    "num = int(input('Enter num: '))\n",
    "\n",
    "flag = True\n",
    "for i in range(2,num):\n",
    "    if num%i ==0:\n",
    "        flag = False\n",
    "        break\n",
    "if flag == True:\n",
    "    print('Prime')\n",
    "else:\n",
    "    print('Not Prime')\n",
    "    "
   ]
  },
  {
   "cell_type": "markdown",
   "metadata": {
    "id": "asAbmbK-5NHv"
   },
   "source": [
    "###`Problem 13`:Print all the Armstrong numbers in a given range.\n",
    "Range will be provided by the user<br>\n",
    "Armstrong number is a number that is equal to the sum of cubes of its digits. For example 0, 1, 153, 370, 371 and 407 are the Armstrong numbers."
   ]
  },
  {
   "cell_type": "code",
   "execution_count": 7,
   "metadata": {
    "id": "PZuI67pm5jCT"
   },
   "outputs": [
    {
     "name": "stdout",
     "output_type": "stream",
     "text": [
      "Enter the start of the range: 1\n",
      "Enter the end of the range: 400\n",
      "1\n",
      "2\n",
      "3\n",
      "4\n",
      "5\n",
      "6\n",
      "7\n",
      "8\n",
      "9\n",
      "153\n",
      "370\n",
      "371\n"
     ]
    }
   ],
   "source": [
    "# Write code here\n",
    "\n",
    "start = int(input(\"Enter the start of the range: \"))\n",
    "end = int(input(\"Enter the end of the range: \"))\n",
    "\n",
    "for i in range(start,end+1):\n",
    "    curr = i\n",
    "    res = 0\n",
    "    order = len(str(i))\n",
    "    while curr > 0:\n",
    "        last = curr%10\n",
    "        res = res + last**order\n",
    "        curr =  curr//10\n",
    "    if i == res:\n",
    "        print(i)"
   ]
  },
  {
   "cell_type": "markdown",
   "metadata": {
    "id": "ClCQZMqT7gK0"
   },
   "source": [
    "###`Problem 14`:Calculate the angle between the hour hand and minute hand.\n",
    "\n",
    "Note: There can be two angles between hands; we need to print a minimum of two. Also, we need to print the floor of the final result angle. For example, if the final angle is 10.61, we need to print 10.\n",
    "\n",
    "Input:<br>\n",
    "H = 9 , M = 0<br>\n",
    "Output:<br>\n",
    "90<br>\n",
    "Explanation:<br>\n",
    "The minimum angle between hour and minute\n",
    "hand when the time is 9 is 90 degress."
   ]
  },
  {
   "cell_type": "code",
   "execution_count": null,
   "metadata": {
    "id": "tNBTCZML7jy_"
   },
   "outputs": [],
   "source": [
    "# Write code here"
   ]
  },
  {
   "cell_type": "markdown",
   "metadata": {
    "id": "GwacF9Co72Qc"
   },
   "source": [
    "###`Problem 15`:Given two rectangles, find if the given two rectangles overlap or not. A rectangle is denoted by providing the x and y coordinates of two points: the left top corner and the right bottom corner of the rectangle. Two rectangles sharing a side are considered overlapping. (L1 and R1 are the extreme points of the first rectangle and L2 and R2 are the extreme points of the second rectangle).\n",
    "\n",
    "Note: It may be assumed that the rectangles are parallel to the coordinate axis.\n",
    "\n",
    "<img src='https://www.geeksforgeeks.org/wp-content/uploads/rectanglesOverlap.png' width='300' height='200'>"
   ]
  },
  {
   "cell_type": "code",
   "execution_count": null,
   "metadata": {
    "id": "6rrw_lpH78Rs"
   },
   "outputs": [],
   "source": [
    "# Write code here"
   ]
  }
 ],
 "metadata": {
  "colab": {
   "provenance": []
  },
  "kernelspec": {
   "display_name": "Python 3 (ipykernel)",
   "language": "python",
   "name": "python3"
  },
  "language_info": {
   "codemirror_mode": {
    "name": "ipython",
    "version": 3
   },
   "file_extension": ".py",
   "mimetype": "text/x-python",
   "name": "python",
   "nbconvert_exporter": "python",
   "pygments_lexer": "ipython3",
   "version": "3.9.12"
  }
 },
 "nbformat": 4,
 "nbformat_minor": 1
}
