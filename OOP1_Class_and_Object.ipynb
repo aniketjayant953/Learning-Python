{
 "cells": [
  {
   "cell_type": "code",
   "execution_count": 2,
   "id": "eb322a36",
   "metadata": {},
   "outputs": [
    {
     "ename": "AttributeError",
     "evalue": "'list' object has no attribute 'upper'",
     "output_type": "error",
     "traceback": [
      "\u001b[1;31m---------------------------------------------------------------------------\u001b[0m",
      "\u001b[1;31mAttributeError\u001b[0m                            Traceback (most recent call last)",
      "Input \u001b[1;32mIn [2]\u001b[0m, in \u001b[0;36m<cell line: 2>\u001b[1;34m()\u001b[0m\n\u001b[0;32m      1\u001b[0m L \u001b[38;5;241m=\u001b[39m[\u001b[38;5;241m1\u001b[39m,\u001b[38;5;241m2\u001b[39m,\u001b[38;5;241m3\u001b[39m]\n\u001b[1;32m----> 2\u001b[0m \u001b[43mL\u001b[49m\u001b[38;5;241;43m.\u001b[39;49m\u001b[43mupper\u001b[49m()\n",
      "\u001b[1;31mAttributeError\u001b[0m: 'list' object has no attribute 'upper'"
     ]
    }
   ],
   "source": [
    "L =[1,2,3]\n",
    "L.upper()"
   ]
  },
  {
   "cell_type": "code",
   "execution_count": 3,
   "id": "392e1cd4",
   "metadata": {},
   "outputs": [
    {
     "ename": "AttributeError",
     "evalue": "'str' object has no attribute 'append'",
     "output_type": "error",
     "traceback": [
      "\u001b[1;31m---------------------------------------------------------------------------\u001b[0m",
      "\u001b[1;31mAttributeError\u001b[0m                            Traceback (most recent call last)",
      "Input \u001b[1;32mIn [3]\u001b[0m, in \u001b[0;36m<cell line: 2>\u001b[1;34m()\u001b[0m\n\u001b[0;32m      1\u001b[0m s \u001b[38;5;241m=\u001b[39m \u001b[38;5;124m'\u001b[39m\u001b[38;5;124mhello\u001b[39m\u001b[38;5;124m'\u001b[39m\n\u001b[1;32m----> 2\u001b[0m \u001b[43ms\u001b[49m\u001b[38;5;241;43m.\u001b[39;49m\u001b[43mappend\u001b[49m(\u001b[38;5;124m'\u001b[39m\u001b[38;5;124mx\u001b[39m\u001b[38;5;124m'\u001b[39m)\n",
      "\u001b[1;31mAttributeError\u001b[0m: 'str' object has no attribute 'append'"
     ]
    }
   ],
   "source": [
    "s = 'hello'\n",
    "s.append('x')"
   ]
  },
  {
   "cell_type": "code",
   "execution_count": 4,
   "id": "c564fb09",
   "metadata": {},
   "outputs": [
    {
     "name": "stdout",
     "output_type": "stream",
     "text": [
      "<class 'list'>\n"
     ]
    }
   ],
   "source": [
    "L = [1,2,3]\n",
    "print(type(L))"
   ]
  },
  {
   "cell_type": "code",
   "execution_count": null,
   "id": "896ca157",
   "metadata": {},
   "outputs": [],
   "source": [
    "s.capitalize()"
   ]
  },
  {
   "cell_type": "code",
   "execution_count": null,
   "id": "8965e403",
   "metadata": {},
   "outputs": [],
   "source": [
    "# syntax to create an object\n",
    "objectname = classname()"
   ]
  },
  {
   "cell_type": "code",
   "execution_count": null,
   "id": "6479b501",
   "metadata": {},
   "outputs": [],
   "source": [
    "# object literal\n",
    "l = [1,2,3]"
   ]
  },
  {
   "cell_type": "code",
   "execution_count": null,
   "id": "100c0b0a",
   "metadata": {},
   "outputs": [],
   "source": [
    "l = list()\n",
    "l"
   ]
  },
  {
   "cell_type": "code",
   "execution_count": null,
   "id": "d3cee47d",
   "metadata": {},
   "outputs": [],
   "source": [
    "s = str()\n",
    "s"
   ]
  },
  {
   "cell_type": "markdown",
   "id": "e19cdb9f",
   "metadata": {},
   "source": [
    "## Creating a small banking application"
   ]
  },
  {
   "cell_type": "code",
   "execution_count": 82,
   "id": "39c10066",
   "metadata": {},
   "outputs": [],
   "source": [
    "# Pascal case -> PascalCase \n",
    "\n",
    "class Atm:\n",
    "    \n",
    "    # constructor(special function) -> superpower\n",
    "    def __init__(self):\n",
    "#         print(id(self))\n",
    "        self.pin = ''\n",
    "        self.balance = 0\n",
    "        self.menu()\n",
    "        \n",
    "    def menu(self):\n",
    "        user_input = input(\"\"\"\n",
    "        Hi how can I help you?\n",
    "        1. Press 1 to create pin\n",
    "        2. Press 2 to change pin\n",
    "        3. Press 3 to check balance\n",
    "        4. Press 4 to withdraw\n",
    "        5. Anything else to exit\n",
    "        \n",
    "        \"\"\")\n",
    "        \n",
    "        if user_input == '1':\n",
    "            self.create_pin()\n",
    "        elif user_input == '2':\n",
    "            # change pin\n",
    "            self.change_pin()\n",
    "        elif user_input == '3':\n",
    "            # check balance\n",
    "            self.check_balance()\n",
    "        elif user_input == '4':\n",
    "            # withdraw\n",
    "            self.withdraw()\n",
    "        else:\n",
    "            exit()\n",
    "            \n",
    "    def create_pin(self):\n",
    "        user_pin = input('enter your pin: ')\n",
    "        self.pin = user_pin\n",
    "        \n",
    "        user_balance = int(input('enter balance: '))\n",
    "        self.balance = user_balance\n",
    "        \n",
    "        print('pin created successfully')\n",
    "        self.menu()\n",
    "    \n",
    "    def change_pin():\n",
    "        old_pin = input('Enter old Pin: ')\n",
    "        if old_pin == self.pin:\n",
    "            # let him change the pin\n",
    "            new_pin = input('enter new pin: ')\n",
    "            self.pin = new_pin\n",
    "            print('Pin change successful')\n",
    "            self.menu()\n",
    "        else:\n",
    "            print('nai karne de sakte re baba')\n",
    "            self.menu()\n",
    "            \n",
    "    def check_balance(self):\n",
    "        pin = input('Enter old Pin: ')\n",
    "        if pin == self.pin:\n",
    "            print('Balance: ', self.balance)\n",
    "            self.menu()\n",
    "        else:\n",
    "            print('Chal Nikal yaha se')\n",
    "            self.menu()\n",
    "            \n",
    "    def withdraw():\n",
    "        pin = input('Enter old Pin: ')\n",
    "        if pin == self.pin:\n",
    "            # allow to withdraw\n",
    "            amt = int(input('Enter the amount: '))\n",
    "            if amt <= self.balance:\n",
    "                self.balance = self.balance - amt\n",
    "                print('withdraw successful. Remaining balance is ',self.balance)\n",
    "            else:\n",
    "                print('abe garib')\n",
    "        else:\n",
    "            print('sale chor')\n",
    "        self.menu()\n",
    "        "
   ]
  },
  {
   "cell_type": "code",
   "execution_count": 83,
   "id": "e2692dde",
   "metadata": {
    "scrolled": false
   },
   "outputs": [
    {
     "name": "stdout",
     "output_type": "stream",
     "text": [
      "\n",
      "        Hi how can I help you?\n",
      "        1. Press 1 to create pin\n",
      "        2. Press 2 to change pin\n",
      "        3. Press 3 to check balance\n",
      "        4. Press 4 to withdraw\n",
      "        5. Anything else to exit\n",
      "        \n",
      "        1\n",
      "enter your pin: 1234\n",
      "enter balance: 10000\n",
      "pin created successfully\n",
      "\n",
      "        Hi how can I help you?\n",
      "        1. Press 1 to create pin\n",
      "        2. Press 2 to change pin\n",
      "        3. Press 3 to check balance\n",
      "        4. Press 4 to withdraw\n",
      "        5. Anything else to exit\n",
      "        \n",
      "        3\n",
      "Enter old Pin: 1234\n",
      "Balance:  10000\n",
      "\n",
      "        Hi how can I help you?\n",
      "        1. Press 1 to create pin\n",
      "        2. Press 2 to change pin\n",
      "        3. Press 3 to check balance\n",
      "        4. Press 4 to withdraw\n",
      "        5. Anything else to exit\n",
      "        \n",
      "        5\n"
     ]
    }
   ],
   "source": [
    "obj = Atm()"
   ]
  },
  {
   "cell_type": "markdown",
   "id": "7cdffb56",
   "metadata": {},
   "source": [
    "# Self\n",
    "\n",
    "Golden rule of OOP is that one method of your class can't access other methods\n",
    "\n",
    "That's why self is made to call the object itself hence,\n",
    "\n",
    "These both are same-\n",
    "\n",
    "self.menu()\n",
    "\n",
    "obj.menu()"
   ]
  },
  {
   "cell_type": "code",
   "execution_count": 11,
   "id": "3a56cd6e",
   "metadata": {
    "scrolled": true
   },
   "outputs": [
    {
     "data": {
      "text/plain": [
       "''"
      ]
     },
     "execution_count": 11,
     "metadata": {},
     "output_type": "execute_result"
    }
   ],
   "source": [
    "obj.pin"
   ]
  },
  {
   "cell_type": "code",
   "execution_count": 7,
   "id": "c7cb8729",
   "metadata": {},
   "outputs": [
    {
     "name": "stdout",
     "output_type": "stream",
     "text": [
      "1734294240368\n",
      "1734294240368\n"
     ]
    }
   ],
   "source": [
    "# since memory address of both object and self is same it means self is nothing but the object we've created\n",
    "obj = Atm()\n",
    "\n",
    "print(id(obj))\n",
    "\n",
    "\n"
   ]
  },
  {
   "cell_type": "code",
   "execution_count": 8,
   "id": "3d26d239",
   "metadata": {},
   "outputs": [
    {
     "ename": "TypeError",
     "evalue": "change_pin() takes 0 positional arguments but 1 was given",
     "output_type": "error",
     "traceback": [
      "\u001b[1;31m---------------------------------------------------------------------------\u001b[0m",
      "\u001b[1;31mTypeError\u001b[0m                                 Traceback (most recent call last)",
      "Input \u001b[1;32mIn [8]\u001b[0m, in \u001b[0;36m<cell line: 4>\u001b[1;34m()\u001b[0m\n\u001b[0;32m      1\u001b[0m \u001b[38;5;66;03m# if removed self from change_pin(self)\u001b[39;00m\n\u001b[0;32m      2\u001b[0m \u001b[38;5;66;03m# and if i try to call this function\u001b[39;00m\n\u001b[1;32m----> 4\u001b[0m \u001b[43mobj\u001b[49m\u001b[38;5;241;43m.\u001b[39;49m\u001b[43mchange_pin\u001b[49m\u001b[43m(\u001b[49m\u001b[43m)\u001b[49m\n",
      "\u001b[1;31mTypeError\u001b[0m: change_pin() takes 0 positional arguments but 1 was given"
     ]
    }
   ],
   "source": [
    "# if removed self from change_pin(self)\n",
    "# and if i try to call this function\n",
    "# Error : takes 0 positional arguments but 1 was given means :\n",
    "# 1 argument is obj itself thats why it is giving this error\n",
    "\n",
    "obj.change_pin()"
   ]
  },
  {
   "cell_type": "markdown",
   "id": "365e8b74",
   "metadata": {},
   "source": [
    "## Function vs Method"
   ]
  },
  {
   "cell_type": "code",
   "execution_count": null,
   "id": "03f6a179",
   "metadata": {},
   "outputs": [],
   "source": [
    "L = [1,2,3]\n",
    "len(l) # it is a function because it is independent of any class\n",
    "l.append(4) # it a method bc it is inside list class"
   ]
  },
  {
   "cell_type": "markdown",
   "id": "d88ac4fb",
   "metadata": {},
   "source": [
    "## Dunder Method\n",
    "- aka Magic Method\n",
    "\n",
    "The true use of constructor (__init__) is to write configuration related code which means it don't need to be initialized by user it has to initialize automatically like you don't want to ask user to initialize the setting to connect to internet to fetch user data like in atm, you don't want to ask user to connect to database. All the redudant task that is to the user is to be written under constructor that will initialize automatically without the user permission. \n",
    "\n",
    "Philosophically, if god is a programmer and the humans are the object what aspect of life the god don't want to give control to human.\n",
    "\n",
    "Answer : **Death**"
   ]
  },
  {
   "cell_type": "code",
   "execution_count": 1,
   "id": "1088dd9e",
   "metadata": {},
   "outputs": [
    {
     "name": "stdout",
     "output_type": "stream",
     "text": [
      "hello\n"
     ]
    }
   ],
   "source": [
    "class Temp:\n",
    "    \n",
    "    def __init__(self):\n",
    "        print('hello')\n",
    "        \n",
    "obj = Temp()"
   ]
  },
  {
   "cell_type": "markdown",
   "id": "3007a4cd",
   "metadata": {},
   "source": [
    "# Creating New Data Type"
   ]
  },
  {
   "cell_type": "code",
   "execution_count": 76,
   "id": "167ce6e4",
   "metadata": {},
   "outputs": [],
   "source": [
    "class Fraction:\n",
    "    \n",
    "    # parameterized constructor\n",
    "    def __init__(self,x,y):\n",
    "        self.num = x\n",
    "        self.den = y\n",
    "    \n",
    "    def __str__(self):\n",
    "        return f'{self.num}/{self.den}'\n",
    "    \n",
    "    def __add__(self,other):\n",
    "        den = self.den * other.den\n",
    "        num = self.num * other.den + other.num * self.den\n",
    "        return f'{num}/{den}'\n",
    "    \n",
    "    def __sub__(self,other):\n",
    "        den = self.den * other.den\n",
    "        num = self.num * other.den - other.num * self.den\n",
    "        return f'{num}/{den}'\n",
    "    \n",
    "    def __mul__(self,other):\n",
    "        den = self.den * other.den\n",
    "        num = self.num * other.num \n",
    "        return f'{num}/{den}'\n",
    "\n",
    "    def __truediv__(self,*other):\n",
    "        for i in other:\n",
    "        den = self.den * other.num\n",
    "        num = self.num * other.den \n",
    "        return f'{num}/{den}'\n",
    "    \n",
    "    def convert_to_decimal(self):\n",
    "        return self.num/self.den\n",
    "    \n",
    "    "
   ]
  },
  {
   "cell_type": "code",
   "execution_count": 77,
   "id": "197ada8a",
   "metadata": {},
   "outputs": [],
   "source": [
    "fr1 = Fraction(3,4)\n",
    "fr2 = Fraction(1,2)\n",
    "fr3 = Fraction(4,2)"
   ]
  },
  {
   "cell_type": "code",
   "execution_count": 78,
   "id": "dfafcb71",
   "metadata": {},
   "outputs": [
    {
     "name": "stdout",
     "output_type": "stream",
     "text": [
      "<class '__main__.Fraction'>\n"
     ]
    }
   ],
   "source": [
    "print(type(fr1))"
   ]
  },
  {
   "cell_type": "code",
   "execution_count": 79,
   "id": "529e8596",
   "metadata": {},
   "outputs": [
    {
     "name": "stdout",
     "output_type": "stream",
     "text": [
      "3/4\n"
     ]
    }
   ],
   "source": [
    "print(fr1)\n",
    "# expected 3/4"
   ]
  },
  {
   "cell_type": "code",
   "execution_count": 81,
   "id": "ae4a41a2",
   "metadata": {
    "scrolled": true
   },
   "outputs": [
    {
     "name": "stdout",
     "output_type": "stream",
     "text": [
      "10/8\n",
      "2/8\n",
      "3/8\n",
      "6/4\n",
      "0.75\n"
     ]
    }
   ],
   "source": [
    "print(fr1 + fr2)\n",
    "print(fr1 - fr2)\n",
    "print(fr1 * fr2)\n",
    "print(fr1 / fr2)\n",
    "print(fr1.convert_to_decimal())"
   ]
  },
  {
   "cell_type": "code",
   "execution_count": 33,
   "id": "cc43edd1",
   "metadata": {},
   "outputs": [
    {
     "ename": "TypeError",
     "evalue": "unsupported operand type(s) for +: 'set' and 'set'",
     "output_type": "error",
     "traceback": [
      "\u001b[1;31m---------------------------------------------------------------------------\u001b[0m",
      "\u001b[1;31mTypeError\u001b[0m                                 Traceback (most recent call last)",
      "Input \u001b[1;32mIn [33]\u001b[0m, in \u001b[0;36m<cell line: 3>\u001b[1;34m()\u001b[0m\n\u001b[0;32m      1\u001b[0m s1 \u001b[38;5;241m=\u001b[39m {\u001b[38;5;241m1\u001b[39m,\u001b[38;5;241m2\u001b[39m,\u001b[38;5;241m3\u001b[39m}\n\u001b[0;32m      2\u001b[0m s2 \u001b[38;5;241m=\u001b[39m {\u001b[38;5;241m1\u001b[39m,\u001b[38;5;241m2\u001b[39m,\u001b[38;5;241m3\u001b[39m}\n\u001b[1;32m----> 3\u001b[0m \u001b[43ms1\u001b[49m\u001b[43m \u001b[49m\u001b[38;5;241;43m+\u001b[39;49m\u001b[43m \u001b[49m\u001b[43ms2\u001b[49m\n",
      "\u001b[1;31mTypeError\u001b[0m: unsupported operand type(s) for +: 'set' and 'set'"
     ]
    }
   ],
   "source": [
    "s1 = {1,2,3}\n",
    "s2 = {1,2,3}\n",
    "s1 + s2"
   ]
  },
  {
   "cell_type": "code",
   "execution_count": null,
   "id": "6c460414",
   "metadata": {},
   "outputs": [],
   "source": []
  }
 ],
 "metadata": {
  "kernelspec": {
   "display_name": "Python 3 (ipykernel)",
   "language": "python",
   "name": "python3"
  },
  "language_info": {
   "codemirror_mode": {
    "name": "ipython",
    "version": 3
   },
   "file_extension": ".py",
   "mimetype": "text/x-python",
   "name": "python",
   "nbconvert_exporter": "python",
   "pygments_lexer": "ipython3",
   "version": "3.9.12"
  }
 },
 "nbformat": 4,
 "nbformat_minor": 5
}
