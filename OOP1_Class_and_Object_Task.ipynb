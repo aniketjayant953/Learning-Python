{
 "cells": [
  {
   "cell_type": "markdown",
   "metadata": {
    "id": "FyUJ3PRAsPr4"
   },
   "source": [
    "##`Q-1:` Rectangle Class\n",
    "1. Write a Rectangle class in Python language, allowing you to build a rectangle with length and width attributes.\n",
    "\n",
    "2. Create a Perimeter() method to calculate the perimeter of the rectangle and a Area() method to calculate the area of ​​the rectangle.\n",
    "\n",
    "3. Create a method display() that display the length, width, perimeter and area of an object created using an instantiation on rectangle class."
   ]
  },
  {
   "cell_type": "markdown",
   "metadata": {
    "id": "GxUtOqJfssFK"
   },
   "source": [
    "Eg.\n",
    "After making above classes and methods, on executing below code:-\n",
    "```\n",
    "my_rectangle = Rectangle(3 , 4)\n",
    "my_rectangle.display()\n",
    "```\n",
    "\n",
    "`Output:`\n",
    "```\n",
    "The length of rectangle is:  3\n",
    "The width of rectangle is:  4\n",
    "The perimeter of rectangle is:  14\n",
    "The area of rectangle is:  12\n",
    "```\n"
   ]
  },
  {
   "cell_type": "code",
   "execution_count": 7,
   "metadata": {
    "id": "92_QT-Uj6NBg"
   },
   "outputs": [],
   "source": [
    "# write your code here\n",
    "class Rectangle:\n",
    "    \n",
    "    def __init__(self,x,y):\n",
    "        self.__x = x\n",
    "        self.__y = y\n",
    "        \n",
    "    def __perimeter(self):\n",
    "        #P = (L + W) × 2\n",
    "        perimeter = (self.__x + self.__y) * 2\n",
    "        return perimeter\n",
    "\n",
    "    def __area(self):\n",
    "        area = self.__x * self.__y\n",
    "        return area\n",
    "    \n",
    "    def display(self):\n",
    "        print('The length of rectangle is:',  self.__x )\n",
    "        print('The width of rectangle is:', self.__y)\n",
    "        print('The perimeter of rectangle is:', self.__perimeter())\n",
    "        print('The area of rectangle is:', self.__area() )\n",
    "    "
   ]
  },
  {
   "cell_type": "code",
   "execution_count": 8,
   "metadata": {},
   "outputs": [],
   "source": [
    "my_rectangle = Rectangle(3,4)"
   ]
  },
  {
   "cell_type": "code",
   "execution_count": 9,
   "metadata": {},
   "outputs": [
    {
     "name": "stdout",
     "output_type": "stream",
     "text": [
      "The length of rectangle is: 3\n",
      "The width of rectangle is: 4\n",
      "The perimeter of rectangle is: 14\n",
      "The area of rectangle is: 12\n"
     ]
    }
   ],
   "source": [
    "my_rectangle.display()"
   ]
  },
  {
   "cell_type": "markdown",
   "metadata": {
    "id": "r_GxrS0Vrdom"
   },
   "source": [
    "##`Q-2: Bank Class`\n",
    "\n",
    "1. Create a Python class called `BankAccount` which represents a bank account, having as attributes: `accountNumber` (numeric type), `name` (name of the account owner as string type), `balance`.\n",
    "2. Create a constructor with parameters: `accountNumber, name, balance`.\n",
    "3. Create a `Deposit()` method which manages the deposit actions.\n",
    "4. Create a `Withdrawal()` method  which manages withdrawals actions.\n",
    "5. Create an `bankFees()` method to apply the bank fees with a percentage of 5% of the balance account.\n",
    "6. Create a `display()` method to display account details.\n",
    "Give the complete code for the  BankAccount class."
   ]
  },
  {
   "cell_type": "markdown",
   "metadata": {
    "id": "qvVkOUJgvTV_"
   },
   "source": [
    "Eg.\n",
    "After making above classes and methods, on executing below code:-\n",
    "```\n",
    "newAccount = BankAccount(2178514584, \"Mandy\" , 2800)\n",
    "\n",
    "newAccount.Withdrawal(700)\n",
    "\n",
    "newAccount.Deposit(1000)\n",
    "\n",
    "newAccount.display()\n",
    "```\n",
    "\n",
    "`Output:`\n",
    "```\n",
    "Account Number :  2178514584\n",
    "Account Name :  Mandy\n",
    "Account Balance :  3100 ₹\n",
    "```"
   ]
  },
  {
   "cell_type": "code",
   "execution_count": 13,
   "metadata": {
    "id": "fUQOmQyA6YDR"
   },
   "outputs": [],
   "source": [
    "# write your code here\n",
    "class BankAccount:\n",
    "    \n",
    "    def __init__(self,x,y,z):\n",
    "        self.account = x\n",
    "        self.name = y\n",
    "        self.balance = z\n",
    "        \n",
    "    def Deposit(self,deposit):\n",
    "        self.balance = deposit + self.balance\n",
    "        print('Successfully Deposited')\n",
    "        \n",
    "    def __bankFees(self):\n",
    "        return 0.05*self.balance\n",
    "        \n",
    "        \n",
    "        \n",
    "    def Withdrawal(self,withdrawal):\n",
    "        if self.balance > withdrawal:\n",
    "            self.balance =  self.balance -  withdrawal\n",
    "            reduction = self.__bankFees()\n",
    "            self.balance = self.balance - reduction\n",
    "            print('Successfully Withdrawal')\n",
    "        else:\n",
    "            print('Insufficient Balance')\n",
    "    \n",
    "    \n",
    "    def display(self):\n",
    "        print('Account Number :',self.account)\n",
    "        print('Account Name :',self.name)\n",
    "        print('Account Balance :',self.balance,'₹')\n",
    "        \n",
    "        "
   ]
  },
  {
   "cell_type": "code",
   "execution_count": 14,
   "metadata": {},
   "outputs": [],
   "source": [
    "newAccount = BankAccount(2178514584, \"Mandy\" , 2800)"
   ]
  },
  {
   "cell_type": "code",
   "execution_count": 15,
   "metadata": {
    "scrolled": true
   },
   "outputs": [
    {
     "name": "stdout",
     "output_type": "stream",
     "text": [
      "Successfully Withdrawal\n"
     ]
    }
   ],
   "source": [
    "newAccount.Withdrawal(700)"
   ]
  },
  {
   "cell_type": "code",
   "execution_count": 16,
   "metadata": {},
   "outputs": [
    {
     "name": "stdout",
     "output_type": "stream",
     "text": [
      "Successfully Deposited\n"
     ]
    }
   ],
   "source": [
    "newAccount.Deposit(1000)"
   ]
  },
  {
   "cell_type": "code",
   "execution_count": 17,
   "metadata": {},
   "outputs": [
    {
     "name": "stdout",
     "output_type": "stream",
     "text": [
      "Account Number : 2178514584\n",
      "Account Name : Mandy\n",
      "Account Balance : 2995.0 ₹\n"
     ]
    }
   ],
   "source": [
    "newAccount.display()"
   ]
  },
  {
   "cell_type": "markdown",
   "metadata": {
    "id": "QovcQAZTrgGU"
   },
   "source": [
    "##`Q-3:Computation class`\n",
    "\n",
    "1. Create a `Computation` class with a default constructor (without parameters) allowing to perform various calculations on integers numbers.\n",
    "2. Create a method called `Factorial()` which allows to calculate the factorial of an integer n. Integer n as parameter for this method\n",
    "\n",
    "3. Create a method called `naturalSum()` allowing to calculate the sum of the first n integers 1 + 2 + 3 + .. + n. Integer n as parameter for this method.\n",
    "\n",
    "4. Create a method called `testPrime()` in  the Calculation class to test the primality of a given integer n, n is Prime or Not? Integer n as parameter for this method.\n",
    "\n",
    "5. Create  a method called `testPrims()` allowing to test if two numbers are prime between them. Two integers are prime to one another if they have only `1` as their common divisor. Eg. 4 and 9 are prime to each other.\n",
    "\n",
    "5. Create a `tableMult()` method which creates and displays the multiplication table of a given integer. Then create an `allTablesMult()` method to display all the integer multiplication tables 1, 2, 3, ..., 9.\n",
    "\n",
    "6. Create a static `listDiv()` method that gets all the divisors of a given integer on new list called  Ldiv. Create another `listDivPrim()` method that gets all the prime divisors of a given integer."
   ]
  },
  {
   "cell_type": "code",
   "execution_count": 179,
   "metadata": {
    "id": "YEkPH70l6Z-o"
   },
   "outputs": [],
   "source": [
    "# write your code here\n",
    "\n",
    "class Computation:\n",
    "    \n",
    "    def __init__(self):\n",
    "        self.num = 0            \n",
    "            \n",
    "    def factorial(self,num):\n",
    "        fact = 1\n",
    "        for i in range(1,num+1):\n",
    "            fact = fact * i\n",
    "        return fact\n",
    "    \n",
    "    def naturalSum(self,num):\n",
    "        sum = 0\n",
    "        while num != 0:\n",
    "            sum = sum + num\n",
    "            num = num - 1\n",
    "        return sum\n",
    "    \n",
    "    def testPrime(self,num):\n",
    "        counter = 0\n",
    "        for i in range(1,num+1):   \n",
    "            if num % i == 0:\n",
    "                counter += 1\n",
    "        if counter == 2:\n",
    "            return 'It is a prime number'\n",
    "        else:\n",
    "            return 'It is not a prime number'\n",
    "    \n",
    "    def testPrims(self,num1,num2):\n",
    "        num1_prime = []\n",
    "        num2_prime = []\n",
    "        \n",
    "        for i in range(1,num1+1):\n",
    "            if num1%i == 0:\n",
    "                num1_prime.append(i)\n",
    "        for i in range(1,num2+1):\n",
    "            if num2%i == 0:\n",
    "                num2_prime.append(i)\n",
    "            \n",
    "        co_prime = [i for i in num1_prime if i in num2_prime]\n",
    "\n",
    "        if len(co_prime) == 1 and co_prime[0] == 1:\n",
    "            return  f'{num1} and {num2} are prime to each other'\n",
    "        else:\n",
    "            return 'They are not Co-primes'\n",
    "        \n",
    "    def tableMult(self,num):\n",
    "        for i in range(1,11):\n",
    "            print(f'{num} * {i} = {num*i}')\n",
    "            \n",
    "    def allTablesMult(self):\n",
    "        for i in range(1,10):\n",
    "            for j in range(1,11):\n",
    "                print(f'{i} * {j} = {i*j}')\n",
    "            print('*'*50)\n",
    "        \n",
    "    def listDiv(self,num):\n",
    "        divisors = []\n",
    "        \n",
    "        for i in range(1,num+1):\n",
    "            if num%i == 0:\n",
    "                divisors.append(i)\n",
    "        return divisors\n",
    "    \n",
    "    def testPrime1(self,num):\n",
    "        counter = 0\n",
    "        for i in range(1,num+1):   \n",
    "            if num % i == 0:\n",
    "                counter += 1\n",
    "        if counter == 2:\n",
    "            return True\n",
    "    \n",
    "    def listDivPrim(self, num):\n",
    "        l = self.listDiv(num)\n",
    "        l1 = []\n",
    "        for i in l:\n",
    "            if self.testPrime1(i):\n",
    "                l1.append(i)\n",
    "        \n",
    "        return l1\n",
    "                "
   ]
  },
  {
   "cell_type": "code",
   "execution_count": 180,
   "metadata": {},
   "outputs": [],
   "source": [
    "cal = Computation()"
   ]
  },
  {
   "cell_type": "code",
   "execution_count": 141,
   "metadata": {
    "scrolled": true
   },
   "outputs": [
    {
     "data": {
      "text/plain": [
       "5040"
      ]
     },
     "execution_count": 141,
     "metadata": {},
     "output_type": "execute_result"
    }
   ],
   "source": [
    "cal.factorial(7)"
   ]
  },
  {
   "cell_type": "code",
   "execution_count": 142,
   "metadata": {},
   "outputs": [
    {
     "data": {
      "text/plain": [
       "15"
      ]
     },
     "execution_count": 142,
     "metadata": {},
     "output_type": "execute_result"
    }
   ],
   "source": [
    "cal.naturalSum(5)"
   ]
  },
  {
   "cell_type": "code",
   "execution_count": 143,
   "metadata": {},
   "outputs": [
    {
     "data": {
      "text/plain": [
       "'It is not a prime number'"
      ]
     },
     "execution_count": 143,
     "metadata": {},
     "output_type": "execute_result"
    }
   ],
   "source": [
    "cal.testPrime(51)"
   ]
  },
  {
   "cell_type": "code",
   "execution_count": 154,
   "metadata": {},
   "outputs": [
    {
     "data": {
      "text/plain": [
       "'4 and 9 are prime to each other'"
      ]
     },
     "execution_count": 154,
     "metadata": {},
     "output_type": "execute_result"
    }
   ],
   "source": [
    "cal.testPrims(4,9)"
   ]
  },
  {
   "cell_type": "code",
   "execution_count": 148,
   "metadata": {},
   "outputs": [
    {
     "name": "stdout",
     "output_type": "stream",
     "text": [
      "3 * 1 = 3\n",
      "3 * 2 = 6\n",
      "3 * 3 = 9\n",
      "3 * 4 = 12\n",
      "3 * 5 = 15\n",
      "3 * 6 = 18\n",
      "3 * 7 = 21\n",
      "3 * 8 = 24\n",
      "3 * 9 = 27\n",
      "3 * 10 = 30\n"
     ]
    }
   ],
   "source": [
    "cal.tableMult(3)"
   ]
  },
  {
   "cell_type": "code",
   "execution_count": 166,
   "metadata": {
    "collapsed": true
   },
   "outputs": [
    {
     "name": "stdout",
     "output_type": "stream",
     "text": [
      "1 * 1 = 1\n",
      "1 * 2 = 2\n",
      "1 * 3 = 3\n",
      "1 * 4 = 4\n",
      "1 * 5 = 5\n",
      "1 * 6 = 6\n",
      "1 * 7 = 7\n",
      "1 * 8 = 8\n",
      "1 * 9 = 9\n",
      "1 * 10 = 10\n",
      "**************************************************\n",
      "2 * 1 = 2\n",
      "2 * 2 = 4\n",
      "2 * 3 = 6\n",
      "2 * 4 = 8\n",
      "2 * 5 = 10\n",
      "2 * 6 = 12\n",
      "2 * 7 = 14\n",
      "2 * 8 = 16\n",
      "2 * 9 = 18\n",
      "2 * 10 = 20\n",
      "**************************************************\n",
      "3 * 1 = 3\n",
      "3 * 2 = 6\n",
      "3 * 3 = 9\n",
      "3 * 4 = 12\n",
      "3 * 5 = 15\n",
      "3 * 6 = 18\n",
      "3 * 7 = 21\n",
      "3 * 8 = 24\n",
      "3 * 9 = 27\n",
      "3 * 10 = 30\n",
      "**************************************************\n",
      "4 * 1 = 4\n",
      "4 * 2 = 8\n",
      "4 * 3 = 12\n",
      "4 * 4 = 16\n",
      "4 * 5 = 20\n",
      "4 * 6 = 24\n",
      "4 * 7 = 28\n",
      "4 * 8 = 32\n",
      "4 * 9 = 36\n",
      "4 * 10 = 40\n",
      "**************************************************\n",
      "5 * 1 = 5\n",
      "5 * 2 = 10\n",
      "5 * 3 = 15\n",
      "5 * 4 = 20\n",
      "5 * 5 = 25\n",
      "5 * 6 = 30\n",
      "5 * 7 = 35\n",
      "5 * 8 = 40\n",
      "5 * 9 = 45\n",
      "5 * 10 = 50\n",
      "**************************************************\n",
      "6 * 1 = 6\n",
      "6 * 2 = 12\n",
      "6 * 3 = 18\n",
      "6 * 4 = 24\n",
      "6 * 5 = 30\n",
      "6 * 6 = 36\n",
      "6 * 7 = 42\n",
      "6 * 8 = 48\n",
      "6 * 9 = 54\n",
      "6 * 10 = 60\n",
      "**************************************************\n",
      "7 * 1 = 7\n",
      "7 * 2 = 14\n",
      "7 * 3 = 21\n",
      "7 * 4 = 28\n",
      "7 * 5 = 35\n",
      "7 * 6 = 42\n",
      "7 * 7 = 49\n",
      "7 * 8 = 56\n",
      "7 * 9 = 63\n",
      "7 * 10 = 70\n",
      "**************************************************\n",
      "8 * 1 = 8\n",
      "8 * 2 = 16\n",
      "8 * 3 = 24\n",
      "8 * 4 = 32\n",
      "8 * 5 = 40\n",
      "8 * 6 = 48\n",
      "8 * 7 = 56\n",
      "8 * 8 = 64\n",
      "8 * 9 = 72\n",
      "8 * 10 = 80\n",
      "**************************************************\n",
      "9 * 1 = 9\n",
      "9 * 2 = 18\n",
      "9 * 3 = 27\n",
      "9 * 4 = 36\n",
      "9 * 5 = 45\n",
      "9 * 6 = 54\n",
      "9 * 7 = 63\n",
      "9 * 8 = 72\n",
      "9 * 9 = 81\n",
      "9 * 10 = 90\n",
      "**************************************************\n"
     ]
    }
   ],
   "source": [
    "cal.allTablesMult()"
   ]
  },
  {
   "cell_type": "code",
   "execution_count": 182,
   "metadata": {
    "scrolled": true
   },
   "outputs": [
    {
     "data": {
      "text/plain": [
       "[1, 2, 4, 5, 10, 20, 25, 50, 100]"
      ]
     },
     "execution_count": 182,
     "metadata": {},
     "output_type": "execute_result"
    }
   ],
   "source": [
    "cal.listDiv(100)"
   ]
  },
  {
   "cell_type": "code",
   "execution_count": 184,
   "metadata": {},
   "outputs": [
    {
     "data": {
      "text/plain": [
       "[2, 5]"
      ]
     },
     "execution_count": 184,
     "metadata": {},
     "output_type": "execute_result"
    }
   ],
   "source": [
    "cal.listDivPrim(100)"
   ]
  },
  {
   "cell_type": "markdown",
   "metadata": {
    "id": "0yn23_oEriXa"
   },
   "source": [
    "##`Q-4`: Build flashcard using class in Python.\n",
    "\n",
    "Build a flashcard using class in python. A flashcard is a card having information on both sides, which can be used as an aid in memoization. Flashcards usually have a question on one side and an answer on the other.\n",
    "\n",
    "**Example 1:**\n",
    "\n",
    "Approach:\n",
    "\n",
    "- Create a class named FlashCard.\n",
    "- Initialize dictionary fruits using __init__() method. Here you have to define fruit name as key and it's color as value. E.g., {\"Banana\": \"yellow\", \"Strawberries\": \"pink\"}\n",
    "- Now randomly choose a pair from fruits by using _random_ module and store the key in variable _fruit_ and _value_ in variable color.\n",
    "- Now prompt the user to answer the color of the randomly chosen fruit.\n",
    "- If correct print correct else print wrong.\n",
    "\n",
    "Output:\n",
    "```bash\n",
    "welcome to fruit quiz\n",
    "What is the color of Strawberries\n",
    "pink\n",
    "Correct answer\n",
    "Enter 0, if you want to play again: 0\n",
    "What is the color of watermelon\n",
    "green\n",
    "Correct answer\n",
    "Enter 0, if you want to play again: 1\n",
    "```"
   ]
  },
  {
   "cell_type": "code",
   "execution_count": 30,
   "metadata": {
    "id": "vCrUF6VU6l6w"
   },
   "outputs": [],
   "source": [
    "# write your code here\n",
    "import random\n",
    "\n",
    "class FlashCard:\n",
    "    \n",
    "    def __init__(self):\n",
    "        fruit_colors = {\n",
    "                \"Apple\": \"red\",\n",
    "                \"Banana\": \"yellow\",\n",
    "                \"Orange\": \"orange\",\n",
    "                \"Grape\": \"purple\",\n",
    "                \"Watermelon\": \"green\",\n",
    "                \"Strawberry\": \"red\",\n",
    "                \"Kiwi\": \"green\",\n",
    "                \"Blueberry\": \"blue\",\n",
    "                \"Mango\": \"yellow\",\n",
    "                \"Pineapple\": \"yellow\",\n",
    "                \"Cherry\": \"red\",\n",
    "                \"Pear\": \"green\",\n",
    "                \"Lemon\": \"yellow\",\n",
    "                \"Peach\": \"orange\",\n",
    "                \"Plum\": \"purple\"\n",
    "            }\n",
    "        self.dict = fruit_colors\n",
    "        self.menu()\n",
    "        \n",
    "    def menu(self):\n",
    "        \n",
    "        key,value = random.choice(list(self.dict.items()))\n",
    "        \n",
    "        while True :\n",
    "        \n",
    "            user = input(f'What is the color of {key}:')\n",
    "\n",
    "            if user.lower() == value.lower():\n",
    "                print('Correct answer')\n",
    "            else:\n",
    "                print('Wrong answer.')\n",
    "                print(f'Correct answer was {value}')\n",
    "\n",
    "            exit = int(input('Enter 0, if you want to play again:'))\n",
    "            \n",
    "            if exit:\n",
    "                break\n",
    "                \n",
    "                                 "
   ]
  },
  {
   "cell_type": "code",
   "execution_count": 31,
   "metadata": {},
   "outputs": [
    {
     "name": "stdout",
     "output_type": "stream",
     "text": [
      "**************************Welcome to fruit quiz******************************\n",
      "What is the color of Pineapple:yellow\n",
      "Correct answer\n",
      "Enter 0, if you want to play again:0\n",
      "What is the color of Pineapple:j\n",
      "Wrong answer.\n",
      "Correct answer was yellow\n",
      "Enter 0, if you want to play again:0\n",
      "What is the color of Pineapple:1\n",
      "Wrong answer.\n",
      "Correct answer was yellow\n",
      "Enter 0, if you want to play again:1\n"
     ]
    }
   ],
   "source": [
    "print( '**************************Welcome to fruit quiz******************************')\n",
    "game = FlashCard()"
   ]
  },
  {
   "cell_type": "markdown",
   "metadata": {
    "id": "GN2r0jbRewYr"
   },
   "source": [
    "## `Q-5:` Problem 5 based on OOP Python.\n",
    "\n",
    "TechWorld, a technology training center, wants to allocate courses for instructors. An instructor is identified by name, technology skills, experience and average feedback. An instructor is allocated a course, if he/she satisfies the below two conditions:\n",
    "- eligibility criteria:\n",
    "    - if experience is more than 3 years, average feedback should be 4.5 or more\n",
    "    - if experience is 3 years or less, average feedback should be 4 or more\n",
    "- he/she should posses the technology skill for the course\n",
    "\n",
    "Identify the class name and attributes to represent instructors. Write a Python program to implement the class chosen with its attributes and methods.\n",
    "\n",
    "**Note:**\n",
    "- Consider all instance variables to be private and methods to be public.\n",
    "- An instructor may have multiple technology skills, so consider instance variable, technology_skill to be a list.\n",
    "- *check_eligibility()*: Return true if eligibility criteria is satisfied by the instructor. Else, return false\n",
    "- *allocate_course(technology)*: Return true if the course which requires the given technology can be allocated to the instructor. Else, return false.\n",
    "\n",
    "Represent a few objects of the class, initialize instance variables using setter methods, invoke\n",
    "appropriate methods and test your program."
   ]
  },
  {
   "cell_type": "code",
   "execution_count": 38,
   "metadata": {},
   "outputs": [
    {
     "data": {
      "text/plain": [
       "'Ye to usko aata hi nahi hai'"
      ]
     },
     "execution_count": 38,
     "metadata": {},
     "output_type": "execute_result"
    }
   ],
   "source": [
    "class Instructor:\n",
    "    \n",
    "    def __init__(self,name,technology, experience, feedback):\n",
    "        self.__name = name\n",
    "        self.__experience = experience\n",
    "        self.__feedback = feedback\n",
    "        self.__technology = technology\n",
    "        \n",
    "    def check_eligibility(self):\n",
    "        if self.__experience > 3 and self.__feedback >= 4.5:\n",
    "                return True\n",
    "        elif self.experience <= 3 and self.__feedback >4:\n",
    "            return True\n",
    "        else:\n",
    "            return False\n",
    "        \n",
    "    def allocate_course(self,tech):\n",
    "        is_eligible = self.check_eligibility()\n",
    "        if is_eligible:\n",
    "            if tech in self.__technology:\n",
    "                return 'Padha sakta hai'\n",
    "            else:\n",
    "                return 'Ye to usko aata hi nahi hai'\n",
    "        else:\n",
    "            return 'accha nahi padhata hai'\n",
    "        \n",
    "ins = Instructor('Nitish',['Data Science','Web Development'],5,4.9)\n",
    "ins.allocate_course('Android')"
   ]
  },
  {
   "cell_type": "code",
   "execution_count": 32,
   "metadata": {
    "id": "pdMFuVFnlvKL"
   },
   "outputs": [],
   "source": [
    "# write your code here\n",
    "\n",
    "class Instructor:\n",
    "    \n",
    "    def __init__(self,name,experience,avg_feedback,*skills):\n",
    "        self.name = name\n",
    "        self.experience = experience\n",
    "        self.avg_feedback = avg_feedback\n",
    "        self.skills = list(skills)\n",
    "    \n",
    "    \n",
    "    \n",
    "        \n",
    "    def check_eligibility(self):\n",
    "        \n",
    "        if self.experience > 3:\n",
    "            return True\n",
    "        \n",
    "        elif self.experience <= 3 and self.avg_feedback >= 4.5:\n",
    "                return True\n",
    "        else:\n",
    "            return False\n",
    "        \n",
    "    def allocate_course(self, technology):\n",
    "        \n",
    "        if technology in self.skills:\n",
    "            return True\n",
    "        else:\n",
    "            return False\n",
    "        \n",
    "        "
   ]
  },
  {
   "cell_type": "code",
   "execution_count": 33,
   "metadata": {},
   "outputs": [],
   "source": [
    "instructor = Instructor('Mohan',2,3,'Python','C++','Java')"
   ]
  },
  {
   "cell_type": "code",
   "execution_count": 34,
   "metadata": {},
   "outputs": [
    {
     "data": {
      "text/plain": [
       "True"
      ]
     },
     "execution_count": 34,
     "metadata": {},
     "output_type": "execute_result"
    }
   ],
   "source": [
    "instructor.allocate_course('Python')"
   ]
  },
  {
   "cell_type": "code",
   "execution_count": 35,
   "metadata": {},
   "outputs": [
    {
     "data": {
      "text/plain": [
       "False"
      ]
     },
     "execution_count": 35,
     "metadata": {},
     "output_type": "execute_result"
    }
   ],
   "source": [
    "instructor.check_eligibility()"
   ]
  },
  {
   "cell_type": "code",
   "execution_count": null,
   "metadata": {},
   "outputs": [],
   "source": []
  }
 ],
 "metadata": {
  "colab": {
   "provenance": []
  },
  "kernelspec": {
   "display_name": "Python 3 (ipykernel)",
   "language": "python",
   "name": "python3"
  },
  "language_info": {
   "codemirror_mode": {
    "name": "ipython",
    "version": 3
   },
   "file_extension": ".py",
   "mimetype": "text/x-python",
   "name": "python",
   "nbconvert_exporter": "python",
   "pygments_lexer": "ipython3",
   "version": "3.9.12"
  }
 },
 "nbformat": 4,
 "nbformat_minor": 1
}
