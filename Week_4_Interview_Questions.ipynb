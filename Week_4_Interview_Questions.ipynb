{
 "cells": [
  {
   "cell_type": "markdown",
   "id": "31b949aa",
   "metadata": {},
   "source": [
    "### 1. What do you mean by __name__ == '__main__'"
   ]
  },
  {
   "cell_type": "markdown",
   "id": "e2a824d4",
   "metadata": {},
   "source": [
    "### What is a module?\n",
    "Any file with an extention of .py is called a module in python.\n",
    "\n",
    "Whenever we execute a program it's module name is *__main*__ and this name is stored in *__name*__ variable\n",
    "\n",
    "Self file is called *__main*__ If the file is imported in different file and if you have unnecessary code lying aroung that you don't want it to run in another file write a blocking syntex if *__name*__ == '*__main*__' and shift that block of code inside if statement so that when that file is imported in another file it won't run in that particular file.\n",
    "\n",
    "If you still want to run that hidden code under *__name*__ == *__main*__ just make a getter method and throw that that function under main\n",
    "\n",
    "##### In another file if you run print(module.*__name*__ ) by importing that particular file it won't show *__main*__"
   ]
  },
  {
   "cell_type": "code",
   "execution_count": 1,
   "id": "4d38515b",
   "metadata": {},
   "outputs": [
    {
     "name": "stdout",
     "output_type": "stream",
     "text": [
      "hello\n",
      "__main__\n"
     ]
    }
   ],
   "source": [
    "def display():\n",
    "  print('hello')\n",
    "\n",
    "display()\n",
    "print(__name__)"
   ]
  },
  {
   "cell_type": "markdown",
   "id": "1c36a62d",
   "metadata": {},
   "source": [
    "# Importing a module\n",
    "- But what is the need to import a module?\n",
    "- How to import a module"
   ]
  },
  {
   "cell_type": "code",
   "execution_count": null,
   "id": "f8f5d428",
   "metadata": {},
   "outputs": [],
   "source": [
    "# import a module\n",
    "import test\n",
    "test.hello('nitish')"
   ]
  },
  {
   "cell_type": "code",
   "execution_count": 3,
   "id": "216638c8",
   "metadata": {},
   "outputs": [
    {
     "name": "stdout",
     "output_type": "stream",
     "text": [
      "4\n"
     ]
    }
   ],
   "source": [
    "# import multiple module -> user defined + builtin\n",
    "import math\n",
    "import test\n",
    "\n",
    "test.hello('nitish')\n",
    "print(math.floor(4.3))"
   ]
  },
  {
   "cell_type": "code",
   "execution_count": 4,
   "id": "7a65e702",
   "metadata": {},
   "outputs": [],
   "source": [
    "# show builtin modules\n",
    "# go to the folder where you've installed python you'll see the files that are builtins"
   ]
  },
  {
   "cell_type": "markdown",
   "id": "3e1a82dd",
   "metadata": {},
   "source": [
    "# Variations of import statement"
   ]
  },
  {
   "cell_type": "code",
   "execution_count": 5,
   "id": "326633f6",
   "metadata": {},
   "outputs": [],
   "source": [
    "# Normal\n",
    "import math\n",
    "import random"
   ]
  },
  {
   "cell_type": "code",
   "execution_count": 6,
   "id": "bf174b44",
   "metadata": {},
   "outputs": [],
   "source": [
    "# clubbing together\n",
    "import math,random,test"
   ]
  },
  {
   "cell_type": "code",
   "execution_count": 7,
   "id": "fa09fcd0",
   "metadata": {},
   "outputs": [
    {
     "ename": "ImportError",
     "evalue": "cannot import name 'hello' from 'test' (C:\\Users\\Aniket\\anaconda3\\lib\\test\\__init__.py)",
     "output_type": "error",
     "traceback": [
      "\u001b[1;31m---------------------------------------------------------------------------\u001b[0m",
      "\u001b[1;31mImportError\u001b[0m                               Traceback (most recent call last)",
      "Input \u001b[1;32mIn [7]\u001b[0m, in \u001b[0;36m<cell line: 3>\u001b[1;34m()\u001b[0m\n\u001b[0;32m      1\u001b[0m \u001b[38;5;66;03m# importing specific names from module\u001b[39;00m\n\u001b[0;32m      2\u001b[0m \u001b[38;5;28;01mfrom\u001b[39;00m \u001b[38;5;21;01mmath\u001b[39;00m \u001b[38;5;28;01mimport\u001b[39;00m factorial,floor\n\u001b[1;32m----> 3\u001b[0m \u001b[38;5;28;01mfrom\u001b[39;00m \u001b[38;5;21;01mtest\u001b[39;00m \u001b[38;5;28;01mimport\u001b[39;00m hello\n\u001b[0;32m      5\u001b[0m \u001b[38;5;28mprint\u001b[39m(factorial(\u001b[38;5;241m5\u001b[39m))\n\u001b[0;32m      6\u001b[0m \u001b[38;5;28mprint\u001b[39m(ceil(\u001b[38;5;241m4.8\u001b[39m))\n",
      "\u001b[1;31mImportError\u001b[0m: cannot import name 'hello' from 'test' (C:\\Users\\Aniket\\anaconda3\\lib\\test\\__init__.py)"
     ]
    }
   ],
   "source": [
    "# importing specific names from module\n",
    "from math import factorial,floor\n",
    "from test import hello\n",
    "\n",
    "print(factorial(5))\n",
    "print(ceil(4.8)) # it is not imported specifically"
   ]
  },
  {
   "cell_type": "code",
   "execution_count": 9,
   "id": "3601a3e4",
   "metadata": {},
   "outputs": [
    {
     "data": {
      "text/plain": [
       "120"
      ]
     },
     "execution_count": 9,
     "metadata": {},
     "output_type": "execute_result"
    }
   ],
   "source": [
    "# renaming modules\n",
    "import math as m\n",
    "import numpy as np\n",
    "import pandas as pd\n",
    "import matplotlib.pyplot as plt\n",
    "\n",
    "\n",
    "m.factorial(5)"
   ]
  },
  {
   "cell_type": "code",
   "execution_count": 10,
   "id": "c097bc13",
   "metadata": {},
   "outputs": [
    {
     "data": {
      "text/plain": [
       "120"
      ]
     },
     "execution_count": 10,
     "metadata": {},
     "output_type": "execute_result"
    }
   ],
   "source": [
    "from math import factorial as f\n",
    "\n",
    "f(5)"
   ]
  },
  {
   "cell_type": "markdown",
   "id": "e681a29b",
   "metadata": {},
   "source": [
    "# Order of execution of a module"
   ]
  },
  {
   "cell_type": "code",
   "execution_count": 11,
   "id": "f0f4c955",
   "metadata": {},
   "outputs": [
    {
     "name": "stdout",
     "output_type": "stream",
     "text": [
      "C:\\Users\\Aniket\\CampusX - Python Course\n",
      "C:\\Users\\Aniket\\anaconda3\\python39.zip\n",
      "C:\\Users\\Aniket\\anaconda3\\DLLs\n",
      "C:\\Users\\Aniket\\anaconda3\\lib\n",
      "C:\\Users\\Aniket\\anaconda3\n",
      "\n",
      "C:\\Users\\Aniket\\anaconda3\\lib\\site-packages\n",
      "C:\\Users\\Aniket\\anaconda3\\lib\\site-packages\\win32\n",
      "C:\\Users\\Aniket\\anaconda3\\lib\\site-packages\\win32\\lib\n",
      "C:\\Users\\Aniket\\anaconda3\\lib\\site-packages\\Pythonwin\n"
     ]
    }
   ],
   "source": [
    "import sys\n",
    "for p in sys.path:\n",
    "  print(p)"
   ]
  },
  {
   "cell_type": "markdown",
   "id": "2a9d8041",
   "metadata": {},
   "source": [
    "## What are packages in Python\n",
    "A package in python is a directory containing similar sub packages and modules.\n",
    "\n",
    "- A particular directory is treated as package if it has *__init*__.py file in it.\n",
    "- The *__init*__.py file may be empty or contain some initialization code related to the package"
   ]
  },
  {
   "cell_type": "code",
   "execution_count": 12,
   "id": "73625bc1",
   "metadata": {},
   "outputs": [],
   "source": [
    "# In order to make a packages go to pycharm create a new Packages folder not normal folder Packages folder\n",
    "# And basically you can create heirarchy of Packages folder and modules.py\n",
    "# And import that package and use it"
   ]
  },
  {
   "cell_type": "markdown",
   "id": "581fb5a0",
   "metadata": {},
   "source": [
    "# What are 3rd party packages?\n",
    "- The python community creates packages and make it available for other programmers\n",
    "- PyPI -> Python Package Index\n",
    "- You can upload your own package\n",
    "- You can also install packages from PyPI and install using pip\n",
    "- pip is a package manager utility\n",
    "- it is automatically installed with python"
   ]
  },
  {
   "cell_type": "code",
   "execution_count": null,
   "id": "4cb298aa",
   "metadata": {},
   "outputs": [],
   "source": []
  }
 ],
 "metadata": {
  "kernelspec": {
   "display_name": "Python 3 (ipykernel)",
   "language": "python",
   "name": "python3"
  },
  "language_info": {
   "codemirror_mode": {
    "name": "ipython",
    "version": 3
   },
   "file_extension": ".py",
   "mimetype": "text/x-python",
   "name": "python",
   "nbconvert_exporter": "python",
   "pygments_lexer": "ipython3",
   "version": "3.9.12"
  }
 },
 "nbformat": 4,
 "nbformat_minor": 5
}
