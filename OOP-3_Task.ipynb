{
 "cells": [
  {
   "cell_type": "markdown",
   "metadata": {
    "id": "BCleRtX43caS"
   },
   "source": [
    "### `Problem-1:` Class inheritence\n",
    "\n",
    "Create a **Bus** child class that inherits from the Vehicle class. The default fare charge of any vehicle is seating capacity * 100. If Vehicle is Bus instance, we need to add an extra 10% on full fare as a maintenance charge. So total fare for bus instance will become the final amount = total fare + 10% of the total fare.\n",
    "\n",
    "Note: The bus seating capacity is 50. so the final fare amount should be 5500. You need to override the fare() method of a Vehicle class in Bus class."
   ]
  },
  {
   "cell_type": "code",
   "execution_count": 5,
   "metadata": {
    "colab": {
     "base_uri": "https://localhost:8080/"
    },
    "id": "6jVFCXKz3YZI",
    "outputId": "a8649209-08e2-4f60-a914-74a914dd697e"
   },
   "outputs": [
    {
     "name": "stdout",
     "output_type": "stream",
     "text": [
      "5500.0\n"
     ]
    }
   ],
   "source": [
    "# Write code here\n",
    "\n",
    "class Vehicle:\n",
    "    \n",
    "    def __init__(self,type, capacity):\n",
    "        self.type = type\n",
    "        self.capacity = capacity\n",
    "        \n",
    "    def fare(self):\n",
    "        return 100*self.capacity      \n",
    "        \n",
    "\n",
    "class Bus(Vehicle):\n",
    "    \n",
    "    def fare(self):\n",
    "        base_fare = super().fare()\n",
    "        bus_fare = base_fare + 0.1*base_fare\n",
    "        return bus_fare\n",
    "    \n",
    "bus = Bus('school bus', 50)\n",
    "print(bus.fare())"
   ]
  },
  {
   "cell_type": "markdown",
   "metadata": {
    "id": "ExIxsv4y-oEd"
   },
   "source": [
    "### `Problem-3:` Write a program that has a class Point. Define another class Location which has two objects (Location & Destination) of class Point. Also define a function in Location that prints the reflection of Destination on the x axis."
   ]
  },
  {
   "cell_type": "code",
   "execution_count": 11,
   "metadata": {
    "id": "yT2QtzQp5VAB"
   },
   "outputs": [
    {
     "name": "stdout",
     "output_type": "stream",
     "text": [
      "Source is  2,4\n",
      "Destination is  1,1\n",
      "Reflection of Destination on X_axis is: 1,-1\n"
     ]
    }
   ],
   "source": [
    "class Point:\n",
    "    \n",
    "    def __init__(self,x,y):\n",
    "        self.x = x\n",
    "        self.y = y\n",
    "        \n",
    "    def show_point(self):\n",
    "        return '{},{}'.format(self.x,self.y)\n",
    "    \n",
    "class Location:\n",
    "    \n",
    "    def __init__(self, x1,y1,x2,y2):\n",
    "        self.source = Point(x1,y1)\n",
    "        self.destination = Point(x2,y2)\n",
    "    \n",
    "    def show(self):\n",
    "        print('Source is ',self.source.show_point())\n",
    "        print('Destination is ',self.destination.show_point())\n",
    "        \n",
    "    def reflection(self):\n",
    "        self.destination.y = -self.destination.y\n",
    "        print('Reflection of Destination on X_axis is:',self.destination.show_point() )\n",
    "        \n",
    "    \n",
    "    \n",
    "\n",
    "loc = Location(0,0,1,1)\n",
    "    \n",
    "loc.show()\n",
    "loc.reflection()"
   ]
  },
  {
   "cell_type": "markdown",
   "metadata": {
    "id": "OcQhJvXVALgp"
   },
   "source": [
    "### `Problem-4:` Write a program that has an abstract class Polygon. Derive two classes Rectangle and Triamgle from Polygon and write methods to get the details of their dimensions and hence calculate the area."
   ]
  },
  {
   "cell_type": "code",
   "execution_count": 15,
   "metadata": {
    "id": "9IMrtdUH__eA"
   },
   "outputs": [
    {
     "name": "stdout",
     "output_type": "stream",
     "text": [
      "20\n",
      "10.0\n"
     ]
    }
   ],
   "source": [
    "from abc import ABC, abstractmethod\n",
    "class Polygon(ABC):\n",
    "    \n",
    "    @abstractmethod\n",
    "    def get_data():\n",
    "        pass\n",
    "    \n",
    "    @abstractmethod\n",
    "    def area():\n",
    "        pass\n",
    "    \n",
    "    \n",
    "    \n",
    "class Rectangle(Polygon):\n",
    "    \n",
    "    def get_data(self,length, breadth):\n",
    "        self.length = length\n",
    "        self.breadth = breadth\n",
    "        \n",
    "    def area(self):\n",
    "        return self.length * self.breadth\n",
    "    \n",
    "    \n",
    "class Triangle(Polygon):\n",
    "    \n",
    "    def get_data(self, base, height):\n",
    "        self.base = base\n",
    "        self.height = height\n",
    "        \n",
    "    def area(self):\n",
    "        return (0.5 * self.base) * self.height \n",
    "    \n",
    "\n",
    "rec = Rectangle()     \n",
    "tri = Triangle()\n",
    "\n",
    "rec.get_data(4,5)\n",
    "tri.get_data(4,5)\n",
    " \n",
    "print(rec.area())\n",
    "print(tri.area())"
   ]
  },
  {
   "cell_type": "markdown",
   "metadata": {
    "id": "sEsGEqOHCSWG"
   },
   "source": [
    "### `Problem-5:` Write a program with class Bill. The users have the option to pay the bill either by cheque or by cash. Use the inheritance to model this situation."
   ]
  },
  {
   "cell_type": "code",
   "execution_count": 74,
   "metadata": {
    "id": "l0WFyP2PB3nf"
   },
   "outputs": [],
   "source": [
    "class Bill:\n",
    "    \n",
    "    def __init__(self, items, price):\n",
    "        self.items = items\n",
    "        self.price = price\n",
    "        self.total = sum(price)\n",
    "        \n",
    "        \n",
    "    \n",
    "    def display(self):\n",
    "        print(\"Item                Price\")\n",
    "        print(\"-----------------   -----\")\n",
    "        \n",
    "        for item, price in zip(self.items, self.price):\n",
    "            # Calculate the number of spaces needed to align the prices\n",
    "            spaces = \" \" * (20 - len(item))\n",
    "            # Print the item and its price in the table format\n",
    "            print(item + spaces + str(price))\n",
    "            \n",
    "        print(\"*\"*10)\n",
    "        space = ' '*(20-len('Total: '))\n",
    "        print('Total: '+ space + str(self.total))\n",
    "        print()\n",
    "        \n",
    "class CashPayment(Bill):\n",
    "    \n",
    "    def __init__(self,items,price,deno,value):\n",
    "        super().__init__(items,price)\n",
    "        \n",
    "        self.deno = deno\n",
    "        self.value = value\n",
    "        \n",
    "    def show_cash_payment(self):\n",
    "        super().display()\n",
    "        for i in range(len(self.deno)):\n",
    "            print(self.deno[i], \"*\", self.value[i], '=', self.deno[i]*self.value[i])\n",
    "            \n",
    "\n",
    "class ChequePayment(Bill):\n",
    "    \n",
    "    def __init__(self,items,price,cno,name):\n",
    "        super().__init__(items,price)\n",
    "        \n",
    "        self.cno = cno\n",
    "        self.name = name\n",
    "        \n",
    "    def show_cheque_payment(self):\n",
    "        super().display()\n",
    "        print('Cheque no ', self.cno)\n",
    "        print('Bank name ', self.name)\n",
    "    "
   ]
  },
  {
   "cell_type": "code",
   "execution_count": 78,
   "metadata": {},
   "outputs": [
    {
     "name": "stdout",
     "output_type": "stream",
     "text": [
      "Would you like to pay by cheque or cash (1/2): 2\n",
      "Item                Price\n",
      "-----------------   -----\n",
      "External Hard Disk  5000\n",
      "RAM                 2000\n",
      "Printer             6000\n",
      "Pen Drive           800\n",
      "**********\n",
      "Total:              13800\n",
      "\n",
      "10 * 1 = 10\n",
      "20 * 1 = 20\n",
      "50 * 1 = 50\n",
      "100 * 20 = 2000\n",
      "500 * 4 = 2000\n",
      "2000 * 5 = 10000\n"
     ]
    }
   ],
   "source": [
    "items = [\"External Hard Disk\", \"RAM\", \"Printer\", \"Pen Drive\"]\n",
    "price = [5000, 2000, 6000, 800]\n",
    "option = int(input(\"Would you like to pay by cheque or cash (1/2): \"))\n",
    "\n",
    "if option == 1:\n",
    "    name = input(\"Enter the name of the bank: \")\n",
    "    cno = input(\"Enter the cheque number: \")\n",
    "    print()\n",
    "    cheque = ChequePayment(items, price, cno, name)\n",
    "    cheque.show_cheque_payment()\n",
    "\n",
    "else:\n",
    "    deno = [10, 20, 50, 100, 500, 2000]\n",
    "    value = [1, 1, 1, 20, 4, 5]\n",
    "    cash = CashPayment(items, price, deno, value)\n",
    "    cash.show_cash_payment()"
   ]
  },
  {
   "cell_type": "markdown",
   "metadata": {
    "id": "v1M5Yh9ZZO0z"
   },
   "source": [
    "###`Q-6:` FlexibleDict\n",
    "As of now we are accessing values from dictionary with exact keys. Now we want to amend accessing values functionality. if a dict have key `1` (int) the even if we try to access values by giving `'1'` (1 as str) as key, we should get the same result and vice versa.\n",
    "\n",
    "Write a class `FlexibleDict` upon builtin `dict` class with above required functionality.\n",
    "\n",
    "Hint- `dict[key] => dict.__getitem__(key)` "
   ]
  },
  {
   "cell_type": "markdown",
   "metadata": {
    "id": "uajGeWegbfda"
   },
   "source": [
    "Ex.\n",
    "```\n",
    "fd = FlexibleDict()\n",
    "fd['a'] = 100\n",
    "print(fd['a']) # Like regular dict\n",
    "\n",
    "fd[5] = 500\n",
    "print(fd[5]) # Like regular dict\n",
    "\n",
    "fd[1] = 100\n",
    "print(fd['1']) # actual Key is int but still trying to access through str key.\n",
    "fd['1'] = 100\n",
    "print(fd[1])\n",
    "\n",
    "```\n",
    "`Output:`\n",
    "```\n",
    "100\n",
    "500\n",
    "100\n",
    "100\n",
    "\n",
    "```"
   ]
  },
  {
   "cell_type": "code",
   "execution_count": null,
   "metadata": {
    "id": "OHLbOtCxZ2nw"
   },
   "outputs": [],
   "source": []
  },
  {
   "cell_type": "code",
   "execution_count": null,
   "metadata": {
    "id": "7NM8r__dmeMf"
   },
   "outputs": [],
   "source": []
  },
  {
   "cell_type": "code",
   "execution_count": null,
   "metadata": {
    "id": "waHSud8Ymkz-"
   },
   "outputs": [],
   "source": []
  }
 ],
 "metadata": {
  "colab": {
   "collapsed_sections": [
    "BCleRtX43caS",
    "KBbGNTtQ47mJ",
    "ExIxsv4y-oEd",
    "OcQhJvXVALgp",
    "sEsGEqOHCSWG",
    "v1M5Yh9ZZO0z"
   ],
   "provenance": []
  },
  "kernelspec": {
   "display_name": "Python 3 (ipykernel)",
   "language": "python",
   "name": "python3"
  },
  "language_info": {
   "codemirror_mode": {
    "name": "ipython",
    "version": 3
   },
   "file_extension": ".py",
   "mimetype": "text/x-python",
   "name": "python",
   "nbconvert_exporter": "python",
   "pygments_lexer": "ipython3",
   "version": "3.9.12"
  }
 },
 "nbformat": 4,
 "nbformat_minor": 1
}
