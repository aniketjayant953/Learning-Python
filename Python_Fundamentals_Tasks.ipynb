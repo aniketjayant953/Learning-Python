{
 "cells": [
  {
   "cell_type": "markdown",
   "id": "3a3655ce",
   "metadata": {},
   "source": [
    "# Task : Session 1\n",
    "Solve these questions own your own and try to test yourself what you have learned in the session.\n",
    "\n",
    "Happy Learning!"
   ]
  },
  {
   "cell_type": "markdown",
   "id": "8676c156",
   "metadata": {},
   "source": [
    "### Q1 :- Print the given strings as per stated format.\n",
    "\n",
    "#### Given strings: \n",
    "\n",
    "\"Data\" \"Science\" \"Mentorship\" \"Program\" \n",
    "\"By\" \"CampusX\"\n",
    "\n",
    "#### Output: \n",
    " \n",
    "Data-Science-Mentorship-Program-started-By-CampusX\n",
    "\n",
    "\n",
    "Concept- 'Seperator and End'"
   ]
  },
  {
   "cell_type": "code",
   "execution_count": 1,
   "id": "3302329b",
   "metadata": {},
   "outputs": [
    {
     "name": "stdout",
     "output_type": "stream",
     "text": [
      "Data-Science-Mentorship-Program-started-By-CampusX\n"
     ]
    }
   ],
   "source": [
    "# Write your code here\n",
    "print(\"Data\" ,\"Science\", \"Mentorship\" ,\"Program\", end = '-started-',sep='-')\n",
    "print(\"By\", \"CampusX\",sep='-')"
   ]
  },
  {
   "cell_type": "markdown",
   "id": "c0d672fe",
   "metadata": {},
   "source": [
    "### Q2:- Write a program that will convert celsius value to fahrenheit."
   ]
  },
  {
   "cell_type": "code",
   "execution_count": 2,
   "id": "6f7c6959",
   "metadata": {},
   "outputs": [
    {
     "name": "stdout",
     "output_type": "stream",
     "text": [
      "Celcius : 34\n",
      "93.2 F\n"
     ]
    }
   ],
   "source": [
    "# Write your code here\n",
    "cel = int(input('Celcius : '))\n",
    "faren = cel * (9/5) + 32\n",
    "print(faren,'F')"
   ]
  },
  {
   "cell_type": "markdown",
   "id": "d0ba5fe9",
   "metadata": {},
   "source": [
    "### Q3:- Take 2 numbers as input from the user.Write a program to swap the numbers without using any special python syntax."
   ]
  },
  {
   "cell_type": "code",
   "execution_count": 3,
   "id": "d51c5084",
   "metadata": {},
   "outputs": [
    {
     "name": "stdout",
     "output_type": "stream",
     "text": [
      "5\n",
      "3\n"
     ]
    }
   ],
   "source": [
    "# Write your code here\n",
    "\n",
    "a = 3\n",
    "b = 5\n",
    "temp = a\n",
    "a = b\n",
    "b = temp\n",
    "\n",
    "print(a)\n",
    "print(b)"
   ]
  },
  {
   "cell_type": "markdown",
   "id": "9fa3ebdd",
   "metadata": {
    "id": "waLCP1bjr7ML"
   },
   "source": [
    "### Q4:- Write a program to find the euclidean distance between two coordinates.Take both the coordinates from the user as input."
   ]
  },
  {
   "cell_type": "code",
   "execution_count": 4,
   "id": "094f5ccd",
   "metadata": {},
   "outputs": [
    {
     "name": "stdout",
     "output_type": "stream",
     "text": [
      "Enter x cord of 1st point: 0\n",
      "Enter y cord of 1st point: 0\n",
      "Enter x cord of 2nd point: 2\n",
      "Enter y cord of 2nd point: 2\n",
      "2.83\n"
     ]
    }
   ],
   "source": [
    "# Write your code here\n",
    "p1x = int(input('Enter x cord of 1st point: '))\n",
    "p1y = int(input('Enter y cord of 1st point: '))\n",
    "p2x = int(input('Enter x cord of 2nd point: '))\n",
    "p2y = int(input('Enter y cord of 2nd point: '))\n",
    "\n",
    "distance = ((p2x - p1x)**2 + (p2y-p1y)**2)**0.5\n",
    "print(round(distance,2))"
   ]
  },
  {
   "cell_type": "markdown",
   "id": "97272eac",
   "metadata": {
    "id": "VLrhg-FRsHjR"
   },
   "source": [
    "### Q5:- Write a program to find the simple interest when the value of principle,rate of interest and time period is provided by the user.\n",
    "\n",
    "hint - si = (p * t * r)/100\n"
   ]
  },
  {
   "cell_type": "code",
   "execution_count": 5,
   "id": "887a829a",
   "metadata": {},
   "outputs": [
    {
     "name": "stdout",
     "output_type": "stream",
     "text": [
      "Enter amount: 1000\n",
      "Enter time period: 2\n",
      "Enter rate: 5\n",
      "the interest is 100.0\n"
     ]
    }
   ],
   "source": [
    "# Write your code here\n",
    "p = int(input('Enter amount: '))\n",
    "t = int(input('Enter time period: '))\n",
    "r = float(input('Enter rate: '))\n",
    "\n",
    "interest = (p*t*r)/100\n",
    "print('the interest is',interest)"
   ]
  },
  {
   "cell_type": "markdown",
   "id": "8b2d444b",
   "metadata": {
    "id": "LMy0BTUktYKa"
   },
   "source": [
    "### Q6:- Write a program that will tell the number of dogs and chicken are there when the user will provide the value of total heads and legs.\n",
    "\n",
    "For example:\n",
    "Input:\n",
    "heads -> 4\n",
    "legs -> 12\n",
    "<br>\n",
    "Output:\n",
    "dogs -> 2\n",
    "chicken -> 2\n",
    "\n",
    "\n",
    "\n"
   ]
  },
  {
   "cell_type": "code",
   "execution_count": 8,
   "id": "110e60c5",
   "metadata": {},
   "outputs": [
    {
     "name": "stdout",
     "output_type": "stream",
     "text": [
      "Enter head: 4\n",
      "Enter legs: 10\n",
      "dog -> 3.0\n",
      "chicken -> 1.0\n"
     ]
    }
   ],
   "source": [
    "# Write your code here\n",
    "heads = int(input('Enter head: '))\n",
    "legs = int(input('Enter legs: '))\n",
    "\n",
    "\n",
    "\n",
    "# assume all are chickens\n",
    "min_legs = heads * 2\n",
    "legs_chicken = legs - min_legs\n",
    "chickens = legs_chicken/2\n",
    "dogs = heads - chickens\n",
    "\n",
    "\n",
    "print('dog ->',dogs)\n",
    "print('chicken ->',chickens)"
   ]
  },
  {
   "cell_type": "markdown",
   "id": "d766dd4e",
   "metadata": {
    "id": "gJ7C5kZYt4BP"
   },
   "source": [
    "### Q7:- Write a program to find the sum of squares of first n natural numbers where n will be provided by the user."
   ]
  },
  {
   "cell_type": "code",
   "execution_count": 9,
   "id": "5ad2ab6c",
   "metadata": {},
   "outputs": [
    {
     "name": "stdout",
     "output_type": "stream",
     "text": [
      "Enter Num:5\n",
      "55.0\n"
     ]
    }
   ],
   "source": [
    "# Write your code here\n",
    "n = int(input('Enter Num:'))\n",
    "sum_of_squares = (n* (n+1)*(2*n+1))/6 \n",
    "print(sum_of_squares)\n",
    "\n",
    "# a = 0\n",
    "# for i in range(1,n+1):\n",
    "#     a += i**2\n",
    "# print(a)"
   ]
  },
  {
   "cell_type": "markdown",
   "id": "045d9316",
   "metadata": {
    "id": "FHrMM7g-yG1h"
   },
   "source": [
    "### Q8:- Given the first 2 terms of an Arithmetic Series.Find the Nth term of the series. Assume all inputs are provided by the user."
   ]
  },
  {
   "cell_type": "code",
   "execution_count": 10,
   "id": "3b43cfb6",
   "metadata": {},
   "outputs": [
    {
     "name": "stdout",
     "output_type": "stream",
     "text": [
      "Enter start: 3\n",
      "Enter end: 6\n",
      "Enter num: 5\n",
      "15\n"
     ]
    }
   ],
   "source": [
    "# Write your code here\n",
    "start = int(input('Enter start: '))\n",
    "end = int(input('Enter end: '))\n",
    "num = int(input('Enter num: '))\n",
    "\n",
    "d = end - start\n",
    "\n",
    "nth_term = start + (num - 1)*d\n",
    "\n",
    "print(nth_term)\n"
   ]
  },
  {
   "cell_type": "markdown",
   "id": "1a2bfdde",
   "metadata": {
    "id": "QgyRX_es1oum"
   },
   "source": [
    "### Q9:- Given 2 fractions, find the sum of those 2 fractions.Take the numerator and denominator values of the fractions from the user."
   ]
  },
  {
   "cell_type": "code",
   "execution_count": 11,
   "id": "7d9930e1",
   "metadata": {},
   "outputs": [
    {
     "name": "stdout",
     "output_type": "stream",
     "text": [
      "num1: 3\n",
      "den1: 7\n",
      "num2: 2\n",
      "den2: 11\n",
      "47 / 33\n"
     ]
    }
   ],
   "source": [
    "# Write your code here\n",
    "\n",
    "n1 = int(input('num1: '))\n",
    "d1 = int(input('den1: '))\n",
    "n2 = int(input('num2: '))\n",
    "d2 = int(input('den2: '))\n",
    "\n",
    "num = n1*d2 + n2*d1 \n",
    "den = n1*d2\n",
    "\n",
    "print(num , '/' , den)"
   ]
  },
  {
   "cell_type": "markdown",
   "id": "a1461a02",
   "metadata": {
    "id": "eaql38ln13u7"
   },
   "source": [
    "### Q10:- Given the height, width and breadth of a milk tank, you have to find out how many glasses of milk can be obtained? Assume all the inputs are provided by the user.\n",
    "\n",
    "\n",
    "\n",
    "Input:<br>\n",
    "Dimensions of the milk tank<br>\n",
    "H = 20cm, L = 20cm, B = 20cm\n",
    "<br><br>\n",
    "Dimensions of the glass<br>\n",
    "h = 3cm, r = 1cm"
   ]
  },
  {
   "cell_type": "code",
   "execution_count": 12,
   "id": "9ba0de98",
   "metadata": {},
   "outputs": [
    {
     "name": "stdout",
     "output_type": "stream",
     "text": [
      "Enter Tank dimension\n",
      "Enter H:10\n",
      "Enter L:19\n",
      "Enter B:10\n",
      "\n",
      "Enter glass dimension\n",
      "Enter h:5\n",
      "Enter r:2\n",
      "number of glasses :  30\n"
     ]
    }
   ],
   "source": [
    "# Write your code here\n",
    "import math\n",
    "print('Enter Tank dimension')\n",
    "H = float(input('Enter H:'))\n",
    "L = float(input('Enter L:'))\n",
    "B = float(input('Enter B:'))\n",
    "\n",
    "\n",
    "print()\n",
    "print('Enter glass dimension')\n",
    "h = float(input('Enter h:'))\n",
    "r = float(input('Enter r:'))\n",
    "pie = 3.14\n",
    "\n",
    "tank_area = H*L*B\n",
    "glass = pie* ((r)**2) *h\n",
    "\n",
    "print('number of glasses : ',math.floor(tank_area/glass))"
   ]
  },
  {
   "cell_type": "code",
   "execution_count": null,
   "id": "d5a9fd79",
   "metadata": {},
   "outputs": [],
   "source": []
  }
 ],
 "metadata": {
  "kernelspec": {
   "display_name": "Python 3 (ipykernel)",
   "language": "python",
   "name": "python3"
  },
  "language_info": {
   "codemirror_mode": {
    "name": "ipython",
    "version": 3
   },
   "file_extension": ".py",
   "mimetype": "text/x-python",
   "name": "python",
   "nbconvert_exporter": "python",
   "pygments_lexer": "ipython3",
   "version": "3.9.12"
  }
 },
 "nbformat": 4,
 "nbformat_minor": 5
}
