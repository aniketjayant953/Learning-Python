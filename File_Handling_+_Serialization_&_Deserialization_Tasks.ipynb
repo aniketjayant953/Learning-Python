{
 "cells": [
  {
   "cell_type": "markdown",
   "metadata": {
    "id": "MbeMdx5d5qRj"
   },
   "source": [
    "### `Q-1:` Write a function `get_final_line(filename)`, which takes filename as input and return final line of the file.\n",
    "\n",
    "Note: You can choose any file of your choice."
   ]
  },
  {
   "cell_type": "code",
   "execution_count": 76,
   "metadata": {
    "id": "rjx9XRTq5uzD"
   },
   "outputs": [
    {
     "name": "stdout",
     "output_type": "stream",
     "text": [
      "My name is aniket\n"
     ]
    }
   ],
   "source": [
    "# Write code here\n",
    "def get_final_line(filename):\n",
    "    \n",
    "    with open(filename,'r') as f:\n",
    "        l = []\n",
    "        for i in f.readlines():\n",
    "            l.append(i)\n",
    "        \n",
    "\n",
    "    return print(l[-1])\n",
    "\n",
    "get_final_line('sample.txt')"
   ]
  },
  {
   "cell_type": "code",
   "execution_count": 75,
   "metadata": {},
   "outputs": [
    {
     "data": {
      "text/plain": [
       "'My name is aniket'"
      ]
     },
     "execution_count": 75,
     "metadata": {},
     "output_type": "execute_result"
    }
   ],
   "source": [
    "def get_final_line(filename):\n",
    "    final_line = ''\n",
    "    for i in open(filename,'r'):\n",
    "        final_line = i\n",
    "    return final_line\n",
    "\n",
    "get_final_line('sample.txt')"
   ]
  },
  {
   "cell_type": "markdown",
   "metadata": {
    "id": "B87Z6-yQ5wVO"
   },
   "source": [
    "###`Q-2:` Read through a text file, line by line. Use a dict to keep track of how many times each vowel (a, e, i, o, and u) appears in the file. Print the resulting tabulation -- dictionary. "
   ]
  },
  {
   "cell_type": "code",
   "execution_count": 86,
   "metadata": {
    "id": "XeXnOL7X50Sa"
   },
   "outputs": [
    {
     "name": "stdout",
     "output_type": "stream",
     "text": [
      "['Hi hello World\\n', 'How are you?\\n', 'My name is aniket']\n",
      "{'a': 3, 'e': 4, 'i': 3, 'o': 4, 'u': 1}\n"
     ]
    }
   ],
   "source": [
    "# Write code here\n",
    "d = {'a':0, 'e':0, 'i':0, 'o':0, 'u':0}\n",
    "vow = ['a', 'e', 'i', 'o', 'u']\n",
    "\n",
    "with open('sample.txt','r') as f:\n",
    "    data = f.readlines()\n",
    "    for i in data:\n",
    "        for j in i:\n",
    "            if j in vow:\n",
    "                d[j] +=1\n",
    "        \n",
    "            \n",
    "print(data)       \n",
    "print(d)"
   ]
  },
  {
   "cell_type": "code",
   "execution_count": 80,
   "metadata": {},
   "outputs": [
    {
     "data": {
      "text/plain": [
       "{'a': 3, 'e': 4, 'i': 3, 'o': 4, 'u': 1}"
      ]
     },
     "execution_count": 80,
     "metadata": {},
     "output_type": "execute_result"
    }
   ],
   "source": [
    "# write code here\n",
    "def vowel_count_table(filename):\n",
    "    vow = ['a', 'e', 'i', 'o', 'u']\n",
    "    d = {i:0 for i in vow}\n",
    "    for i in open(filename,'r'):\n",
    "        for j in i:\n",
    "            if j in vow:\n",
    "                d[j] += 1\n",
    "                \n",
    "    return d\n",
    "            \n",
    "vowel_count_table('sample.txt')"
   ]
  },
  {
   "cell_type": "markdown",
   "metadata": {
    "id": "lRqQ2Y295-Gg"
   },
   "source": [
    "###`Q-3:` Create a text file (using an editor, not necessarily Python) containing two tab separated columns, with each column containing a number. Then use Python to read through the file you’ve created. For each line, multiply each first number by the second and include it in the file in third column. In last add a line Total, by summing the value of third column\n",
    "\n"
   ]
  },
  {
   "cell_type": "markdown",
   "metadata": {
    "id": "GtFfahZc6Bvg"
   },
   "source": [
    "Input File example: That you need to create\n",
    "```\n",
    "1   2\n",
    "3   4\n",
    "5   6\n",
    "7   8\n",
    "9   10\n",
    "\n",
    "```\n",
    "\n",
    "Output File Example:\n",
    "```\n",
    "1   2   2\n",
    "3   4   12\n",
    "5   6   30\n",
    "7   8   56\n",
    "9   10  90\n",
    "Total   190\n",
    "```\n"
   ]
  },
  {
   "cell_type": "code",
   "execution_count": 87,
   "metadata": {},
   "outputs": [],
   "source": [
    "# write code here\n",
    "with open('table.txt','r') as f:\n",
    "    data = []\n",
    "    for i in f.readlines():\n",
    "        if '\\n' in i or '\\t' in i:\n",
    "            i = i.replace('\\n','')\n",
    "            i = i.replace('\\t','')\n",
    "            data.append(i)\n",
    "            \n",
    "        else:\n",
    "            data.append(i)\n",
    "\n",
    "\n",
    "with open('table1.txt','w') as f:\n",
    "    total = 0\n",
    "    for i in data:\n",
    "        f.write(i[0] + '\\t' + i[1:] + '\\t' + str(int(i[0]) * int(i[1:])))\n",
    "        total += int(i[0]) * int(i[1:])\n",
    "        f.write('\\n')\n",
    "    f.write('Total\\t'+str(total))"
   ]
  },
  {
   "cell_type": "code",
   "execution_count": 101,
   "metadata": {},
   "outputs": [],
   "source": [
    "file_name = 'test-2.txt'\n",
    "f =  open(file_name,'w')\n",
    "for i in range(1,11,2):\n",
    "    line = '{}\\t{}\\n'.format(i,i+1)\n",
    "    f.writelines(line)\n",
    "f.close()\n",
    "\n",
    "with open(file_name, 'r') as f:\n",
    "    lines = f.read().splitlines()\n",
    "    \n",
    "total = 0\n",
    "with open(file_name,'w') as f:\n",
    "    for line in lines:\n",
    "        a,b = line.split(sep='\\t')\n",
    "        res = int(a) * int(b)\n",
    "        total += res\n",
    "        f.write('{}\\t{}\\t{}\\n'.format(a,b,res))\n",
    "    f.write('Total\\t'+str(total))"
   ]
  },
  {
   "cell_type": "code",
   "execution_count": 92,
   "metadata": {},
   "outputs": [
    {
     "name": "stdout",
     "output_type": "stream",
     "text": [
      "61111 102\n"
     ]
    }
   ],
   "source": [
    "a = 102\n",
    "b = 61111\n",
    "temp = a+b\n",
    "a = temp -a\n",
    "b = temp - b\n",
    "print(a,b)"
   ]
  },
  {
   "cell_type": "markdown",
   "metadata": {
    "id": "DunQepHC6J9r"
   },
   "source": [
    "###`Q-4:` Create line wise reverse of a file\n",
    "Write a function which takes two arguments: the names of the input file (to be read from) and the output file (which will be created)."
   ]
  },
  {
   "cell_type": "markdown",
   "metadata": {
    "id": "QxWEtFle6Nmu"
   },
   "source": [
    "For example, if a file looks like\n",
    " ```\n",
    "abc def\n",
    "ghi jkl\n",
    "```\n",
    "then the output file will be\n",
    "```\n",
    "fed cba\n",
    "lkj ihg\n",
    "```\n",
    "**Notice**: The newline remains at the end of the string, while the rest of the characters are all reversed."
   ]
  },
  {
   "cell_type": "code",
   "execution_count": 103,
   "metadata": {
    "id": "aIJTJNAq6LD7"
   },
   "outputs": [
    {
     "name": "stdout",
     "output_type": "stream",
     "text": [
      "['abc def', 'ghi jkl']\n",
      "['fed cba', 'lkj ihg']\n"
     ]
    }
   ],
   "source": [
    "# write code here\n",
    "\n",
    "with open('rev.txt','r') as f:\n",
    "    data = []\n",
    "    for i in f.readlines():\n",
    "        if '\\n' in i:\n",
    "            data.append(i.replace('\\n',''))\n",
    "        else:\n",
    "            data.append(i)\n",
    "    \n",
    "print(data)\n",
    "\n",
    "l = []\n",
    "for i in data:\n",
    "    rev = ''\n",
    "    for j in  i:\n",
    "        rev = j + rev\n",
    "    l.append(rev)\n",
    "            \n",
    "print(l)\n",
    "\n",
    "with open('rev1.txt','w') as f:\n",
    "    for i in range(len(l)):\n",
    "        f.write(l[i])\n",
    "        if i != len(l)-1:\n",
    "            f.write('\\n')"
   ]
  },
  {
   "cell_type": "code",
   "execution_count": 104,
   "metadata": {
    "scrolled": true
   },
   "outputs": [],
   "source": [
    "input_file = 'sample.txt'\n",
    "output_file = 'sample_reversed.txt'\n",
    "\n",
    "def reversed_line(infilename,outfilename):\n",
    "    with open(infilename,'r') as infile, open(outfilename,'w') as outfilename:\n",
    "        for line in infile:\n",
    "            outfilename.write(line.rstrip()[::-1]+'\\n')\n",
    "reversed_line(input_file,output_file)"
   ]
  },
  {
   "cell_type": "markdown",
   "metadata": {
    "id": "wqvx3sMY6bou"
   },
   "source": [
    "###`Q-5:` Create a Serialized dict of frequency of words in the file. And from given list of words, using serialized dict show word count.\n",
    "\n",
    "* List of word will be given\n",
    "\n"
   ]
  },
  {
   "cell_type": "markdown",
   "metadata": {
    "id": "uc5MSUWg6cZG"
   },
   "source": [
    "Given String\n",
    "\n",
    "```\n",
    "strings = \"\"\"Alice was beginning to get very tired of sitting by her sister\n",
    "            on the bank, and of having nothing to do:  once or twice she had\n",
    "            peeped into the book her sister was reading, but it had no\n",
    "            pictures or conversations in it, `and what is the use of a book,'\n",
    "            thought Alice `without pictures or conversation?'\n",
    "\n",
    "            So she was considering in her own mind (as well as she could,\n",
    "            for the hot day made her feel very sleepy and stupid), whether\n",
    "            the pleasure of making a daisy-chain would be worth the trouble\n",
    "            of getting up and picking the daisies, when suddenly a White\n",
    "            Rabbit with pink eyes ran close by her.\n",
    "\n",
    "            There was nothing so VERY remarkable in that; nor did Alice\n",
    "            think it so VERY much out of the way to hear the Rabbit say to\n",
    "            itself, `Oh dear!  Oh dear!  I shall be late!'  (when she thought\n",
    "            it over afterwards, it occurred to her that she ought to have\n",
    "            wondered at this, but at the time it all seemed quite natural);\n",
    "            but when the Rabbit actually TOOK A WATCH OUT OF ITS WAISTCOAT-\n",
    "            POCKET, and looked at it, and then hurried on, Alice started to\n",
    "            her feet, for it flashed across her mind that she had never\n",
    "            before seen a rabbit with either a waistcoat-pocket, or a watch to\n",
    "            take out of it, and burning with curiosity, she ran across the\n",
    "            field after it, and fortunately was just in time to see it pop\n",
    "            down a large rabbit-hole under the hedge.\"\"\"\n",
    "\n",
    "word_list = ['alice', 'wonder', 'natural']\n",
    "```"
   ]
  },
  {
   "cell_type": "code",
   "execution_count": 127,
   "metadata": {
    "id": "-SmtFFUq6a70"
   },
   "outputs": [
    {
     "name": "stdout",
     "output_type": "stream",
     "text": [
      "alice 4\n",
      "wondered 1\n",
      "natural); 1\n",
      "rabbit 5\n"
     ]
    }
   ],
   "source": [
    "# write code here\n",
    "strings = \"\"\"Alice was beginning to get very tired of sitting by her sister\n",
    "            on the bank, and of having nothing to do:  once or twice she had\n",
    "            peeped into the book her sister was reading, but it had no\n",
    "            pictures or conversations in it, `and what is the use of a book,'\n",
    "            thought Alice `without pictures or conversation?'\n",
    "\n",
    "            So she was considering in her own mind (as well as she could,\n",
    "            for the hot day made her feel very sleepy and stupid), whether\n",
    "            the pleasure of making a daisy-chain would be worth the trouble\n",
    "            of getting up and picking the daisies, when suddenly a White\n",
    "            Rabbit with pink eyes ran close by her.\n",
    "\n",
    "            There was nothing so VERY remarkable in that; nor did Alice\n",
    "            think it so VERY much out of the way to hear the Rabbit say to\n",
    "            itself, `Oh dear!  Oh dear!  I shall be late!'  (when she thought\n",
    "            it over afterwards, it occurred to her that she ought to have\n",
    "            wondered at this, but at the time it all seemed quite natural);\n",
    "            but when the Rabbit actually TOOK A WATCH OUT OF ITS WAISTCOAT-\n",
    "            POCKET, and looked at it, and then hurried on, Alice started to\n",
    "            her feet, for it flashed across her mind that she had never\n",
    "            before seen a rabbit with either a waistcoat-pocket, or a watch to\n",
    "            take out of it, and burning with curiosity, she ran across the\n",
    "            field after it, and fortunately was just in time to see it pop\n",
    "            down a large rabbit-hole under the hedge.\"\"\"\n",
    "\n",
    "word_list = ['alice', 'wondered', 'natural);','rabbit']\n",
    "\n",
    "import json\n",
    "\n",
    "d = {}\n",
    "for word in strings.lower().split():\n",
    "    d.update({word: strings.lower().count(word)})\n",
    "\n",
    "\n",
    "with open('demo.json','w') as f:\n",
    "    json.dump(d,f)\n",
    "\n",
    "with open('demo.json','rb') as f:\n",
    "    d = json.load(f)\n",
    "    \n",
    "for i in word_list:\n",
    "    try:\n",
    "        print(i,d[i])\n",
    "    except:\n",
    "        print(i,0)"
   ]
  },
  {
   "cell_type": "code",
   "execution_count": 123,
   "metadata": {},
   "outputs": [],
   "source": [
    "word_count_dict = dict()\n",
    "for word in strings.lower().split():\n",
    "    try:\n",
    "        word_count_dict[word] +=1\n",
    "    except:\n",
    "        word_count_dict[word] = 1"
   ]
  },
  {
   "cell_type": "code",
   "execution_count": 124,
   "metadata": {},
   "outputs": [
    {
     "name": "stdout",
     "output_type": "stream",
     "text": [
      "alice 4\n",
      "wondered 1\n",
      "natural); 1\n"
     ]
    }
   ],
   "source": [
    "import pickle as pkl\n",
    "\n",
    "pkl.dump(word_count_dict,open('word_count_dict.pkl','wb'))\n",
    "\n",
    "word_count = pkl.load(open('word_count_dict.pkl','rb'))\n",
    "\n",
    "for s in word_list:\n",
    "    print(s,word_count[s])"
   ]
  },
  {
   "cell_type": "markdown",
   "metadata": {
    "id": "Und2HuFW6kAw"
   },
   "source": [
    "### **`Q-6:`** Given a string calculate length of the string using recursion.\n",
    "\n",
    "**Example 1:**\n",
    "\n",
    "Input:\n",
    "```bash\n",
    "\"abcd\"\n",
    "```\n",
    "\n",
    "Output:\n",
    "\n",
    "```bash\n",
    "4\n",
    "```\n",
    "\n",
    "**Example 2:**\n",
    "\n",
    "Input:\n",
    "```bash\n",
    "DataScience\n",
    "```\n",
    "\n",
    "Output:\n",
    "\n",
    "```bash\n",
    "11\n",
    "```\n"
   ]
  },
  {
   "cell_type": "code",
   "execution_count": 128,
   "metadata": {
    "id": "9HE7lB5W61gT"
   },
   "outputs": [
    {
     "data": {
      "text/plain": [
       "4"
      ]
     },
     "execution_count": 128,
     "metadata": {},
     "output_type": "execute_result"
    }
   ],
   "source": [
    "# Write code here\n",
    "\n",
    "string = \"abcd\"\n",
    "\n",
    "def string_len(s):\n",
    "    \n",
    "    if s == '':\n",
    "        return 0\n",
    "    else:\n",
    "        return 1 + string_len(s[1:])\n",
    "string_len(string)"
   ]
  },
  {
   "cell_type": "markdown",
   "metadata": {
    "id": "iUDvc-jl6759"
   },
   "source": [
    "### **`Q-7:`** Write a function that accepts two numbers and returns their greatest common divisior. Without using any loop\n",
    "\n",
    "def gcd(int, int) => int\n",
    "\n",
    "```\n",
    "gcd(16,24) will give 8\n",
    "```"
   ]
  },
  {
   "cell_type": "code",
   "execution_count": 4,
   "metadata": {
    "id": "uMQnojHR7O2S"
   },
   "outputs": [
    {
     "data": {
      "text/plain": [
       "8"
      ]
     },
     "execution_count": 4,
     "metadata": {},
     "output_type": "execute_result"
    }
   ],
   "source": [
    "# Write code here\n",
    "def GCD(a,b):\n",
    "    if a == b:\n",
    "        return a\n",
    "    elif a>b:\n",
    "        return GCD(a-b,b)\n",
    "    else:\n",
    "        return GCD(b-a,a)\n",
    "GCD(16,24)"
   ]
  },
  {
   "cell_type": "markdown",
   "metadata": {
    "id": "wFD35fva7Q_B"
   },
   "source": [
    " ### `Q-8:` String Edit Distance\n",
    "\n",
    " Use your recursive function to write a program that reads two strings from the\n",
    "user and displays the edit distance between them.\n",
    "\n",
    "*The edit distance between two strings is a measure of their similarity—the smaller the edit distance, the more similar the strings are with regard to the minimum number of insert, delete and substitute operations needed to transform one string into the other.*\n",
    "\n",
    "Consider the strings `kitten` and `sitting`. The first string can be transformed\n",
    "into the second string with the following operations: \n",
    "* Substitute the `k` with an `s`, \n",
    "* substitute the `e` with an `i`, \n",
    "* and insert a `g` at the end of the string. \n",
    "\n",
    "This is the smallest number of operations that can be performed to transform kitten into sitting. As a result, the edit distance is `3`.\n",
    "\n",
    "\n",
    "Write a recursive function that computes the edit distance between two strings.\n",
    "\n",
    "Use the following algorithm:\n",
    "\n",
    "```\n",
    "Let s and t be the strings\n",
    "    If the length of s is 0 then\n",
    "        Return the length of t\n",
    "    Else if the length of t is 0 then\n",
    "        Return the length of s\n",
    "    Else\n",
    "        Set cost to 0\n",
    "        If the last character in s does not equal the last character in t then\n",
    "            Set cost to 1\n",
    "        Set d1 equal to the edit distance between all characters except the last one in s, and all characters in t, plus 1\n",
    "        Set d2 equal to the edit distance between all characters in s, and all characters except the last one in t, plus 1\n",
    "\n",
    "        Set d3 equal to the edit distance between all characters except the last one in s, and all characters except the last one in t, plus cost\n",
    "        Return the minimum of d1, d2 and d3\n",
    "```\n",
    "\n",
    "\n",
    "\n"
   ]
  },
  {
   "cell_type": "code",
   "execution_count": 5,
   "metadata": {
    "id": "zlNy_Q987QOX"
   },
   "outputs": [
    {
     "data": {
      "text/plain": [
       "3"
      ]
     },
     "execution_count": 5,
     "metadata": {},
     "output_type": "execute_result"
    }
   ],
   "source": [
    "# write code here\n",
    "def editDistance(s,t):\n",
    "    if len(s) == 0:\n",
    "        return len(t)\n",
    "    elif len(t) == 0:\n",
    "        return len(s)\n",
    "    else:\n",
    "        cost = 0\n",
    "        if s[-1] != t[-1]:\n",
    "            cost = 1\n",
    "            \n",
    "        d1 = editDistance(s[:-1],t) + 1\n",
    "        d2 = editDistance(s,t[:-1]) + 1\n",
    "        d3 = editDistance(s[:-1], t[:-1]) + cost\n",
    "        return min(d1,d2,d3)\n",
    "editDistance('kitten','sitting')"
   ]
  },
  {
   "cell_type": "markdown",
   "metadata": {
    "id": "Hc9e-qES7iAK"
   },
   "source": [
    "###`Q-9:` Run-Length Encoding\n",
    "\n",
    "Run-length encoding is a simple data compression technique that can be effective when repeated values occur at adjacent positions within a list. Compression is achieved by replacing groups of repeated values with one copy of the value, followed by the number of times that the value should be repeated. For example, the list \n",
    "```\n",
    "[\"A\", \"A\", \"A\", \"A\", \"A\", \"A\", \"A\", \"A\", \"A\", \"A\", \"A\", \"A\", \"B\", \"B\", \"B\", \"B\", \"A\", \"A\", \"A\", \"A\", \"A\", \"A\", \"B\"]\n",
    "```\n",
    "would be compressed as `[\"A\", 12, \"B\", 4, \"A\", 6, \"B\", 1]`. \n",
    "\n",
    "Write a recursive function that implements the run-length compression technique\n",
    "described above. Your function will take a list or a string as its only parameter. It should return the run-length compressed list as its only result. Include a main program that reads a string from the user, compresses it, and displays the run-length encoded result."
   ]
  },
  {
   "cell_type": "code",
   "execution_count": 21,
   "metadata": {
    "id": "W2Wb_WzP7qM1"
   },
   "outputs": [
    {
     "data": {
      "text/plain": [
       "['A', 12, 'B', 4, 'A', 6, 'B', 1]"
      ]
     },
     "execution_count": 21,
     "metadata": {},
     "output_type": "execute_result"
    }
   ],
   "source": [
    "# Write code here\n",
    "   \n",
    "string =[\"A\", \"A\", \"A\", \"A\", \"A\", \"A\", \"A\", \"A\", \"A\", \"A\", \"A\", \"A\", \"B\", \"B\", \"B\", \"B\", \"A\", \"A\", \"A\", \"A\", \"A\", \"A\", \"B\"]\n",
    "def runEncode(s):\n",
    "    if len(s) == 0:\n",
    "        return []\n",
    "    else:\n",
    "        index = 1\n",
    "        while index < len(s) and s[index] == s[index-1]:\n",
    "            index += 1\n",
    "        compressed = [s[0],index]\n",
    "        \n",
    "        return compressed + runEncode(s[index:])\n",
    "    \n",
    "runEncode(string)"
   ]
  },
  {
   "cell_type": "markdown",
   "metadata": {
    "id": "x6A-4vGC8SLs"
   },
   "source": [
    "###`Q-10:` Write a recursive function to convert a decimal to binary"
   ]
  },
  {
   "cell_type": "code",
   "execution_count": 6,
   "metadata": {
    "id": "izOr6D9V8aME"
   },
   "outputs": [
    {
     "data": {
      "text/plain": [
       "'0101'"
      ]
     },
     "execution_count": 6,
     "metadata": {},
     "output_type": "execute_result"
    }
   ],
   "source": [
    "# Write code here\n",
    "decimal = 5\n",
    "\n",
    "def decToBin(decimal):\n",
    "    if decimal == 0:\n",
    "        return '0'\n",
    "    else:\n",
    "        return decToBin(decimal >> 1) + str(decimal & 1)\n",
    "decToBin(decimal)\n",
    "\n",
    "\n"
   ]
  },
  {
   "cell_type": "code",
   "execution_count": 14,
   "metadata": {},
   "outputs": [
    {
     "name": "stdout",
     "output_type": "stream",
     "text": [
      "['A', 12, 'B', 4, 'A', 6, 'B', 1, 'C', 1]\n"
     ]
    }
   ],
   "source": [
    "word = [\"A\", \"A\", \"A\", \"A\", \"A\", \"A\", \"A\", \"A\", \"A\", \"A\", \"A\", \"A\", \"B\", \"B\", \"B\", \"B\", \"A\", \"A\", \"A\", \"A\", \"A\", \"A\", \"B\",'C'] #word = \"1\"\n",
    "\n",
    "count=1\n",
    "l = []\n",
    "if len(word)>1:\n",
    "    for i in range(1,len(word)):\n",
    "        if word[i-1]==word[i]:\n",
    "            count+=1\n",
    "        else :\n",
    "            l.extend([word[i-1],count])\n",
    "            count=1\n",
    "    l = l + [word[i],count]\n",
    "else:\n",
    "    i=0\n",
    "    l = l+ [word[i],count]\n",
    "print(l)"
   ]
  },
  {
   "cell_type": "code",
   "execution_count": 7,
   "metadata": {},
   "outputs": [
    {
     "data": {
      "text/plain": [
       "8"
      ]
     },
     "execution_count": 7,
     "metadata": {},
     "output_type": "execute_result"
    }
   ],
   "source": [
    "a = 16\n",
    "b = 24\n",
    "def GCD(a,b):\n",
    "    l1 = []\n",
    "    l2 = []\n",
    "    l3 = []\n",
    "    for i in range(1,a+1):\n",
    "        if a%i == 0:\n",
    "            l1.append(i)\n",
    "    for i in range(1,b+1):\n",
    "        if b%i == 0:\n",
    "            l2.append(i)\n",
    "    for i in l1:\n",
    "        if i in l2:\n",
    "            l3.append(i)\n",
    "    return max(l3)\n",
    "    \n",
    "GCD(a,b)"
   ]
  },
  {
   "cell_type": "code",
   "execution_count": null,
   "metadata": {},
   "outputs": [],
   "source": []
  }
 ],
 "metadata": {
  "colab": {
   "provenance": []
  },
  "kernelspec": {
   "display_name": "Python 3 (ipykernel)",
   "language": "python",
   "name": "python3"
  },
  "language_info": {
   "codemirror_mode": {
    "name": "ipython",
    "version": 3
   },
   "file_extension": ".py",
   "mimetype": "text/x-python",
   "name": "python",
   "nbconvert_exporter": "python",
   "pygments_lexer": "ipython3",
   "version": "3.9.12"
  }
 },
 "nbformat": 4,
 "nbformat_minor": 1
}
