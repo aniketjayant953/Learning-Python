{
 "cells": [
  {
   "cell_type": "code",
   "execution_count": null,
   "metadata": {},
   "outputs": [],
   "source": [
    "python"
   ]
  },
  {
   "cell_type": "markdown",
   "metadata": {
    "id": "hM8V4LxHKV6x"
   },
   "source": [
    "## Namespace and Scope"
   ]
  },
  {
   "cell_type": "markdown",
   "metadata": {
    "id": "Kl3s2TonKYgY"
   },
   "source": [
    "###`Q1:` Write `Person` Class as given below and then display it's namespace.\n",
    "\n"
   ]
  },
  {
   "cell_type": "markdown",
   "metadata": {
    "id": "grudG97hL83C"
   },
   "source": [
    "```\n",
    "Class Name - Person\n",
    "\n",
    "Attributes:\n",
    "name - public\n",
    "state - public\n",
    "city - private\n",
    "age - private\n",
    "\n",
    "Methods:\n",
    "address - public\n",
    "It give address of the person as \"<name>, <city>, <state>\"\n",
    "```"
   ]
  },
  {
   "cell_type": "code",
   "execution_count": 37,
   "metadata": {
    "id": "BRq-I4jmKX0U"
   },
   "outputs": [],
   "source": [
    "#Write your code here\n",
    "class Person:\n",
    "    \n",
    "    def __init__(self,name,state,city,age):\n",
    "        self.name = name\n",
    "        self.state = state\n",
    "        self.__city = city\n",
    "        self.__age = age\n",
    "    \n",
    "    def get_city(self):\n",
    "        return self.__city\n",
    "    def get_age(self):\n",
    "        return self.__age\n",
    "    def set_city(self,city):\n",
    "        self.__city = city\n",
    "    def set_age(self,city):\n",
    "        self.__age = age\n",
    "        \n",
    "    def address(self):\n",
    "        return f'{self.name}, {self.__city}, {self.state}'"
   ]
  },
  {
   "cell_type": "code",
   "execution_count": 38,
   "metadata": {},
   "outputs": [
    {
     "name": "stdout",
     "output_type": "stream",
     "text": [
      "__module__\n",
      "__init__\n",
      "get_city\n",
      "get_age\n",
      "set_city\n",
      "set_age\n",
      "address\n",
      "__dict__\n",
      "__weakref__\n",
      "__doc__\n"
     ]
    }
   ],
   "source": [
    "for i in Person.__dict__:\n",
    "    print(i)"
   ]
  },
  {
   "cell_type": "markdown",
   "metadata": {
    "id": "NLtOPOXDL_zB"
   },
   "source": [
    "###`Q2:` Write a program to show namespace of object/instance of above(Person) class."
   ]
  },
  {
   "cell_type": "code",
   "execution_count": 40,
   "metadata": {
    "id": "w3fj9tf0MJ3Z"
   },
   "outputs": [
    {
     "name": "stdout",
     "output_type": "stream",
     "text": [
      "name\n",
      "state\n",
      "_Person__city\n",
      "_Person__age\n",
      "['In', 'Out', 'Person', '_', '_10', '_11', '_12', '_18', '_20', '_32', '__', '___', '__builtin__', '__builtins__', '__doc__', '__loader__', '__name__', '__package__', '__spec__', '_dh', '_i', '_i1', '_i10', '_i11', '_i12', '_i13', '_i14', '_i15', '_i16', '_i17', '_i18', '_i19', '_i2', '_i20', '_i21', '_i22', '_i23', '_i24', '_i25', '_i26', '_i27', '_i28', '_i29', '_i3', '_i30', '_i31', '_i32', '_i33', '_i34', '_i35', '_i36', '_i37', '_i38', '_i39', '_i4', '_i40', '_i5', '_i6', '_i7', '_i8', '_i9', '_ih', '_ii', '_iii', '_oh', 'a', 'b', 'builtins', 'c', 'exit', 'get_ipython', 'i', 'obj', 'quit']\n"
     ]
    }
   ],
   "source": [
    "# Write your code here\n",
    "obj = Person('aniket','Maharashtra','Pune',24)\n",
    "for i in obj.__dict__:\n",
    "    print(i)\n",
    "print(dir())"
   ]
  },
  {
   "cell_type": "markdown",
   "metadata": {
    "id": "rRnCZmlUY8sn"
   },
   "source": [
    "###`Q3:` Write a recursive program to to calculate `gcd` and print no. of function calls taken to find the solution.\n",
    "```\n",
    "gcd(5,10) -> result in 5 as gcd and function call 4\n",
    "```"
   ]
  },
  {
   "cell_type": "code",
   "execution_count": 186,
   "metadata": {
    "id": "jYiVzxhUZRln"
   },
   "outputs": [
    {
     "name": "stdout",
     "output_type": "stream",
     "text": [
      "5 2\n"
     ]
    }
   ],
   "source": [
    "#Write your code here\n",
    "counter = 0\n",
    "def gcd(a,b):\n",
    "    global counter\n",
    "    counter +=1\n",
    "    if b == 0:\n",
    "        return a\n",
    "    else:\n",
    "        return gcd(b,a%b)\n",
    "print(gcd(10,5),counter)"
   ]
  },
  {
   "cell_type": "markdown",
   "metadata": {
    "id": "FbDepR9QNGnh"
   },
   "source": [
    "## Itterator And Generator"
   ]
  },
  {
   "cell_type": "markdown",
   "metadata": {
    "id": "Nj5WaR_4NJTu"
   },
   "source": [
    "###`Q4:` Create MyEnumerate class, \n",
    "Create your own `MyEnumerate` class such that someone can use it instead of enumerate. It will need to return a `tuple` with each iteration, with the first element in the tuple being the `index` (starting with 0) and the second element being the `current element` from the underlying data structure. Trying to use `MyEnumerate` with a noniterable argument will result in an error.\n",
    "\n",
    "```\n",
    "for index, letter in MyEnumerate('abc'):\n",
    "    print(f'{index} : {letter}')\n",
    "```\n",
    "\n",
    "Output:\n",
    "```\n",
    "0 : a\n",
    "1 : b\n",
    "2 : c\n",
    "```"
   ]
  },
  {
   "cell_type": "code",
   "execution_count": 190,
   "metadata": {
    "id": "6zjcm2gxNbfJ",
    "scrolled": true
   },
   "outputs": [
    {
     "name": "stdout",
     "output_type": "stream",
     "text": [
      "0 : a\n",
      "1 : b\n",
      "2 : c\n"
     ]
    }
   ],
   "source": [
    "#Write your code here\n",
    "class MyEnumerateIterator:\n",
    "    \n",
    "    def __init__(self,data,max_items):\n",
    "        self.data = data\n",
    "        self.max_items = max_items\n",
    "        self.index = 0\n",
    "    \n",
    "    def __iter__(self):\n",
    "        return self\n",
    "    \n",
    "    def __next__(self):\n",
    "        if self.index >= self.max_items:\n",
    "            raise StopIteration\n",
    "        value = {self.index ,self.data[self.index]}\n",
    "        self.index += 1\n",
    "        return value\n",
    "    \n",
    "    \n",
    "class MyEnumerate:\n",
    "    def __init__(self,data):\n",
    "        self.data = data\n",
    "        \n",
    "    def __iter__(self):\n",
    "        return MyEnumerateIterator(self.data,len(self.data))\n",
    "    \n",
    "for index, letter in MyEnumerate('abc'):\n",
    "    print(f'{index} : {letter}')"
   ]
  },
  {
   "cell_type": "code",
   "execution_count": 205,
   "metadata": {},
   "outputs": [
    {
     "name": "stdout",
     "output_type": "stream",
     "text": [
      "0 : a\n",
      "1 : b\n",
      "2 : c\n"
     ]
    }
   ],
   "source": [
    "class MyEnumerate:\n",
    "    \n",
    "    def __init__(self,data):\n",
    "        self.data = data\n",
    "        self.current = 0\n",
    "        \n",
    "    def __iter__(self):\n",
    "        return self\n",
    "    \n",
    "    def __next__(self):\n",
    "        \n",
    "        if '__iter__' not in dir(self.data):\n",
    "            raise TypeError('Obj is not iterable')\n",
    "        \n",
    "        if self.current >= len(self.data):\n",
    "            raise StopIteration\n",
    "        \n",
    "        value = (self.current,self.data[self.current])\n",
    "        \n",
    "        self.current += 1\n",
    "        return value\n",
    "try:            \n",
    "    for index, letter in MyEnumerate('abc'):\n",
    "        print(f'{index} : {letter}')\n",
    "except TypeError as e:\n",
    "    print(e)"
   ]
  },
  {
   "cell_type": "markdown",
   "metadata": {
    "id": "U2Ai7rVDOLBw"
   },
   "source": [
    "###`Q5:` Iterate in circle\n",
    "Define a class, `Circle`, that takes two arguments when defined: a sequence and a number. The idea is that the object will then return elements the defined number of times. If the number is greater than the number of elements, then the sequence  repeats as necessary. You can define an another class used as a helper (like I call `CircleIterator`).\n",
    "\n",
    "```\n",
    "c = Circle('abc', 5)\n",
    "d = Circle('abc', 7)\n",
    "print(list(c))\n",
    "print(list(d))\n",
    "```\n",
    "\n",
    "Output\n",
    "```\n",
    "[a, b, c, a, b]\n",
    "[a, b, c, a, b, c, a]\n",
    "```"
   ]
  },
  {
   "cell_type": "code",
   "execution_count": 221,
   "metadata": {
    "id": "iwcTy1HyO5hs"
   },
   "outputs": [
    {
     "name": "stdout",
     "output_type": "stream",
     "text": [
      "['a', 'b', 'c', 'a', 'b']\n",
      "['a', 'b', 'c', 'a', 'b', 'c', 'a']\n"
     ]
    }
   ],
   "source": [
    "#Write your code here\n",
    "class Circle:\n",
    "    \n",
    "    def __init__(self, data, iteration):\n",
    "        self.data = data\n",
    "        self.iteration = iteration\n",
    "        self.current = 0\n",
    "        \n",
    "    def __iter__(self):\n",
    "        return self\n",
    "\n",
    "    def __next__(self):\n",
    "        if self.current >= self.iteration:\n",
    "            raise StopIteration\n",
    "        value = self.data[self.current % len(self.data)]\n",
    "        self.current += 1\n",
    "        return value\n",
    "\n",
    "\n",
    "c = Circle('abc', 5)\n",
    "d = Circle('abc', 7)\n",
    "print(list(c))\n",
    "print(list(d))"
   ]
  },
  {
   "cell_type": "code",
   "execution_count": 238,
   "metadata": {},
   "outputs": [
    {
     "name": "stdout",
     "output_type": "stream",
     "text": [
      "1\n",
      "2\n",
      "3\n",
      "1\n",
      "2\n",
      "3\n",
      "1\n",
      "2\n",
      "3\n",
      "1\n",
      "2\n",
      "3\n"
     ]
    }
   ],
   "source": [
    "l= [1,2,3]\n",
    "for i in range(12):\n",
    "    print(l[i%len(l)])"
   ]
  },
  {
   "cell_type": "markdown",
   "metadata": {
    "id": "17KyhciKQnAE"
   },
   "source": [
    "###`Q6:` Generator time elapsed\n",
    "Write a generator function whose argument must be iterable. With each iteration, the generator will return a two-element tuple. The first element in the tuple will be an integer indicating how many seconds have passed since the previous iteration. The tuple’s second element will be the next item from the passed argument.\n",
    "\n",
    "Note that the timing should be relative to the previous iteration, not when the\n",
    "generator was first created or invoked. Thus the timing number in the first iteration\n",
    "will be 0\n",
    "\n",
    "```\n",
    "for t in elapsed_since('abcd'):\n",
    "    print(t)\n",
    "    time.sleep(2)\n",
    "```\n",
    "\n",
    "Output:\n",
    "```\n",
    "(0.0, 'a')\n",
    "(2.005651817999933, 'b')\n",
    "(2.0023095009998997, 'c')\n",
    "(2.001949742000079, 'd')\n",
    "```\n",
    "Note: Your output may differ because of diffrent system has different processing configuration."
   ]
  },
  {
   "cell_type": "code",
   "execution_count": 257,
   "metadata": {
    "id": "UkH1tj9zQ-gc"
   },
   "outputs": [
    {
     "name": "stdout",
     "output_type": "stream",
     "text": [
      "(0.0, 'a')\n",
      "(2.0012528896331787, 'b')\n",
      "(2.01070499420166, 'c')\n",
      "(2.006362199783325, 'd')\n"
     ]
    }
   ],
   "source": [
    "#Write yor code\n",
    "import time\n",
    "def elapsed_since(string):\n",
    "    start = time.time()\n",
    "    for i in string:\n",
    "        current = time.time()\n",
    "        end = current - start\n",
    "        start = current\n",
    "        yield (end,i)\n",
    "            \n",
    "gen = time_count('abcd')\n",
    "\n",
    "for t in elapsed_since('abcd'):\n",
    "    print(t)\n",
    "    time.sleep(2)"
   ]
  },
  {
   "cell_type": "code",
   "execution_count": 239,
   "metadata": {},
   "outputs": [
    {
     "name": "stdout",
     "output_type": "stream",
     "text": [
      "(2.000054121017456, 'a')\n",
      "(2.0103464126586914, 'b')\n",
      "(2.0051164627075195, 'c')\n",
      "(2.007046699523926, 'd')\n"
     ]
    }
   ],
   "source": [
    "for i in 'abcd':\n",
    "    start = time.time()\n",
    "    time.sleep(2)\n",
    "    end = time.time() - start\n",
    "    print((end, i))"
   ]
  },
  {
   "cell_type": "code",
   "execution_count": 107,
   "metadata": {
    "colab": {
     "base_uri": "https://localhost:8080/"
    },
    "id": "i0X6JreBRlYG",
    "outputId": "f7bae901-6522-4cb7-bea2-5587cebd478a"
   },
   "outputs": [
    {
     "name": "stdout",
     "output_type": "stream",
     "text": [
      "hello world\n",
      "time taken 2.0072743892669678\n"
     ]
    }
   ],
   "source": [
    "def hello():\n",
    "    start = time.time()\n",
    "    time.sleep(2)\n",
    "    print('hello world')\n",
    "    print('time taken',time.time()-start)\n",
    "    \n",
    "hello()"
   ]
  },
  {
   "cell_type": "markdown",
   "metadata": {
    "id": "fXr3OJxJSC1j"
   },
   "source": [
    "## Decorators"
   ]
  },
  {
   "cell_type": "markdown",
   "metadata": {
    "id": "xSjvwAt-SFhi"
   },
   "source": [
    "###`Q7:` Write a Python program to make a chain of function decorators (bold, italic, underline etc.) on a given function which prints \"hello world\"\n",
    "\n",
    "```\n",
    "def hello():\n",
    "    return \"hello world\"\n",
    "```\n",
    "\n",
    "```\n",
    "bold - wrap string with <b> tag. <b>Str</b>\n",
    "italic - wrap string with <i> tag. <i>Str</i>\n",
    "underline- wrap string with <u> tag. <u>Str</u>\n",
    "```"
   ]
  },
  {
   "cell_type": "code",
   "execution_count": 313,
   "metadata": {
    "id": "prVeZGYlSorr"
   },
   "outputs": [
    {
     "data": {
      "text/plain": [
       "'<u><i><b>hello world<b><i><u>'"
      ]
     },
     "execution_count": 313,
     "metadata": {},
     "output_type": "execute_result"
    }
   ],
   "source": [
    "#Write your code here\n",
    "def bold(func):\n",
    "    def wrapper():\n",
    "        return f'<b>{func()}<b>'\n",
    "    return wrapper\n",
    "def italic(func):\n",
    "    def wrapper():\n",
    "        return f'<i>{func()}<i>'\n",
    "    return wrapper\n",
    "def underline(func):\n",
    "    def wrapper():\n",
    "        return f'<u>{func()}<u>'\n",
    "    return wrapper\n",
    "    \n",
    "\n",
    "@underline\n",
    "@italic\n",
    "@bold\n",
    "def hello():\n",
    "    return 'hello world'\n",
    "\n",
    "\n",
    "hello()"
   ]
  },
  {
   "cell_type": "markdown",
   "metadata": {
    "id": "miKBwPy4TQWa"
   },
   "source": [
    "###`Q8:` Write a decorator called `printer` which causes any decorated function to print their return values. If the return value of a given function is `None`, printer should do nothing.\n",
    "\n"
   ]
  },
  {
   "cell_type": "code",
   "execution_count": 68,
   "metadata": {
    "id": "05s0poRoT9II"
   },
   "outputs": [
    {
     "name": "stdout",
     "output_type": "stream",
     "text": [
      "Hello World\n"
     ]
    }
   ],
   "source": [
    "#Write your code here\n",
    "def printer(func):\n",
    "    def wrapper(*args):\n",
    "        print(*args)\n",
    "    return wrapper\n",
    "@printer\n",
    "def hello(a = None):\n",
    "    return a\n",
    "\n",
    "hello('Hello World')"
   ]
  },
  {
   "cell_type": "code",
   "execution_count": 291,
   "metadata": {},
   "outputs": [
    {
     "name": "stdout",
     "output_type": "stream",
     "text": [
      "hello\n"
     ]
    },
    {
     "data": {
      "text/plain": [
       "'hello'"
      ]
     },
     "execution_count": 291,
     "metadata": {},
     "output_type": "execute_result"
    }
   ],
   "source": [
    "from functools import wraps\n",
    "def printer(func):\n",
    "    def wrapper(*args, **kwargs):\n",
    "        return_value = func(*args, **kwargs)\n",
    "        if return_value is not None:\n",
    "            print(return_value)\n",
    "        return return_value\n",
    "    return wrapper\n",
    "\n",
    "@printer\n",
    "def hello(string):\n",
    "    return string\n",
    "        \n",
    "hello('hello')"
   ]
  },
  {
   "cell_type": "markdown",
   "metadata": {
    "id": "DWJLjPOnURua"
   },
   "source": [
    "###`Q9:` Make a decorator which calls a given function twice. You can assume the functions don't return anything important, but they may take arguments.\n",
    "```\n",
    "#Lets say given function \n",
    "def hello(string):\n",
    "    print(string)\n",
    "\n",
    "#on calling after specified decorator is inplaced\n",
    "hello('hello')\n",
    "```\n",
    "\n",
    "Output:\n",
    "```\n",
    "hello\n",
    "hello\n",
    "```"
   ]
  },
  {
   "cell_type": "code",
   "execution_count": 69,
   "metadata": {
    "id": "e38y0cz7UTdD"
   },
   "outputs": [
    {
     "name": "stdout",
     "output_type": "stream",
     "text": [
      "hello\n",
      "hello\n"
     ]
    }
   ],
   "source": [
    "#Write your cod here\n",
    "def double(func):\n",
    "    def wrapper(*args):\n",
    "        func(*args)\n",
    "        func(*args)\n",
    "    return wrapper\n",
    "\n",
    "@double\n",
    "def hello(string):\n",
    "    print(string)\n",
    "hello('hello')"
   ]
  },
  {
   "cell_type": "markdown",
   "metadata": {
    "id": "8btcQI9pWi2w"
   },
   "source": [
    "### `Q10:` Write a decorator which doubles the return value of any function. And test that decoratos is working correctly or not using `asert`.\n",
    "\n",
    "```\n",
    "add(2,3) -> result in 10. Without decorator it should be 5.\n",
    "```"
   ]
  },
  {
   "cell_type": "code",
   "execution_count": 311,
   "metadata": {
    "id": "nG6S_zQ9XFb3"
   },
   "outputs": [
    {
     "data": {
      "text/plain": [
       "5"
      ]
     },
     "execution_count": 311,
     "metadata": {},
     "output_type": "execute_result"
    }
   ],
   "source": [
    "# Write your code here\n",
    "def into_2(func):\n",
    "    def wrapper(*args):\n",
    "        return func(*args) + func(*args)\n",
    "    return wrapper\n",
    "# @into_2\n",
    "def add(a,b):\n",
    "    return a+b\n",
    "add(2,3)"
   ]
  },
  {
   "cell_type": "code",
   "execution_count": 312,
   "metadata": {},
   "outputs": [
    {
     "ename": "AssertionError",
     "evalue": "Values are not matching",
     "output_type": "error",
     "traceback": [
      "\u001b[1;31m---------------------------------------------------------------------------\u001b[0m",
      "\u001b[1;31mAssertionError\u001b[0m                            Traceback (most recent call last)",
      "Input \u001b[1;32mIn [312]\u001b[0m, in \u001b[0;36m<cell line: 1>\u001b[1;34m()\u001b[0m\n\u001b[1;32m----> 1\u001b[0m \u001b[38;5;28;01massert\u001b[39;00m add(\u001b[38;5;241m2\u001b[39m,\u001b[38;5;241m3\u001b[39m) \u001b[38;5;241m==\u001b[39m \u001b[38;5;241m10\u001b[39m ,\u001b[38;5;124m'\u001b[39m\u001b[38;5;124mValues are not matching\u001b[39m\u001b[38;5;124m'\u001b[39m\n\u001b[0;32m      2\u001b[0m \u001b[38;5;28mprint\u001b[39m(\u001b[38;5;124m'\u001b[39m\u001b[38;5;124mvalues are matching\u001b[39m\u001b[38;5;124m'\u001b[39m)\n",
      "\u001b[1;31mAssertionError\u001b[0m: Values are not matching"
     ]
    }
   ],
   "source": [
    "assert add(2,3) == 10 ,'Values are not matching'\n",
    "print('values are matching')"
   ]
  },
  {
   "cell_type": "code",
   "execution_count": null,
   "metadata": {},
   "outputs": [],
   "source": []
  }
 ],
 "metadata": {
  "colab": {
   "provenance": []
  },
  "kernelspec": {
   "display_name": "Python 3 (ipykernel)",
   "language": "python",
   "name": "python3"
  },
  "language_info": {
   "codemirror_mode": {
    "name": "ipython",
    "version": 3
   },
   "file_extension": ".py",
   "mimetype": "text/x-python",
   "name": "python",
   "nbconvert_exporter": "python",
   "pygments_lexer": "ipython3",
   "version": "3.9.12"
  }
 },
 "nbformat": 4,
 "nbformat_minor": 1
}
