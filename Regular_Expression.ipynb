{
 "cells": [
  {
   "cell_type": "markdown",
   "id": "af0e11bf-e3b2-40bc-93c8-f0f3eb5656ab",
   "metadata": {},
   "source": [
    "# 1. Import Libraries"
   ]
  },
  {
   "cell_type": "code",
   "execution_count": 2,
   "id": "0ff71bdc-4f50-4a49-a19c-1dcdcfd8b01a",
   "metadata": {},
   "outputs": [],
   "source": [
    "import re"
   ]
  },
  {
   "cell_type": "markdown",
   "id": "3f490b98-a72a-47ca-937f-08863cd6de83",
   "metadata": {},
   "source": [
    "# 2. Raw Strings"
   ]
  },
  {
   "cell_type": "code",
   "execution_count": 23,
   "id": "8a6e755f-cc17-4f31-b8f5-b9a380297ba0",
   "metadata": {},
   "outputs": [
    {
     "name": "stdout",
     "output_type": "stream",
     "text": [
      "Hello\n",
      "World\n"
     ]
    }
   ],
   "source": [
    "print(\"Hello\\nWorld\") #normal string"
   ]
  },
  {
   "cell_type": "code",
   "execution_count": null,
   "id": "68e1dfbd-239f-4387-869b-69771c0aaebd",
   "metadata": {},
   "outputs": [],
   "source": [
    "print(r\"Hello\\nWorld\") #raw string"
   ]
  },
  {
   "cell_type": "markdown",
   "id": "65b7e71a-4a7e-4adb-a9e1-4c8abcb6677f",
   "metadata": {},
   "source": [
    "# 3. Searching Operations"
   ]
  },
  {
   "cell_type": "code",
   "execution_count": 43,
   "id": "5df1180d-5298-437b-9f92-a8bcfdfc157e",
   "metadata": {},
   "outputs": [],
   "source": [
    "test_string = \"123abc456789abc123ABC\""
   ]
  },
  {
   "cell_type": "markdown",
   "id": "6770040d-067a-43af-85bf-6bfa32f9b691",
   "metadata": {},
   "source": [
    "### 3.1 re.match()"
   ]
  },
  {
   "cell_type": "code",
   "execution_count": 39,
   "id": "4f529872-5869-482f-baae-49736882d2bd",
   "metadata": {},
   "outputs": [
    {
     "name": "stdout",
     "output_type": "stream",
     "text": [
      "None\n"
     ]
    }
   ],
   "source": [
    "pattern = re.compile(r\"abc\")\n",
    "\n",
    "match = re.match(pattern, test_string)\n",
    "\n",
    "print(match) #it returned None bc it was not at the beginning of the string"
   ]
  },
  {
   "cell_type": "code",
   "execution_count": 47,
   "id": "ed19d234-c8a1-4fc0-b8b4-36688949fdb8",
   "metadata": {},
   "outputs": [
    {
     "name": "stdout",
     "output_type": "stream",
     "text": [
      "<re.Match object; span=(0, 3), match='123'>\n"
     ]
    }
   ],
   "source": [
    "# re.match()\n",
    "pattern = re.compile(r\"123\")\n",
    "\n",
    "match = re.match(pattern, test_string)\n",
    "\n",
    "print(match) #it shows indexes of 123 and what it matches"
   ]
  },
  {
   "cell_type": "code",
   "execution_count": 51,
   "id": "4eb688f0-4c17-4de2-8e70-e99c0e7cea3b",
   "metadata": {},
   "outputs": [
    {
     "data": {
      "text/plain": [
       "(0, 3)"
      ]
     },
     "execution_count": 51,
     "metadata": {},
     "output_type": "execute_result"
    }
   ],
   "source": [
    "match.span() #you can now use function associated with it"
   ]
  },
  {
   "cell_type": "code",
   "execution_count": 59,
   "id": "37934d27-4ec8-424e-bb76-7b733f247a34",
   "metadata": {},
   "outputs": [
    {
     "data": {
      "text/plain": [
       "'123'"
      ]
     },
     "execution_count": 59,
     "metadata": {},
     "output_type": "execute_result"
    }
   ],
   "source": [
    "start_index, end_index = match.span()\n",
    "test_string[start_index: end_index]"
   ]
  },
  {
   "cell_type": "code",
   "execution_count": 61,
   "id": "fd1da43a-52c3-4cc7-ae54-e1fabe3f72d3",
   "metadata": {},
   "outputs": [
    {
     "name": "stdout",
     "output_type": "stream",
     "text": [
      "3\n",
      "0\n",
      "123\n"
     ]
    }
   ],
   "source": [
    "print(match.end())\n",
    "print(match.start())\n",
    "print(match.group())"
   ]
  },
  {
   "cell_type": "markdown",
   "id": "34da6f43-794e-468a-aba7-e4e8acd60d4e",
   "metadata": {},
   "source": [
    "### 3.2 re.search()"
   ]
  },
  {
   "cell_type": "code",
   "execution_count": 67,
   "id": "28dcd30e-e501-4f0b-b586-37651f19c388",
   "metadata": {},
   "outputs": [
    {
     "data": {
      "text/plain": [
       "'123abc456789abc123ABC'"
      ]
     },
     "execution_count": 67,
     "metadata": {},
     "output_type": "execute_result"
    }
   ],
   "source": [
    "test_string"
   ]
  },
  {
   "cell_type": "code",
   "execution_count": 81,
   "id": "58aa09a0-d27d-4ae3-817c-7f80a13748ce",
   "metadata": {},
   "outputs": [
    {
     "name": "stdout",
     "output_type": "stream",
     "text": [
      "<re.Match object; span=(3, 6), match='abc'>\n"
     ]
    }
   ],
   "source": [
    "# This will only return the first occurrence of the string\n",
    "pattern = re.compile(r\"abc\")\n",
    "\n",
    "match = re.search(pattern, test_string)  \n",
    "print(match)"
   ]
  },
  {
   "cell_type": "code",
   "execution_count": 79,
   "id": "43d1c196-014a-4da3-a0bb-9935cde76002",
   "metadata": {},
   "outputs": [
    {
     "data": {
      "text/plain": [
       "'abc'"
      ]
     },
     "execution_count": 79,
     "metadata": {},
     "output_type": "execute_result"
    }
   ],
   "source": [
    "start_index, end_index = match.span()\n",
    "test_string[start_index: end_index] "
   ]
  },
  {
   "cell_type": "markdown",
   "id": "eb2f6026-84d4-4a10-9f73-0a5bfe23fdd6",
   "metadata": {},
   "source": [
    "### 3.3 re.findall()"
   ]
  },
  {
   "cell_type": "code",
   "execution_count": 84,
   "id": "5d371f08-b0b0-46f0-af97-1400e64e5918",
   "metadata": {},
   "outputs": [
    {
     "name": "stdout",
     "output_type": "stream",
     "text": [
      "['abc', 'abc']\n"
     ]
    }
   ],
   "source": [
    "# This will only return all occurrences of the string\n",
    "pattern = re.compile(r\"abc\")\n",
    "\n",
    "match = re.findall(pattern, test_string)  \n",
    "print(match)"
   ]
  },
  {
   "cell_type": "markdown",
   "id": "e5af74f6-5e41-41d8-893d-dbeb48b1e2ad",
   "metadata": {},
   "source": [
    "### 3.4 re.finditer()"
   ]
  },
  {
   "cell_type": "code",
   "execution_count": 95,
   "id": "43673639-d859-44b0-9695-4772a0ec1c1b",
   "metadata": {},
   "outputs": [
    {
     "name": "stdout",
     "output_type": "stream",
     "text": [
      "<callable_iterator object at 0x000001D162D69C90>\n"
     ]
    }
   ],
   "source": [
    "# This will return the objects of all the occurrences pattern. They are more efficient than re.findall() \n",
    "pattern = re.compile(r\"abc\")\n",
    "\n",
    "matches = re.finditer(pattern, test_string)  \n",
    "print(matches)"
   ]
  },
  {
   "cell_type": "code",
   "execution_count": 97,
   "id": "d527e387-11fd-47a5-a1c1-dc15152dfa56",
   "metadata": {},
   "outputs": [
    {
     "name": "stdout",
     "output_type": "stream",
     "text": [
      "<re.Match object; span=(12, 15), match='abc'>\n",
      "<re.Match object; span=(12, 15), match='abc'>\n"
     ]
    }
   ],
   "source": [
    "# So you need to iterate over them\n",
    "for match in matches:\n",
    "    print(i)"
   ]
  },
  {
   "cell_type": "markdown",
   "id": "2c7e16e9-7aa7-4c5b-aec4-34c0ef2fa4ed",
   "metadata": {},
   "source": [
    "# Meta Charcters"
   ]
  },
  {
   "cell_type": "markdown",
   "id": "46f2f598-57d9-4690-9ce4-6d76b41ac779",
   "metadata": {},
   "source": [
    "* `.` - Any character (except a newline character)\n",
    "* `^` - Beginning of a string\n",
    "* `$` - Ending of a string\n",
    "* `*` - Zero or more occurrences\n",
    "* `+` - One or more occurrences"
   ]
  },
  {
   "cell_type": "markdown",
   "id": "6c699b95-48ee-4eb3-b99f-f82790c12558",
   "metadata": {},
   "source": [
    "### 4.1 dot (.)"
   ]
  },
  {
   "cell_type": "code",
   "execution_count": 582,
   "id": "93c522cc-35ad-41df-94ce-39c3edd91eb0",
   "metadata": {},
   "outputs": [],
   "source": [
    "test_string_1 = \"123abc.456789abc123defGHI.ABC \\n xyz345WXYZ\"\n",
    "\n",
    "\n",
    "test_string_2 = \"The cat sat on the mat with a bat and a hat.\"\n",
    "\n",
    "\n",
    "test_string_3 = \"The cat sat on the mat with a bat and a hat. $at, 8at, at.\"\n",
    "\n",
    " \n",
    "text = \"\"\"Hello World!\n",
    "This is a test.\n",
    "Hello again!\n",
    "Python is fun.\n",
    "Hello Python\"\"\""
   ]
  },
  {
   "cell_type": "code",
   "execution_count": 129,
   "id": "cf826488-14dd-4ef5-94b6-03e4c9626545",
   "metadata": {},
   "outputs": [
    {
     "name": "stdout",
     "output_type": "stream",
     "text": [
      "123abc.456789abc123defGHI.ABC \n",
      " xyz345WXYZ\n",
      "<re.Match object; span=(0, 1), match='1'>\n",
      "<re.Match object; span=(1, 2), match='2'>\n",
      "<re.Match object; span=(2, 3), match='3'>\n",
      "<re.Match object; span=(3, 4), match='a'>\n",
      "<re.Match object; span=(4, 5), match='b'>\n",
      "<re.Match object; span=(5, 6), match='c'>\n",
      "<re.Match object; span=(6, 7), match='4'>\n",
      "<re.Match object; span=(7, 8), match='5'>\n",
      "<re.Match object; span=(8, 9), match='6'>\n",
      "<re.Match object; span=(9, 10), match='7'>\n",
      "<re.Match object; span=(10, 11), match='8'>\n",
      "<re.Match object; span=(11, 12), match='9'>\n",
      "<re.Match object; span=(12, 13), match='a'>\n",
      "<re.Match object; span=(13, 14), match='b'>\n",
      "<re.Match object; span=(14, 15), match='c'>\n",
      "<re.Match object; span=(15, 16), match='1'>\n",
      "<re.Match object; span=(16, 17), match='2'>\n",
      "<re.Match object; span=(17, 18), match='3'>\n",
      "<re.Match object; span=(18, 19), match='A'>\n",
      "<re.Match object; span=(19, 20), match='B'>\n",
      "<re.Match object; span=(20, 21), match='C'>\n"
     ]
    }
   ],
   "source": [
    "# It captures every character except whatever beyond the new line character(\"/n\")\n",
    "print(test_string_1)\n",
    "pattern = re.compile(r\".\")\n",
    "\n",
    "matches = re.finditer(pattern, test_string)\n",
    "\n",
    "for match in matches:\n",
    "    print(match)"
   ]
  },
  {
   "cell_type": "markdown",
   "id": "3b6108ed-f8fd-43e1-bc65-ab31fb3c0788",
   "metadata": {},
   "source": [
    "### 4.2 carat (^)"
   ]
  },
  {
   "cell_type": "code",
   "execution_count": 148,
   "id": "8d188672-4b02-40a9-b7e8-9d84825dd038",
   "metadata": {},
   "outputs": [
    {
     "name": "stdout",
     "output_type": "stream",
     "text": [
      "Hello World!\n",
      "This is a test.\n",
      "Hello again!\n",
      "Python is fun.\n",
      "Hello Python\n",
      "\n",
      "<re.Match object; span=(0, 5), match='Hello'>\n",
      "<re.Match object; span=(29, 34), match='Hello'>\n",
      "<re.Match object; span=(57, 62), match='Hello'>\n"
     ]
    }
   ],
   "source": [
    "print(text, end='\\n\\n')\n",
    "\n",
    "pattern = re.compile(r'Hello')\n",
    "matches = re.finditer(pattern, text)\n",
    "\n",
    "for i in matches:\n",
    "    print(i)"
   ]
  },
  {
   "cell_type": "code",
   "execution_count": 150,
   "id": "c28258f9-4029-4f06-971d-7598541d5fa5",
   "metadata": {},
   "outputs": [
    {
     "name": "stdout",
     "output_type": "stream",
     "text": [
      "Hello World!\n",
      "This is a test.\n",
      "Hello again!\n",
      "Python is fun.\n",
      "Hello Python\n",
      "\n",
      "<re.Match object; span=(0, 5), match='Hello'>\n"
     ]
    }
   ],
   "source": [
    "# It returns only if it matches \"Hello\" only if it appears at the start of a line or string. But only 1st occurrence from the beginning \n",
    "print(text, end='\\n\\n')\n",
    "\n",
    "pattern = re.compile(r'^Hello')\n",
    "matches = re.finditer(pattern, text)\n",
    "\n",
    "for i in matches:\n",
    "    print(i)"
   ]
  },
  {
   "cell_type": "markdown",
   "id": "027b92fe-bd44-445e-80cd-62b5175c8bd6",
   "metadata": {},
   "source": [
    "### 4.3 dollar ($)"
   ]
  },
  {
   "cell_type": "code",
   "execution_count": 584,
   "id": "c8f5252d-fc84-4d5f-b26b-e763c4a20bcd",
   "metadata": {},
   "outputs": [
    {
     "name": "stdout",
     "output_type": "stream",
     "text": [
      "Hello World!\n",
      "This is a test.\n",
      "Hello again!\n",
      "Python is fun.\n",
      "Hello Python\n",
      "\n",
      "<re.Match object; span=(63, 69), match='Python'>\n"
     ]
    }
   ],
   "source": [
    "# It returns only if it matches \"Python\" only if it appears at the end of a line or string. But only 1st occurrence from the end \n",
    "print(text, end='\\n\\n')\n",
    "\n",
    "pattern = re.compile(r'Python$')\n",
    "matches = re.finditer(pattern, text)\n",
    "\n",
    "for i in matches:\n",
    "    print(i)"
   ]
  },
  {
   "cell_type": "markdown",
   "id": "327393d6-fc7f-46d1-afaa-7c873c8cc454",
   "metadata": {},
   "source": [
    "# 5. Character Sets"
   ]
  },
  {
   "cell_type": "markdown",
   "id": "980c980f-f396-4c16-869b-8de2ea86d44f",
   "metadata": {},
   "source": [
    "### 5.1 Custom Character Sets\n",
    " * `{ }` - Exactly the specified number of occurrences\n",
    "\n",
    " * `[]` - A set of characters\n",
    "\n",
    " * `\\` - Signals a special sequence (can also be used to escape special characters)\n",
    "\n",
    " * `|` - Either Or\n",
    "\n",
    " * `( )` - Capture a group"
   ]
  },
  {
   "cell_type": "markdown",
   "id": "ef2ac626-7b64-4088-972e-15d4b7f34e1c",
   "metadata": {},
   "source": [
    "####  [] brackets"
   ]
  },
  {
   "cell_type": "code",
   "execution_count": 180,
   "id": "fe9f3f6a-0cd2-4d2f-bb16-96ed1b5bbe93",
   "metadata": {},
   "outputs": [],
   "source": [
    "test_string = \"123abc.4567XYZ$89abc123  def%GHIxyz.ABC#i.\""
   ]
  },
  {
   "cell_type": "code",
   "execution_count": 190,
   "id": "9fc7248e-c8cd-4250-a247-99273da60399",
   "metadata": {},
   "outputs": [
    {
     "name": "stdout",
     "output_type": "stream",
     "text": [
      "123abc.4567XYZ$89abc123  def%GHIxyz.ABC#i.\n",
      "\n",
      "<re.Match object; span=(3, 4), match='a'>\n",
      "<re.Match object; span=(17, 18), match='a'>\n",
      "<re.Match object; span=(26, 27), match='e'>\n",
      "<re.Match object; span=(31, 32), match='I'>\n",
      "<re.Match object; span=(36, 37), match='A'>\n",
      "<re.Match object; span=(40, 41), match='i'>\n"
     ]
    }
   ],
   "source": [
    "# Extract vowels from the string. The [] will return all the matched characters mentioned in []\n",
    "print(test_string, end=\"\\n\\n\")\n",
    "\n",
    "pattern = re.compile(r'[aieouAEIOU]')\n",
    "\n",
    "matches = re.finditer(pattern, test_string)\n",
    "\n",
    "for match in matches:\n",
    "    print(match)"
   ]
  },
  {
   "cell_type": "code",
   "execution_count": 195,
   "id": "dec6347b-2da1-44e7-8452-91455ee56ba5",
   "metadata": {},
   "outputs": [
    {
     "data": {
      "text/plain": [
       "['a', 'a', 'e', 'I', 'A', 'i']"
      ]
     },
     "execution_count": 195,
     "metadata": {},
     "output_type": "execute_result"
    }
   ],
   "source": [
    "matches = re.findall(pattern, test_string)\n",
    "matches"
   ]
  },
  {
   "cell_type": "code",
   "execution_count": 197,
   "id": "a267077e-e105-45c9-bac8-cf3844935c2f",
   "metadata": {},
   "outputs": [
    {
     "name": "stdout",
     "output_type": "stream",
     "text": [
      "123abc.4567XYZ$89abc123  def%GHIxyz.ABC#i.\n",
      "\n",
      "<re.Match object; span=(0, 1), match='1'>\n",
      "<re.Match object; span=(1, 2), match='2'>\n",
      "<re.Match object; span=(2, 3), match='3'>\n",
      "<re.Match object; span=(7, 8), match='4'>\n",
      "<re.Match object; span=(8, 9), match='5'>\n",
      "<re.Match object; span=(9, 10), match='6'>\n",
      "<re.Match object; span=(10, 11), match='7'>\n",
      "<re.Match object; span=(15, 16), match='8'>\n",
      "<re.Match object; span=(16, 17), match='9'>\n",
      "<re.Match object; span=(20, 21), match='1'>\n",
      "<re.Match object; span=(21, 22), match='2'>\n",
      "<re.Match object; span=(22, 23), match='3'>\n"
     ]
    }
   ],
   "source": [
    "# Extract numbers from the string\n",
    "print(test_string, end=\"\\n\\n\")\n",
    "\n",
    "pattern = re.compile(r'[1234567890]')\n",
    "\n",
    "matches = re.finditer(pattern, test_string)\n",
    "\n",
    "for match in matches:\n",
    "    print(match)"
   ]
  },
  {
   "cell_type": "markdown",
   "id": "b0f82ed7-f719-4a7a-815d-562c509cb1f0",
   "metadata": {},
   "source": [
    "#### character ranges [0-9]"
   ]
  },
  {
   "cell_type": "code",
   "execution_count": 200,
   "id": "0f23cc3c-590f-4581-a8c5-956fe724e585",
   "metadata": {},
   "outputs": [
    {
     "name": "stdout",
     "output_type": "stream",
     "text": [
      "123abc.4567XYZ$89abc123  def%GHIxyz.ABC#i.\n",
      "\n",
      "<re.Match object; span=(0, 1), match='1'>\n",
      "<re.Match object; span=(1, 2), match='2'>\n",
      "<re.Match object; span=(2, 3), match='3'>\n",
      "<re.Match object; span=(7, 8), match='4'>\n",
      "<re.Match object; span=(8, 9), match='5'>\n",
      "<re.Match object; span=(9, 10), match='6'>\n",
      "<re.Match object; span=(10, 11), match='7'>\n",
      "<re.Match object; span=(15, 16), match='8'>\n",
      "<re.Match object; span=(16, 17), match='9'>\n",
      "<re.Match object; span=(20, 21), match='1'>\n",
      "<re.Match object; span=(21, 22), match='2'>\n",
      "<re.Match object; span=(22, 23), match='3'>\n"
     ]
    }
   ],
   "source": [
    "# range of digits\n",
    "print(test_string, end=\"\\n\\n\")\n",
    "\n",
    "pattern = re.compile(r'[0-9]')\n",
    "\n",
    "matches = re.finditer(pattern, test_string)\n",
    "\n",
    "for match in matches:\n",
    "    print(match)"
   ]
  },
  {
   "cell_type": "code",
   "execution_count": 202,
   "id": "243e4f39-744d-4250-b896-0103220b8017",
   "metadata": {},
   "outputs": [
    {
     "name": "stdout",
     "output_type": "stream",
     "text": [
      "123abc.4567XYZ$89abc123  def%GHIxyz.ABC#i.\n",
      "\n",
      "<re.Match object; span=(3, 4), match='a'>\n",
      "<re.Match object; span=(4, 5), match='b'>\n",
      "<re.Match object; span=(5, 6), match='c'>\n",
      "<re.Match object; span=(11, 12), match='X'>\n",
      "<re.Match object; span=(12, 13), match='Y'>\n",
      "<re.Match object; span=(13, 14), match='Z'>\n",
      "<re.Match object; span=(17, 18), match='a'>\n",
      "<re.Match object; span=(18, 19), match='b'>\n",
      "<re.Match object; span=(19, 20), match='c'>\n",
      "<re.Match object; span=(25, 26), match='d'>\n",
      "<re.Match object; span=(26, 27), match='e'>\n",
      "<re.Match object; span=(27, 28), match='f'>\n",
      "<re.Match object; span=(29, 30), match='G'>\n",
      "<re.Match object; span=(30, 31), match='H'>\n",
      "<re.Match object; span=(31, 32), match='I'>\n",
      "<re.Match object; span=(32, 33), match='x'>\n",
      "<re.Match object; span=(33, 34), match='y'>\n",
      "<re.Match object; span=(34, 35), match='z'>\n",
      "<re.Match object; span=(36, 37), match='A'>\n",
      "<re.Match object; span=(37, 38), match='B'>\n",
      "<re.Match object; span=(38, 39), match='C'>\n",
      "<re.Match object; span=(40, 41), match='i'>\n"
     ]
    }
   ],
   "source": [
    "# range of alphabets\n",
    "print(test_string, end=\"\\n\\n\")\n",
    "\n",
    "pattern = re.compile(r'[a-zA-Z]')\n",
    "\n",
    "matches = re.finditer(pattern, test_string)\n",
    "\n",
    "for match in matches:\n",
    "    print(match)"
   ]
  },
  {
   "cell_type": "code",
   "execution_count": 204,
   "id": "b40c2fe6-8768-4e1c-a17f-c865871d2e5a",
   "metadata": {},
   "outputs": [
    {
     "name": "stdout",
     "output_type": "stream",
     "text": [
      "123abc.4567XYZ$89abc123  def%GHIxyz.ABC#i.\n",
      "\n",
      "<re.Match object; span=(0, 1), match='1'>\n",
      "<re.Match object; span=(1, 2), match='2'>\n",
      "<re.Match object; span=(2, 3), match='3'>\n",
      "<re.Match object; span=(3, 4), match='a'>\n",
      "<re.Match object; span=(4, 5), match='b'>\n",
      "<re.Match object; span=(5, 6), match='c'>\n",
      "<re.Match object; span=(7, 8), match='4'>\n",
      "<re.Match object; span=(8, 9), match='5'>\n",
      "<re.Match object; span=(9, 10), match='6'>\n",
      "<re.Match object; span=(10, 11), match='7'>\n",
      "<re.Match object; span=(15, 16), match='8'>\n",
      "<re.Match object; span=(16, 17), match='9'>\n",
      "<re.Match object; span=(17, 18), match='a'>\n",
      "<re.Match object; span=(18, 19), match='b'>\n",
      "<re.Match object; span=(19, 20), match='c'>\n",
      "<re.Match object; span=(20, 21), match='1'>\n",
      "<re.Match object; span=(21, 22), match='2'>\n",
      "<re.Match object; span=(22, 23), match='3'>\n",
      "<re.Match object; span=(25, 26), match='d'>\n",
      "<re.Match object; span=(26, 27), match='e'>\n",
      "<re.Match object; span=(27, 28), match='f'>\n",
      "<re.Match object; span=(36, 37), match='A'>\n",
      "<re.Match object; span=(37, 38), match='B'>\n",
      "<re.Match object; span=(38, 39), match='C'>\n"
     ]
    }
   ],
   "source": [
    "# hexa decimal charactes\n",
    "print(test_string, end=\"\\n\\n\")\n",
    "\n",
    "pattern = re.compile(r'[0-9a-fA-F]')\n",
    "\n",
    "matches = re.finditer(pattern, test_string)\n",
    "\n",
    "for match in matches:\n",
    "    print(match)"
   ]
  },
  {
   "cell_type": "markdown",
   "id": "897d44c0-4fcd-4340-934e-fd4c6a986980",
   "metadata": {},
   "source": [
    "#### Character Negation [^]"
   ]
  },
  {
   "cell_type": "code",
   "execution_count": 223,
   "id": "1816145a-d9a3-461b-b59c-66b1259fa49c",
   "metadata": {},
   "outputs": [
    {
     "name": "stdout",
     "output_type": "stream",
     "text": [
      "123abc.4567XYZ$89abc123  def%GHIxyz.ABC#i.\n",
      "\n",
      "<re.Match object; span=(4, 5), match='b'>\n",
      "<re.Match object; span=(5, 6), match='c'>\n",
      "<re.Match object; span=(11, 12), match='X'>\n",
      "<re.Match object; span=(12, 13), match='Y'>\n",
      "<re.Match object; span=(13, 14), match='Z'>\n",
      "<re.Match object; span=(18, 19), match='b'>\n",
      "<re.Match object; span=(19, 20), match='c'>\n",
      "<re.Match object; span=(25, 26), match='d'>\n",
      "<re.Match object; span=(27, 28), match='f'>\n",
      "<re.Match object; span=(29, 30), match='G'>\n",
      "<re.Match object; span=(30, 31), match='H'>\n",
      "<re.Match object; span=(32, 33), match='x'>\n",
      "<re.Match object; span=(33, 34), match='y'>\n",
      "<re.Match object; span=(34, 35), match='z'>\n",
      "<re.Match object; span=(37, 38), match='B'>\n",
      "<re.Match object; span=(38, 39), match='C'>\n"
     ]
    }
   ],
   "source": [
    "# Extract consonants (everything except vowels). [^] You have to mention it in the brackets in the beginning\n",
    "# We removed all the vowels, capital vowes, digits, and special symbols\n",
    "print(test_string, end=\"\\n\\n\")\n",
    "\n",
    "pattern = re.compile(r'[^aieouAIEOU0-9$#%. ]')\n",
    "\n",
    "matches = re.finditer(pattern, test_string)\n",
    "\n",
    "for match in matches:\n",
    "    print(match)"
   ]
  },
  {
   "cell_type": "markdown",
   "id": "2a6b8dbe-2439-40db-be28-5c6b16401881",
   "metadata": {},
   "source": [
    "## 5.2 Pre-defined Character Sets"
   ]
  },
  {
   "cell_type": "markdown",
   "id": "6f417963-89ea-4dde-9c70-78a8610e21e9",
   "metadata": {},
   "source": [
    "#### It is like a short-hand for what we learned before\n",
    "\n",
    "* `\\d`: Matches any digit; equivalent to [0-9]\n",
    "* `\\D`: Matches any non-digit character; equivalent to [^0-9]\n",
    "* `\\s`: Matches any whitespace character (space, tab, newline)\n",
    "* `\\S`: Matches any non-whitespace character\n",
    "* `\\w`: Matches any alphanumeric character; equivalent to [a-zA-Z0-9_]\n",
    "* `\\W`: Matches any non-alphanumeric character; equivalent to [^a-zA-Z0-9_]\n",
    "* `\\b`: Matches any whitespace or non-alphanumeric character before or after character(s) (useful for identifying individual words in a string)\n",
    "* `\\B`: Negation of \\b"
   ]
  },
  {
   "cell_type": "code",
   "execution_count": 253,
   "id": "cc4eef51-c587-45f7-b239-309b9f010c13",
   "metadata": {},
   "outputs": [],
   "source": [
    "test_string_1 = \"123abc.4567XYZ$89abc123 def%GHIxyz .ABC#i.\"\n",
    "\n",
    "test_string_2 = \"123abc.4567\\nXYZ$89abc123 def%GHI\\nxyz .ABC#i.\"\n",
    "\n",
    "test_string_3 = 'heyhello 123_ heyho hohey'"
   ]
  },
  {
   "cell_type": "code",
   "execution_count": 289,
   "id": "a61f8dba-0e9b-43fc-af75-05a72b3f8023",
   "metadata": {},
   "outputs": [
    {
     "name": "stdout",
     "output_type": "stream",
     "text": [
      "123abc.4567XYZ$89abc123 def%GHIxyz .ABC#i.\n",
      "\n",
      "<re.Match object; span=(0, 1), match='1'>\n",
      "<re.Match object; span=(1, 2), match='2'>\n",
      "<re.Match object; span=(2, 3), match='3'>\n",
      "<re.Match object; span=(7, 8), match='4'>\n",
      "<re.Match object; span=(8, 9), match='5'>\n",
      "<re.Match object; span=(9, 10), match='6'>\n",
      "<re.Match object; span=(10, 11), match='7'>\n",
      "<re.Match object; span=(15, 16), match='8'>\n",
      "<re.Match object; span=(16, 17), match='9'>\n",
      "<re.Match object; span=(20, 21), match='1'>\n",
      "<re.Match object; span=(21, 22), match='2'>\n",
      "<re.Match object; span=(22, 23), match='3'>\n"
     ]
    }
   ],
   "source": [
    "# Instead of writing [0-9] we write \\d to find all the digits\n",
    "print(test_string_1, end=\"\\n\\n\")\n",
    "\n",
    "pattern = re.compile(r'\\d')\n",
    "\n",
    "matches = re.finditer(pattern, test_string_1)\n",
    "\n",
    "for match in matches:\n",
    "    print(match)"
   ]
  },
  {
   "cell_type": "code",
   "execution_count": 291,
   "id": "85b9e88e-2576-467a-b234-be31644aaee4",
   "metadata": {},
   "outputs": [
    {
     "name": "stdout",
     "output_type": "stream",
     "text": [
      "123abc.4567\n",
      "XYZ$89abc123 def%GHI\n",
      "xyz .ABC#i.\n",
      "\n",
      "<re.Match object; span=(11, 12), match='\\n'>\n",
      "<re.Match object; span=(24, 25), match=' '>\n",
      "<re.Match object; span=(32, 33), match='\\n'>\n",
      "<re.Match object; span=(36, 37), match=' '>\n"
     ]
    }
   ],
   "source": [
    "# whitespaces\n",
    "print(test_string_2, end=\"\\n\\n\")\n",
    "\n",
    "pattern = re.compile(r'\\s')\n",
    "\n",
    "matches = re.finditer(pattern, test_string_2)\n",
    "\n",
    "for match in matches:\n",
    "    print(match)"
   ]
  },
  {
   "cell_type": "code",
   "execution_count": 285,
   "id": "26473424-1d62-483e-b498-ff2497f930fe",
   "metadata": {},
   "outputs": [
    {
     "name": "stdout",
     "output_type": "stream",
     "text": [
      "123abc.4567\n",
      "XYZ$89abc123 def%GHI\n",
      "xyz .ABC#i.\n",
      "\n",
      "<re.Match object; span=(0, 1), match='1'>\n",
      "<re.Match object; span=(1, 2), match='2'>\n",
      "<re.Match object; span=(2, 3), match='3'>\n",
      "<re.Match object; span=(3, 4), match='a'>\n",
      "<re.Match object; span=(4, 5), match='b'>\n",
      "<re.Match object; span=(5, 6), match='c'>\n",
      "<re.Match object; span=(7, 8), match='4'>\n",
      "<re.Match object; span=(8, 9), match='5'>\n",
      "<re.Match object; span=(9, 10), match='6'>\n",
      "<re.Match object; span=(10, 11), match='7'>\n",
      "<re.Match object; span=(12, 13), match='X'>\n",
      "<re.Match object; span=(13, 14), match='Y'>\n",
      "<re.Match object; span=(14, 15), match='Z'>\n",
      "<re.Match object; span=(16, 17), match='8'>\n",
      "<re.Match object; span=(17, 18), match='9'>\n",
      "<re.Match object; span=(18, 19), match='a'>\n",
      "<re.Match object; span=(19, 20), match='b'>\n",
      "<re.Match object; span=(20, 21), match='c'>\n",
      "<re.Match object; span=(21, 22), match='1'>\n",
      "<re.Match object; span=(22, 23), match='2'>\n",
      "<re.Match object; span=(23, 24), match='3'>\n",
      "<re.Match object; span=(25, 26), match='d'>\n",
      "<re.Match object; span=(26, 27), match='e'>\n",
      "<re.Match object; span=(27, 28), match='f'>\n",
      "<re.Match object; span=(29, 30), match='G'>\n",
      "<re.Match object; span=(30, 31), match='H'>\n",
      "<re.Match object; span=(31, 32), match='I'>\n",
      "<re.Match object; span=(33, 34), match='x'>\n",
      "<re.Match object; span=(34, 35), match='y'>\n",
      "<re.Match object; span=(35, 36), match='z'>\n",
      "<re.Match object; span=(38, 39), match='A'>\n",
      "<re.Match object; span=(39, 40), match='B'>\n",
      "<re.Match object; span=(40, 41), match='C'>\n",
      "<re.Match object; span=(42, 43), match='i'>\n"
     ]
    }
   ],
   "source": [
    "# alphanumeric \n",
    "print(test_string_2, end=\"\\n\\n\")\n",
    "\n",
    "pattern = re.compile(r'\\w')\n",
    "\n",
    "matches = re.finditer(pattern, test_string_2)\n",
    "\n",
    "for match in matches:\n",
    "    print(match)"
   ]
  },
  {
   "cell_type": "code",
   "execution_count": 293,
   "id": "0e61db60-30a3-4e82-a625-c264dc91765f",
   "metadata": {},
   "outputs": [
    {
     "name": "stdout",
     "output_type": "stream",
     "text": [
      "heyhello 123_ heyho hohey\n",
      "\n",
      "<re.Match object; span=(0, 3), match='hey'>\n",
      "<re.Match object; span=(14, 17), match='hey'>\n"
     ]
    }
   ],
   "source": [
    "# word boundary. We need only 'hey' if it is at the start of any word. \n",
    "# This works bc if before \"hey\" there is a non-alphanumeric value it will return that word\n",
    "# white space and \"\" nothing are non-alphanumeric chars\n",
    "print(test_string_3, end=\"\\n\\n\")\n",
    "\n",
    "pattern = re.compile(r'\\bhey')\n",
    "\n",
    "matches = re.finditer(pattern, test_string_3)\n",
    "\n",
    "for match in matches:\n",
    "    print(match)"
   ]
  },
  {
   "cell_type": "markdown",
   "id": "a20248a1-5706-4ca6-b8c6-8f2e01c5f05c",
   "metadata": {},
   "source": [
    "# 6. Quantifiers"
   ]
  },
  {
   "cell_type": "markdown",
   "id": "397eaec5-264d-4439-9219-ac3d93c0b3cb",
   "metadata": {},
   "source": [
    "## 6.1 Greedy Quantifiers\n",
    "\n",
    "#### It try to match as many characters as possible\n",
    "\n",
    "* `*` : 0 or more occurrences of the preceding element\n",
    "* `+` : 1 or more occurrences of the preceding element\n",
    "* `?` : 0 or 1, used when a character can be optional\n",
    "* `{m}` : exactly 'm' characters\n",
    "* `{m, n}` : range of characters (m, n)"
   ]
  },
  {
   "cell_type": "code",
   "execution_count": 588,
   "id": "6f16b5ed-bccf-41c7-bea9-dbd473956480",
   "metadata": {},
   "outputs": [],
   "source": [
    "test_string_1 = \"no no noo nooo noooothing noo\"\n",
    "\n",
    "test_string_2 = \"The colour of the sky and the color of the ocean are different.\"\n",
    "\n",
    "test_string_3 = \"We can use either http or https to generate URLs.\"\n",
    "\n",
    "test_string_4 = \"aaXaaaXaaaaXaaaaaX\"\n",
    "\n",
    "test_string_5 = \"<div>First div</div><div>Second div</div>\""
   ]
  },
  {
   "cell_type": "markdown",
   "id": "fee80247-1608-4d7c-b447-1029c1e6d897",
   "metadata": {},
   "source": [
    "#### 6.1.1 `*`"
   ]
  },
  {
   "cell_type": "code",
   "execution_count": 331,
   "id": "cb6b8e91-370d-4a2b-b791-c4e04205152c",
   "metadata": {},
   "outputs": [
    {
     "name": "stdout",
     "output_type": "stream",
     "text": [
      "no no noo nooo noooothing noo\n",
      "\n",
      "<re.Match object; span=(0, 2), match='no'>\n",
      "<re.Match object; span=(3, 5), match='no'>\n",
      "<re.Match object; span=(6, 9), match='noo'>\n",
      "<re.Match object; span=(10, 14), match='nooo'>\n",
      "<re.Match object; span=(15, 20), match='noooo'>\n",
      "<re.Match object; span=(26, 29), match='noo'>\n"
     ]
    }
   ],
   "source": [
    "# It says it can be the same as string, less and beyond thats why it captured 'no' as well\n",
    "print(test_string_1, end='\\n\\n')\n",
    "pattern  = re.compile(\"noo*\")\n",
    "\n",
    "matches = re.finditer(pattern, test_string_1)\n",
    "\n",
    "for match in matches:\n",
    "    print(match)"
   ]
  },
  {
   "cell_type": "markdown",
   "id": "8225b4fe-d87c-413d-893b-ad7ccc6d047f",
   "metadata": {},
   "source": [
    "#### 6.1.2 `+`"
   ]
  },
  {
   "cell_type": "code",
   "execution_count": 328,
   "id": "dc40151e-f249-4867-bbaa-2145d08baecf",
   "metadata": {},
   "outputs": [
    {
     "name": "stdout",
     "output_type": "stream",
     "text": [
      "no no noo nooo noooothing noo\n",
      "\n",
      "<re.Match object; span=(6, 9), match='noo'>\n",
      "<re.Match object; span=(10, 14), match='nooo'>\n",
      "<re.Match object; span=(15, 20), match='noooo'>\n",
      "<re.Match object; span=(26, 29), match='noo'>\n"
     ]
    }
   ],
   "source": [
    "# + says it has to be same as string or beyond\n",
    "print(test_string_1, end='\\n\\n')\n",
    "pattern  = re.compile(\"noo+\")\n",
    "\n",
    "matches = re.finditer(pattern, test_string_1)\n",
    "\n",
    "for match in matches:\n",
    "    print(match)"
   ]
  },
  {
   "cell_type": "markdown",
   "id": "0650d454-8a83-4d34-a09f-2d5952e4f456",
   "metadata": {},
   "source": [
    "#### 6.1.3 `?`"
   ]
  },
  {
   "cell_type": "code",
   "execution_count": 338,
   "id": "cd0e9917-b588-4bbc-a0d2-c8cde5e3680b",
   "metadata": {},
   "outputs": [
    {
     "name": "stdout",
     "output_type": "stream",
     "text": [
      "The colour of the sky and the color of the ocean are different.\n",
      "\n",
      "<re.Match object; span=(4, 10), match='colour'>\n",
      "<re.Match object; span=(30, 35), match='color'>\n"
     ]
    }
   ],
   "source": [
    "# We need to find both 'color' and 'colour'\n",
    "# By adding \"?\" next to 'u' it means 'u' is either present or absent\n",
    "print(test_string_2, end='\\n\\n')\n",
    "pattern  = re.compile(\"colou?r\")\n",
    "\n",
    "matches = re.finditer(pattern, test_string_2)\n",
    "\n",
    "for match in matches:\n",
    "    print(match)"
   ]
  },
  {
   "cell_type": "code",
   "execution_count": 344,
   "id": "deee732e-8814-415a-9195-5206fda34a8c",
   "metadata": {},
   "outputs": [
    {
     "name": "stdout",
     "output_type": "stream",
     "text": [
      "We can use either http or https to generate URLs.\n",
      "\n",
      "<re.Match object; span=(18, 22), match='http'>\n",
      "<re.Match object; span=(26, 31), match='https'>\n"
     ]
    }
   ],
   "source": [
    "# We need to find both 'http' and 'https'\n",
    "print(test_string_3, end='\\n\\n')\n",
    "pattern  = re.compile(\"https?\")\n",
    "\n",
    "matches = re.finditer(pattern, test_string_3)\n",
    "\n",
    "for match in matches:\n",
    "    print(match)"
   ]
  },
  {
   "cell_type": "markdown",
   "id": "87bb6754-8e92-454c-8e35-00fff8394b95",
   "metadata": {},
   "source": [
    "#### 6.1.4 {m}"
   ]
  },
  {
   "cell_type": "code",
   "execution_count": 349,
   "id": "212de184-9b87-4bdc-bd4a-6e5cdd468b65",
   "metadata": {},
   "outputs": [
    {
     "name": "stdout",
     "output_type": "stream",
     "text": [
      "aaXaaaXaaaaXaaaaaX\n",
      "\n",
      "<re.Match object; span=(3, 6), match='aaa'>\n",
      "<re.Match object; span=(7, 10), match='aaa'>\n",
      "<re.Match object; span=(12, 15), match='aaa'>\n"
     ]
    }
   ],
   "source": [
    "# We want 'a' that is occurring at least 3 times\n",
    "print(test_string_4, end='\\n\\n')\n",
    "pattern  = re.compile(\"a{3}\")\n",
    "\n",
    "matches = re.finditer(pattern, test_string_4)\n",
    "\n",
    "for match in matches:\n",
    "    print(match)"
   ]
  },
  {
   "cell_type": "markdown",
   "id": "ff2fda3d-0f85-4897-ba05-4c298f15f9ac",
   "metadata": {},
   "source": [
    "#### 6.1.5 {m,n}"
   ]
  },
  {
   "cell_type": "code",
   "execution_count": 355,
   "id": "a5916f91-b588-40c0-9aa8-50990b83f4c6",
   "metadata": {},
   "outputs": [
    {
     "name": "stdout",
     "output_type": "stream",
     "text": [
      "aaXaaaXaaaaXaaaaaX\n",
      "\n",
      "<re.Match object; span=(0, 2), match='aa'>\n",
      "<re.Match object; span=(3, 6), match='aaa'>\n",
      "<re.Match object; span=(7, 11), match='aaaa'>\n",
      "<re.Match object; span=(12, 17), match='aaaaa'>\n"
     ]
    }
   ],
   "source": [
    "# We want 'a' that is occurring at least 2, 3, 4 and 5 times\n",
    "print(test_string_4, end='\\n\\n')\n",
    "pattern  = re.compile(\"a{2,5}\")\n",
    "\n",
    "matches = re.finditer(pattern, test_string_4)\n",
    "\n",
    "for match in matches:\n",
    "    print(match)"
   ]
  },
  {
   "cell_type": "markdown",
   "id": "8d05c729-0cf3-40bd-ab44-c0df5bcdd2b3",
   "metadata": {},
   "source": [
    "## 6.2 Non-Greedy Quantifiers\n",
    "### A.K.A Lazy Quantifiers: It will try to match as few characters as possible\n",
    "\n",
    "* `*?` : 0 or more\n",
    "* `+?` : 1 or more\n",
    "* `??` : 0 or 1, used when a character can be optional (as few as possible)\n",
    "* `{m}?` : exactly 'm' characters (as few as possible)\n",
    "* `{m, n}?` : range of characters (m, n) (as few as possible)"
   ]
  },
  {
   "cell_type": "markdown",
   "id": "a65d8328-f9ad-4904-aef3-e2b9da2adc68",
   "metadata": {},
   "source": [
    "#### 6.2.1 `*?`"
   ]
  },
  {
   "cell_type": "code",
   "execution_count": 367,
   "id": "b4fa7b0b-8eb3-45b4-805e-990cfbe66e4c",
   "metadata": {},
   "outputs": [
    {
     "name": "stdout",
     "output_type": "stream",
     "text": [
      "no no noo nooo noooothing noo\n",
      "\n",
      "<re.Match object; span=(0, 2), match='no'>\n",
      "<re.Match object; span=(3, 5), match='no'>\n",
      "<re.Match object; span=(6, 8), match='no'>\n",
      "<re.Match object; span=(10, 12), match='no'>\n",
      "<re.Match object; span=(15, 17), match='no'>\n",
      "<re.Match object; span=(26, 28), match='no'>\n"
     ]
    }
   ],
   "source": [
    "# It will only capture any word with 'no' and exactly 'no'. Just add '?' after '*'\n",
    "print(test_string_1, end='\\n\\n')\n",
    "pattern  = re.compile(\"noo*?\")\n",
    "\n",
    "matches = re.finditer(pattern, test_string_1)\n",
    "\n",
    "for match in matches:\n",
    "    print(match)"
   ]
  },
  {
   "cell_type": "markdown",
   "id": "1ccb5e87-412e-4241-ac94-5f83187204a0",
   "metadata": {},
   "source": [
    "#### 6.2.2 `+?`"
   ]
  },
  {
   "cell_type": "code",
   "execution_count": 373,
   "id": "b161e933-c9b3-4bbf-a8d9-e6ca2df1d9b1",
   "metadata": {},
   "outputs": [
    {
     "name": "stdout",
     "output_type": "stream",
     "text": [
      "no no noo nooo noooothing noo\n",
      "\n",
      "<re.Match object; span=(6, 9), match='noo'>\n",
      "<re.Match object; span=(10, 13), match='noo'>\n",
      "<re.Match object; span=(15, 18), match='noo'>\n",
      "<re.Match object; span=(26, 29), match='noo'>\n"
     ]
    }
   ],
   "source": [
    "# It will only capture words with 'noo' and exactly 'noo'. Just add '?' after '*'\n",
    "print(test_string_1, end='\\n\\n')\n",
    "pattern  = re.compile(\"noo+?\")\n",
    "\n",
    "matches = re.finditer(pattern, test_string_1)\n",
    "\n",
    "for match in matches:\n",
    "    print(match)"
   ]
  },
  {
   "cell_type": "markdown",
   "id": "8063b98b-99d4-4d92-99fe-932400f726e7",
   "metadata": {},
   "source": [
    "#### 6.2.3 `{m,n}`"
   ]
  },
  {
   "cell_type": "code",
   "execution_count": 389,
   "id": "260eb552-e905-4fc7-a904-e1a02298f5e3",
   "metadata": {},
   "outputs": [
    {
     "name": "stdout",
     "output_type": "stream",
     "text": [
      "aaXaaaXaaaaXaaaaaX\n",
      "\n",
      "<re.Match object; span=(0, 2), match='aa'>\n",
      "<re.Match object; span=(3, 5), match='aa'>\n",
      "<re.Match object; span=(7, 9), match='aa'>\n",
      "<re.Match object; span=(9, 11), match='aa'>\n",
      "<re.Match object; span=(12, 14), match='aa'>\n",
      "<re.Match object; span=(14, 16), match='aa'>\n"
     ]
    }
   ],
   "source": [
    "# It will capture as few as possible. Since in our case 2 is the few and not 5 thats why it showed 2 'aa'\n",
    "print(test_string_4, end='\\n\\n')\n",
    "pattern  = re.compile(\"a{2,5}?\")\n",
    "\n",
    "matches = re.finditer(pattern, test_string_4)\n",
    "\n",
    "for match in matches:\n",
    "    print(match)"
   ]
  },
  {
   "cell_type": "code",
   "execution_count": 696,
   "id": "ffef2382-9671-4297-bd24-323cc41323d1",
   "metadata": {},
   "outputs": [
    {
     "name": "stdout",
     "output_type": "stream",
     "text": [
      "<div>First div</div><div>Second div</div>\n",
      "\n",
      "['<div>First div</div>', '<div>Second div</div>']\n"
     ]
    }
   ],
   "source": [
    "# We want to extract the whole div tags and whatever is inside it\n",
    "# \\w will give all the alphanumeric chars, + will give exact match, \n",
    "# </\\w+> means we want to capture this as well</div>\n",
    "# .* means every char inside, '?' means as few as you can non-greedy '?' \n",
    "# Try to run it without \"?\" this. This will return a greedy quantifier of things\n",
    "print(test_string_5, end='\\n\\n')\n",
    "pattern  = re.compile(r\"<\\w+>.*?</\\w+>\")\n",
    "\n",
    "matches = re.findall(pattern, test_string_5)\n",
    "\n",
    "print(matches)"
   ]
  },
  {
   "cell_type": "markdown",
   "id": "c64295ee-7b7c-4df5-a7f4-f9f154b96aa6",
   "metadata": {},
   "source": [
    "# 7. Grouping\n",
    "\n",
    "* Used for identifying group(s) of matching substrings within a larger string\n",
    "* Grouping is useful for extracting specific parts of a string which could provide useful information\n",
    "* Characters to form a group are mentioned within parentheses ()\n",
    "* By default, the captured groups are stored for 'later use'\n",
    "* Groups allow the usage of back-references?"
   ]
  },
  {
   "cell_type": "code",
   "execution_count": 5,
   "id": "59814d95-da2e-455a-b075-8ff9b08e50c6",
   "metadata": {},
   "outputs": [],
   "source": [
    "test_string_1 = \"Call me at (123) 456-7890 or (456) 7890123 or (789) 201 3465.\"\n",
    "\n",
    "test_string_2 = \"\"\"\n",
    "<div>This is a div tag</div>\n",
    "<p>This is a paragraph tag</p>\n",
    "<div>This is another div tag</div>\n",
    "<h2>This is header div tag</h2>\n",
    "\"\"\"\n",
    "\n",
    "test_string_3 = \"\"\"\n",
    "hello hello\n",
    "world world\n",
    "python python\n",
    "\"\"\"\n",
    "\n",
    "test_string_4 = \"Visit our website at https://example.com or http://example.net\"\n",
    "\n",
    "test_string_5 = \"\"\"\n",
    "Mr. Wayne\n",
    "Mr Kent\n",
    "Ms Romanoff\n",
    "Mrs. Stark\n",
    "Mr. M\n",
    "\"\"\""
   ]
  },
  {
   "cell_type": "markdown",
   "id": "2cd3ece3-c7b8-4727-a0bf-5b06181891bd",
   "metadata": {},
   "source": [
    "#### 7.1 Capture Groups\n",
    "\n",
    "* By default, all groups are 'Capture Groups' until explicitly altered\n",
    "* By default, all identified groups are assigned integral names\n",
    "* Syntax: `(pattern)`\r",
    "\r"
   ]
  },
  {
   "cell_type": "code",
   "execution_count": 30,
   "id": "cf09f27e-d2b0-4ded-a2a1-9ccf3facbaab",
   "metadata": {},
   "outputs": [
    {
     "name": "stdout",
     "output_type": "stream",
     "text": [
      "Call me at (123) 456-7890 or (456) 7890123 or (789) 201 3465.\n",
      "\n",
      "Match 1\n",
      "--------\n",
      "<re.Match object; span=(11, 25), match='(123) 456-7890'>\n",
      "Group: (123) 456-7890\n",
      "Groups: ('123', '456', '7890')\n",
      "Group 1: 123\n",
      "Group 2: 456\n",
      "Group 3: 7890\n",
      "\n",
      "Match 2\n",
      "--------\n",
      "<re.Match object; span=(29, 42), match='(456) 7890123'>\n",
      "Group: (456) 7890123\n",
      "Groups: ('456', '789', '0123')\n",
      "Group 1: 456\n",
      "Group 2: 789\n",
      "Group 3: 0123\n",
      "\n",
      "Match 3\n",
      "--------\n",
      "<re.Match object; span=(46, 60), match='(789) 201 3465'>\n",
      "Group: (789) 201 3465\n",
      "Groups: ('789', '201', '3465')\n",
      "Group 1: 789\n",
      "Group 2: 201\n",
      "Group 3: 3465\n",
      "\n"
     ]
    }
   ],
   "source": [
    "# Extract all the phone numbers\n",
    "# So in our string we have numbers in 3 groups \n",
    "# \"3 digits\" = \\((d{3})\\),\n",
    "# space = \\s,\n",
    "# \"3 digits\" = (\\d{3}),\n",
    "# Either we select everything or nothing bc the hyphen is present or not present = .? \n",
    "# \"4 digits\" = (\\d{4})\n",
    "print(test_string_1, end='\\n\\n')\n",
    "\n",
    "pattern = re.compile(r\"\\((\\d{3})\\)\\s(\\d{3}).?(\\d{4})\")\n",
    "\n",
    "matches = re.finditer(pattern, test_string_1)\n",
    "\n",
    "for i, match in enumerate(matches, start=1):\n",
    "    print(f\"Match {i}\")\n",
    "    print(\"--------\")\n",
    "    print(match)\n",
    "    print(f\"Group: {match.group()}\")\n",
    "    print(f\"Groups: {match.groups()}\")\n",
    "    print(f\"Group 1: {match.group(1)}\")\n",
    "    print(f\"Group 2: {match.group(2)}\")\n",
    "    print(f\"Group 3: {match.group(3)}\") \n",
    "    print()"
   ]
  },
  {
   "cell_type": "markdown",
   "id": "779a4b7e-cc39-43a8-ae22-636b0d58aa98",
   "metadata": {},
   "source": [
    "#### 7.2 Named Capture Groups\n",
    "* Behaves similarly like Capture Groups\n",
    "* Each captured group can be given a name explicitly\n",
    "* This improves code readability and group access\n",
    "* Syntax: `(?P<group_name>pattern)`"
   ]
  },
  {
   "cell_type": "code",
   "execution_count": 57,
   "id": "cddc8935-83ec-4653-81b0-9028496d1f49",
   "metadata": {},
   "outputs": [
    {
     "name": "stdout",
     "output_type": "stream",
     "text": [
      "\n",
      "<div>This is a div tag</div>\n",
      "<p>This is a paragraph tag</p>\n",
      "<div>This is another div tag</div>\n",
      "<h2>This is header div tag</h2>\n",
      "\n",
      "\n",
      "Match 1\n",
      "--------\n",
      "<re.Match object; span=(1, 29), match='<div>This is a div tag</div>'>\n",
      "Group: <div>This is a div tag</div>\n",
      "Groups: {'tag': 'div', 'content': 'This is a div tag'}\n",
      "Group: div\n",
      "Group: This is a div tag\n",
      "\n",
      "Match 2\n",
      "--------\n",
      "<re.Match object; span=(30, 60), match='<p>This is a paragraph tag</p>'>\n",
      "Group: <p>This is a paragraph tag</p>\n",
      "Groups: {'tag': 'p', 'content': 'This is a paragraph tag'}\n",
      "Group: p\n",
      "Group: This is a paragraph tag\n",
      "\n",
      "Match 3\n",
      "--------\n",
      "<re.Match object; span=(61, 95), match='<div>This is another div tag</div>'>\n",
      "Group: <div>This is another div tag</div>\n",
      "Groups: {'tag': 'div', 'content': 'This is another div tag'}\n",
      "Group: div\n",
      "Group: This is another div tag\n",
      "\n",
      "Match 4\n",
      "--------\n",
      "<re.Match object; span=(96, 127), match='<h2>This is header div tag</h2>'>\n",
      "Group: <h2>This is header div tag</h2>\n",
      "Groups: {'tag': 'h2', 'content': 'This is header div tag'}\n",
      "Group: h2\n",
      "Group: This is header div tag\n",
      "\n"
     ]
    }
   ],
   "source": [
    "# Extract all the tags + content between them\n",
    "# <(?P<tag>\\w+)> = \"\\w\" Captures all the tags, \"+\" one or many, I named it \"tag\" \n",
    "# (?P<content>.*?) = capture all the content \".*\" (all chars as many possible) plus I named it \"content\"\n",
    "# </\\w+> = capture closing tag\n",
    "print(test_string_2, end=\"\\n\\n\")\n",
    "\n",
    "pattern = re.compile(r\"<(?P<tag>\\w+)>(?P<content>.*?)</\\w+>\")\n",
    "\n",
    "matches = re.finditer(pattern, test_string_2)\n",
    "\n",
    "for i, match in enumerate(matches, start=1):\n",
    "    print(f\"Match {i}\")\n",
    "    print(\"--------\")\n",
    "    print(match)\n",
    "    print(f\"Group: {match.group()}\")\n",
    "    print(f\"Groups: {match.groupdict()}\")\n",
    "    print(f\"Group: {match.group('tag')}\")\n",
    "    print(f\"Group: {match.group('content')}\")\n",
    "    \n",
    "    print()"
   ]
  },
  {
   "cell_type": "markdown",
   "id": "5f1ae2fa-4c9f-4256-8389-129a6648207e",
   "metadata": {},
   "source": [
    "#### 7.3 Back References \n",
    "* Used for referencing captured groups by short-hand notation\n",
    "*  Mainly used when some parts of the pattern repeat\n",
    "*  Syntax (default capture groups): `\\group_index`\n",
    "* Syntax (named capture groups): `(?P=group_name)`"
   ]
  },
  {
   "cell_type": "code",
   "execution_count": 83,
   "id": "7b102609-229b-42fd-9701-cc27ef120182",
   "metadata": {},
   "outputs": [
    {
     "name": "stdout",
     "output_type": "stream",
     "text": [
      "\n",
      "hello hello\n",
      "world world\n",
      "python python\n",
      "\n",
      "\n",
      "Match 1\n",
      "--------\n",
      "<re.Match object; span=(1, 12), match='hello hello'>\n",
      "Group: hello hello\n",
      "Groups: ('hello',)\n",
      "\n",
      "Match 2\n",
      "--------\n",
      "<re.Match object; span=(13, 24), match='world world'>\n",
      "Group: world world\n",
      "Groups: ('world',)\n",
      "\n",
      "Match 3\n",
      "--------\n",
      "<re.Match object; span=(25, 38), match='python python'>\n",
      "Group: python python\n",
      "Groups: ('python',)\n",
      "\n"
     ]
    }
   ],
   "source": [
    "# Extract every line \n",
    "# \\b(\\w+) = this means a group of alphanumeric words but boundary set means only non-alphanumeric is allowed before it\n",
    "# \\1 means the first group which means the first group is repeating\n",
    "print(test_string_3, end=\"\\n\\n\")\n",
    "\n",
    "pattern = re.compile(r\"\\b(\\w+) \\1\")\n",
    "\n",
    "matches = re.finditer(pattern, test_string_3)\n",
    "\n",
    "for i, match in enumerate(matches, start=1):\n",
    "    print(f\"Match {i}\")\n",
    "    print(\"--------\")\n",
    "    print(match)\n",
    "    print(f\"Group: {match.group()}\")\n",
    "    print(f\"Groups: {match.groups()}\")\n",
    "    print()"
   ]
  },
  {
   "cell_type": "code",
   "execution_count": 98,
   "id": "a68b4cf3-a496-4607-8c12-286cd03781de",
   "metadata": {},
   "outputs": [
    {
     "name": "stdout",
     "output_type": "stream",
     "text": [
      "\n",
      "<div>This is a div tag</div>\n",
      "<p>This is a paragraph tag</p>\n",
      "<div>This is another div tag</div>\n",
      "<h2>This is header div tag</h2>\n",
      "\n",
      "\n",
      "Match 1\n",
      "--------\n",
      "<re.Match object; span=(1, 29), match='<div>This is a div tag</div>'>\n",
      "Group: <div>This is a div tag</div>\n",
      "Groups: {'tag': 'div', 'content': 'This is a div tag'}\n",
      "Group: div\n",
      "Group: This is a div tag\n",
      "\n",
      "Match 2\n",
      "--------\n",
      "<re.Match object; span=(30, 60), match='<p>This is a paragraph tag</p>'>\n",
      "Group: <p>This is a paragraph tag</p>\n",
      "Groups: {'tag': 'p', 'content': 'This is a paragraph tag'}\n",
      "Group: p\n",
      "Group: This is a paragraph tag\n",
      "\n",
      "Match 3\n",
      "--------\n",
      "<re.Match object; span=(61, 95), match='<div>This is another div tag</div>'>\n",
      "Group: <div>This is another div tag</div>\n",
      "Groups: {'tag': 'div', 'content': 'This is another div tag'}\n",
      "Group: div\n",
      "Group: This is another div tag\n",
      "\n",
      "Match 4\n",
      "--------\n",
      "<re.Match object; span=(96, 127), match='<h2>This is header div tag</h2>'>\n",
      "Group: <h2>This is header div tag</h2>\n",
      "Groups: {'tag': 'h2', 'content': 'This is header div tag'}\n",
      "Group: h2\n",
      "Group: This is header div tag\n",
      "\n"
     ]
    }
   ],
   "source": [
    "# named groups\n",
    "# Instead of writing this </\\w+> we wrote this </(?P=tag)> using named groups already created\n",
    "print(test_string_2, end=\"\\n\\n\")\n",
    "\n",
    "pattern = re.compile(r\"<(?P<tag>\\w+)>(?P<content>.*)</(?P=tag)>\")\n",
    "\n",
    "matches = re.finditer(pattern, test_string_2)\n",
    "\n",
    "for i, match in enumerate(matches, start=1):\n",
    "    print(f\"Match {i}\")\n",
    "    print(\"--------\")\n",
    "    print(match)\n",
    "    print(f\"Group: {match.group()}\")\n",
    "    print(f\"Groups: {match.groupdict()}\")\n",
    "    print(f\"Group: {match.group('tag')}\")\n",
    "    print(f\"Group: {match.group('content')}\")\n",
    "    print()"
   ]
  },
  {
   "cell_type": "markdown",
   "id": "a63b7874-9f91-45e9-b6a2-cc3b5ad58dd1",
   "metadata": {},
   "source": [
    "#### 7.4 Non-capture Groups\n",
    "* The 'groups' aren’t captured for later use\n",
    "*  Syntax: `(?:pattern)`"
   ]
  },
  {
   "cell_type": "code",
   "execution_count": 107,
   "id": "61b0311d-f3d2-4983-801e-6d1923650181",
   "metadata": {},
   "outputs": [
    {
     "name": "stdout",
     "output_type": "stream",
     "text": [
      "Visit our website at https://example.com or http://example.net\n",
      "\n",
      "Match 1\n",
      "--------\n",
      "<re.Match object; span=(21, 40), match='https://example.com'>\n",
      "Group: https://example.com\n",
      "Groups: ('example', 'com')\n",
      "\n",
      "Match 2\n",
      "--------\n",
      "<re.Match object; span=(44, 62), match='http://example.net'>\n",
      "Group: http://example.net\n",
      "Groups: ('example', 'net')\n",
      "\n"
     ]
    }
   ],
   "source": [
    "# Extract all URLs in the string\n",
    "# (?:https?://) = to capture group http or https. By adding \"?:\" this will not capture \"https?\" group\n",
    "# (\\w+) = To capture group next http\n",
    "# \\. = By adding '\\' we want to capture literal '.' and not everything\n",
    "# (\\w+) = To capture whatever is next to \".\"\n",
    "print(test_string_4, end=\"\\n\\n\")\n",
    "\n",
    "pattern = re.compile(r\"(?:https?://)(\\w+)\\.(\\w+)\")\n",
    "\n",
    "matches = re.finditer(pattern, test_string_4)\n",
    "\n",
    "for i, match in enumerate(matches, start=1):\n",
    "    print(f\"Match {i}\")\n",
    "    print(\"--------\")\n",
    "    print(match)\n",
    "    print(f\"Group: {match.group()}\")\n",
    "    print(f\"Groups: {match.groups()}\") \n",
    "    print()"
   ]
  },
  {
   "cell_type": "markdown",
   "id": "1ab51ec1-79fc-465e-bc4a-97dd955b9c45",
   "metadata": {},
   "source": [
    "#### 7.5 Alteration\n",
    "* Allows to match any pattern from listed alternatives\n",
    "* Implemented by using the `|` (pipe) symbol"
   ]
  },
  {
   "cell_type": "code",
   "execution_count": 139,
   "id": "8b6fdde5-89a9-45b5-8dfb-e008e5afc099",
   "metadata": {},
   "outputs": [
    {
     "name": "stdout",
     "output_type": "stream",
     "text": [
      "\n",
      "Mr. Wayne\n",
      "Mr Kent\n",
      "Ms Romanoff\n",
      "Mrs. Stark\n",
      "Mr. M\n",
      "\n",
      "\n",
      "Mr. Wayne\n",
      "Mr Kent\n",
      "Ms Romanoff\n",
      "Mrs. Stark\n",
      "Mr. M\n"
     ]
    }
   ],
   "source": [
    "# capture all the names with their titles\n",
    "# Mr? = to capture \"Mr.\" and \"Mr\"\n",
    "# \\.? = to capture literal '.' either present or not present\n",
    "# \\s = to capture white space\n",
    "# \\w+ = to capture all the alphanumeric\n",
    "print(test_string_5, end=\"\\n\\n\")\n",
    "\n",
    "# to capture all men\n",
    "pattern = re.compile(r\"Mr?\\.?\\s\\w+\") \n",
    "\n",
    "# to capture all women\n",
    "pattern = re.compile(r\"Mr?s\\.?\\s\\w+\")\n",
    "\n",
    "# to capture both women and men\n",
    "pattern = re.compile(r\"Mr?s?\\.?\\s\\w+\")\n",
    "\n",
    "matches = re.findall(pattern, test_string_5)\n",
    "\n",
    "for name in matches:\n",
    "    print(name)"
   ]
  },
  {
   "cell_type": "code",
   "execution_count": 145,
   "id": "a6e8d6fa-7b78-4653-9031-b0f418f62cdd",
   "metadata": {},
   "outputs": [
    {
     "name": "stdout",
     "output_type": "stream",
     "text": [
      "Mr. Wayne\n",
      "Mr Kent\n",
      "Ms Romanoff\n",
      "Mrs. Stark\n",
      "Mr. M\n"
     ]
    }
   ],
   "source": [
    "# more readable pattern using \"Alterations\"\n",
    "# (Mr|Mrs|Ms) = This will capture either Mr, Mrs, Ms\n",
    "pattern = re.compile(r\"(Mr|Mrs|Ms)\\.?\\s\\w+\")\n",
    "\n",
    "matches = re.finditer(pattern, test_string_5)\n",
    "\n",
    "for name in matches:\n",
    "    print(name.group())"
   ]
  },
  {
   "cell_type": "markdown",
   "id": "6e5e2dc7-ca0e-4143-abfa-02b8a79c951e",
   "metadata": {},
   "source": [
    "# 8. String Modifications\n",
    "* Involves splitting a string or replacing parts of a string\n",
    "*  The re module provides the split and sub functions to achieve this\r\n"
   ]
  },
  {
   "cell_type": "markdown",
   "id": "b78b0c69-4254-4957-8bc0-4fa054d3864d",
   "metadata": {},
   "source": [
    "### 8.1 Split\n",
    "* Allows to split a string on any matched pattern\n",
    "* Works similar to Python's str.split function, with the additional flexibility of \n",
    "regular expression\n",
    "* Syntax: `re.split(pattern, string)`\n"
   ]
  },
  {
   "cell_type": "code",
   "execution_count": 154,
   "id": "948efa8a-3521-4c71-adb2-5c9efaa75ac2",
   "metadata": {},
   "outputs": [],
   "source": [
    "test_string_1 = \"This is the first sentence. This is the second sentence! This is the third sentence?\"\n",
    "\n",
    "test_string_2 = \"Visit our website at https://website1.com or http://website2.net\""
   ]
  },
  {
   "cell_type": "code",
   "execution_count": 170,
   "id": "d59ce854-a3b8-496c-b345-36efc5e2b3a0",
   "metadata": {},
   "outputs": [
    {
     "name": "stdout",
     "output_type": "stream",
     "text": [
      "This is the first sentence. This is the second sentence! This is the third sentence?\n",
      "\n",
      "This is the first sentence\n",
      "This is the second sentence\n",
      "This is the third sentence\n"
     ]
    }
   ],
   "source": [
    "# Split and extract all the sentences\n",
    "# We will split on '.', '?', '!' to get all the sentences\n",
    "print(test_string_1, end=\"\\n\\n\")\n",
    "\n",
    "pattern = re.compile(r\"[.!?]\")\n",
    "matches = re.split(pattern, test_string_1)\n",
    "for match in matches[:-1]:\n",
    "    print(match.strip())"
   ]
  },
  {
   "cell_type": "markdown",
   "id": "b957ac11-4f26-40d0-9ac6-686c4cb40125",
   "metadata": {},
   "source": [
    "### 8.2 Substitution\n",
    "* Allows to replace a part of a string with any matched pattern\n",
    "* \n",
    "Useful for search and replace operations with the added flexibility of regular\n",
    "expressions\n",
    "\n",
    "*  Syntax: `re.sub(pattern, replacement, string)`"
   ]
  },
  {
   "cell_type": "code",
   "execution_count": 199,
   "id": "00b52ddd-9d3c-46ba-91f3-47c9dcf5c773",
   "metadata": {},
   "outputs": [
    {
     "name": "stdout",
     "output_type": "stream",
     "text": [
      "Visit our website at https://website1.com or http://website2.net\n",
      "\n"
     ]
    },
    {
     "data": {
      "text/plain": [
       "'Visit our website at website1.com.co.in or website2.net.co.in'"
      ]
     },
     "execution_count": 199,
     "metadata": {},
     "output_type": "execute_result"
    }
   ],
   "source": [
    "print(test_string_2, end=\"\\n\\n\")\n",
    "\n",
    "pattern = re.compile(r\"(https?://)(\\w+)\\.(\\w+)\")\n",
    "\n",
    "matches = re.sub(pattern, r\"\\2.\\3.co.in\", test_string_2)\n",
    "matches"
   ]
  },
  {
   "cell_type": "markdown",
   "id": "207198f9-1a1d-431a-a67f-e4f933b365dc",
   "metadata": {},
   "source": [
    "# 9. Lookahead and Lookbehind Assertions\n",
    "* Lookahead and lookbehind assertions are powerful tools in regular expressions\n",
    "that allow for complex pattern matching based on the context in which a pattern\n",
    "appears\n",
    "* They are used to match a pattern only if it is followed or preceded by another\n",
    "specified pattern\n"
   ]
  },
  {
   "cell_type": "markdown",
   "id": "58ce1684-fc0e-4e8d-ad00-b5f6a9be4c9c",
   "metadata": {},
   "source": [
    "### 9.1 Lookahead Assertion\n",
    "\n",
    "#### 9.1.1 Positive lookahead assertion\n",
    "* Asserts if a pattern to be matched (X) is immediately followed by another specified\n",
    "pattern (Y)\n",
    "* Syntax: `X(?=Y)`"
   ]
  },
  {
   "cell_type": "code",
   "execution_count": 204,
   "id": "cec654b6-8f8b-41ee-807f-4e4b7792284f",
   "metadata": {},
   "outputs": [],
   "source": [
    "test_string_1 = \"\"\"\n",
    "100 USD\n",
    "150 USD\n",
    "85 INR\n",
    "120 AED\n",
    "60 USD\n",
    "70 INR\n",
    "\"\"\"\n",
    "\n",
    "test_string_2 = \"\"\"\n",
    "Chris Evans\n",
    "Chris Hemsworth\n",
    "Chris Pratt\n",
    "Tom Holland\n",
    "Tom Hiddleston\n",
    "\"\"\""
   ]
  },
  {
   "cell_type": "code",
   "execution_count": 212,
   "id": "e60491d3-c91b-4e3d-a55d-5ea935cf7692",
   "metadata": {},
   "outputs": [
    {
     "name": "stdout",
     "output_type": "stream",
     "text": [
      "\n",
      "100 USD\n",
      "150 USD\n",
      "85 INR\n",
      "120 AED\n",
      "60 USD\n",
      "70 INR\n",
      "\n",
      "\n",
      "100 \n",
      "150 \n",
      "60 \n"
     ]
    }
   ],
   "source": [
    "# extract only if the amount is in USD right next to it\n",
    "# Syntax: X(?=Y), here X==\\d+; Y=(?=USD)\n",
    "print(test_string_1, end=\"\\n\\n\")\n",
    "\n",
    "pattern = re.compile(r\"\\d+ (?=USD)\")\n",
    "matches = re.findall(pattern, test_string_1)\n",
    "for match in matches:\n",
    "    print(match)"
   ]
  },
  {
   "cell_type": "markdown",
   "id": "2d47a838-447f-4d30-8fe3-22d6ff1bcb0c",
   "metadata": {},
   "source": [
    "#### 9.1.1 Negative lookahead assertion\n",
    "* Asserts if a pattern to be matched (X) is not immediately followed by another\n",
    "specified pattern (Y)\n",
    "* Syntax: X(?!Y)"
   ]
  },
  {
   "cell_type": "code",
   "execution_count": 217,
   "id": "3881a8bb-1d56-41d6-8dce-7d891e62ade4",
   "metadata": {},
   "outputs": [
    {
     "name": "stdout",
     "output_type": "stream",
     "text": [
      "\n",
      "100 USD\n",
      "150 USD\n",
      "85 INR\n",
      "120 AED\n",
      "60 USD\n",
      "70 INR\n",
      "\n",
      "\n",
      "85 \n",
      "120 \n",
      "70 \n"
     ]
    }
   ],
   "source": [
    "# We want a currency that is not USD. Opposite for positive lookahead\n",
    "print(test_string_1, end=\"\\n\\n\")\n",
    "\n",
    "pattern = re.compile(r\"\\d+ (?!USD)\")\n",
    "matches = re.findall(pattern, test_string_1)\n",
    "for match in matches:\n",
    "    print(match)"
   ]
  },
  {
   "cell_type": "markdown",
   "id": "42ee2e32-5c4f-4585-90e7-5c2a0023e049",
   "metadata": {},
   "source": [
    "### 9.3 Lookbehind Assertion\n",
    "\n",
    "#### 9.1.1 Positive lookbehind assertion\n",
    "* Asserts if a pattern to be matched (X) is immediately preceded by another specified\n",
    "pattern (Y)\n",
    "* Syntax: `(?<=Y)X`"
   ]
  },
  {
   "cell_type": "code",
   "execution_count": 242,
   "id": "66733aa1-fac1-4109-a006-5cd6cd9d08ed",
   "metadata": {},
   "outputs": [
    {
     "name": "stdout",
     "output_type": "stream",
     "text": [
      "\n",
      "Chris Evans\n",
      "Chris Hemsworth\n",
      "Chris Pratt\n",
      "Tom Holland\n",
      "Tom Hiddleston\n",
      "\n",
      "\n",
      "Evans\n",
      "Hemsworth\n",
      "Pratt\n"
     ]
    }
   ],
   "source": [
    "# We want last-name that is only preceded by name 'Chris' \n",
    "print(test_string_2, end=\"\\n\\n\")\n",
    "\n",
    "pattern = re.compile(r\"(?<=Chris) \\w+\")\n",
    "matches = re.findall(pattern, test_string_2)\n",
    "for match in matches:\n",
    "    print(match.strip())"
   ]
  },
  {
   "cell_type": "markdown",
   "id": "9f672131-2086-419c-b1e5-8c06ed1587cb",
   "metadata": {},
   "source": [
    "#### 9.1.1 Negative lookbehind assertion\n",
    "* Asserts if a pattern to be matched (X) is not immediately preceded by another\n",
    "specified pattern (Y)\n",
    "* Syntax: `(?<!Y)X`"
   ]
  },
  {
   "cell_type": "code",
   "execution_count": 249,
   "id": "2b8b506b-fe75-46fe-9615-e8225ba4f385",
   "metadata": {},
   "outputs": [
    {
     "name": "stdout",
     "output_type": "stream",
     "text": [
      "\n",
      "Chris Evans\n",
      "Chris Hemsworth\n",
      "Chris Pratt\n",
      "Tom Holland\n",
      "Tom Hiddleston\n",
      "\n",
      "\n",
      "Holland\n",
      "Hiddleston\n"
     ]
    }
   ],
   "source": [
    "# We want last-name that are not preceded by the name 'Chris'. Opposite of negative lookbehind\n",
    "print(test_string_2, end=\"\\n\\n\")\n",
    "\n",
    "pattern = re.compile(r\"(?<!Chris) \\w+\")\n",
    "matches = re.findall(pattern, test_string_2)\n",
    "for match in matches:\n",
    "    print(match.strip())"
   ]
  },
  {
   "cell_type": "markdown",
   "id": "8b7a548c-9e00-496d-8c9a-fae7b22384b0",
   "metadata": {},
   "source": [
    "# 10. Flags\n",
    "* Flags provide additional control over pattern matching by altering the\n",
    "behaviour of regular expressions\n",
    "* Can be used for insensitive case matching, making the dot operator match\n",
    "newline character, etc.\n",
    "* Flags are usually passed as arguments to the functions of re module"
   ]
  },
  {
   "cell_type": "markdown",
   "id": "6e00f1c9-40f5-43d5-b264-ed892229ca53",
   "metadata": {},
   "source": [
    "### Common Flags:"
   ]
  },
  {
   "cell_type": "markdown",
   "id": "2a2a48fa-7976-457a-b302-1046c9776a99",
   "metadata": {},
   "source": [
    "#### • re.IGNORECASE (or re.I): Makes the pattern case-insensitive"
   ]
  },
  {
   "cell_type": "code",
   "execution_count": 255,
   "id": "89191a86-52cb-458f-9bc8-98da1a13f5cd",
   "metadata": {},
   "outputs": [],
   "source": [
    "test_string = \"\"\"\n",
    "Hello World!\n",
    "This is a Hello test.\n",
    "Hello again!\n",
    "Python is fun.\n",
    "Hello Python.\n",
    "\"\"\""
   ]
  },
  {
   "cell_type": "code",
   "execution_count": 265,
   "id": "e6d64c8d-1b09-4470-a58b-ef31f9cbf981",
   "metadata": {},
   "outputs": [
    {
     "name": "stdout",
     "output_type": "stream",
     "text": [
      "<re.Match object; span=(49, 55), match='Python'>\n",
      "<re.Match object; span=(70, 76), match='Python'>\n"
     ]
    }
   ],
   "source": [
    "# Extract Python from text\n",
    "# By using \"flags=re.IGNORECASE\" we can override the case-sensitive behavior of the Python language\n",
    "# You can use \"re.I\" to save time\n",
    "pattern = re.compile(r\"python\", flags=re.IGNORECASE)\n",
    "\n",
    "matches = re.finditer(pattern, test_string)\n",
    "\n",
    "for match in matches:\n",
    "    print(match)"
   ]
  },
  {
   "cell_type": "markdown",
   "id": "03ad0342-ae6a-4f2d-a476-22024ff22e07",
   "metadata": {},
   "source": [
    "#### re.MULTILINE (or re.M): Allows ^ and $ to match the start and end of each line"
   ]
  },
  {
   "cell_type": "code",
   "execution_count": 291,
   "id": "e41e4416-02b8-4d7f-be28-47a8f07ce545",
   "metadata": {},
   "outputs": [
    {
     "name": "stdout",
     "output_type": "stream",
     "text": [
      "<re.Match object; span=(1, 6), match='Hello'>\n",
      "<re.Match object; span=(36, 41), match='Hello'>\n",
      "<re.Match object; span=(64, 69), match='Hello'>\n"
     ]
    }
   ],
   "source": [
    "# Extract \"Hello\" from the text that is in the beginning of every line\n",
    "# Hello is not at the start of the line bc \"\\n\" is at the start of the line in every line\n",
    "# We tried to add \"^\" this with a small-case \"hello\" but then it can't detect small-case\n",
    "# We want both features small-case detection and beginning-of-line detection that's why we add more flags\n",
    "# You can add more flags by using the \"|\" pipe symbol\n",
    "pattern = re.compile(r\"^hello\", flags=re.I | re.M )\n",
    "\n",
    "matches = re.finditer(pattern, test_string)\n",
    "\n",
    "for match in matches:\n",
    "    print(match)"
   ]
  },
  {
   "cell_type": "markdown",
   "id": "37def0a6-e65f-4946-bc4d-534833e5f693",
   "metadata": {},
   "source": [
    "#### re.DOTALL (or re.S): Allows the . to match newline characters as well"
   ]
  },
  {
   "cell_type": "code",
   "execution_count": 295,
   "id": "bef189f7-b4dd-4917-b52f-35342830e653",
   "metadata": {},
   "outputs": [
    {
     "name": "stdout",
     "output_type": "stream",
     "text": [
      "<re.Match object; span=(0, 1), match='\\n'>\n",
      "<re.Match object; span=(1, 2), match='H'>\n",
      "<re.Match object; span=(2, 3), match='e'>\n",
      "<re.Match object; span=(3, 4), match='l'>\n",
      "<re.Match object; span=(4, 5), match='l'>\n",
      "<re.Match object; span=(5, 6), match='o'>\n",
      "<re.Match object; span=(6, 7), match=' '>\n",
      "<re.Match object; span=(7, 8), match='W'>\n",
      "<re.Match object; span=(8, 9), match='o'>\n",
      "<re.Match object; span=(9, 10), match='r'>\n",
      "<re.Match object; span=(10, 11), match='l'>\n",
      "<re.Match object; span=(11, 12), match='d'>\n",
      "<re.Match object; span=(12, 13), match='!'>\n",
      "<re.Match object; span=(13, 14), match='\\n'>\n",
      "<re.Match object; span=(14, 15), match='T'>\n",
      "<re.Match object; span=(15, 16), match='h'>\n",
      "<re.Match object; span=(16, 17), match='i'>\n",
      "<re.Match object; span=(17, 18), match='s'>\n",
      "<re.Match object; span=(18, 19), match=' '>\n",
      "<re.Match object; span=(19, 20), match='i'>\n",
      "<re.Match object; span=(20, 21), match='s'>\n",
      "<re.Match object; span=(21, 22), match=' '>\n",
      "<re.Match object; span=(22, 23), match='a'>\n",
      "<re.Match object; span=(23, 24), match=' '>\n",
      "<re.Match object; span=(24, 25), match='H'>\n",
      "<re.Match object; span=(25, 26), match='e'>\n",
      "<re.Match object; span=(26, 27), match='l'>\n",
      "<re.Match object; span=(27, 28), match='l'>\n",
      "<re.Match object; span=(28, 29), match='o'>\n",
      "<re.Match object; span=(29, 30), match=' '>\n",
      "<re.Match object; span=(30, 31), match='t'>\n",
      "<re.Match object; span=(31, 32), match='e'>\n",
      "<re.Match object; span=(32, 33), match='s'>\n",
      "<re.Match object; span=(33, 34), match='t'>\n",
      "<re.Match object; span=(34, 35), match='.'>\n",
      "<re.Match object; span=(35, 36), match='\\n'>\n",
      "<re.Match object; span=(36, 37), match='H'>\n",
      "<re.Match object; span=(37, 38), match='e'>\n",
      "<re.Match object; span=(38, 39), match='l'>\n",
      "<re.Match object; span=(39, 40), match='l'>\n",
      "<re.Match object; span=(40, 41), match='o'>\n",
      "<re.Match object; span=(41, 42), match=' '>\n",
      "<re.Match object; span=(42, 43), match='a'>\n",
      "<re.Match object; span=(43, 44), match='g'>\n",
      "<re.Match object; span=(44, 45), match='a'>\n",
      "<re.Match object; span=(45, 46), match='i'>\n",
      "<re.Match object; span=(46, 47), match='n'>\n",
      "<re.Match object; span=(47, 48), match='!'>\n",
      "<re.Match object; span=(48, 49), match='\\n'>\n",
      "<re.Match object; span=(49, 50), match='P'>\n",
      "<re.Match object; span=(50, 51), match='y'>\n",
      "<re.Match object; span=(51, 52), match='t'>\n",
      "<re.Match object; span=(52, 53), match='h'>\n",
      "<re.Match object; span=(53, 54), match='o'>\n",
      "<re.Match object; span=(54, 55), match='n'>\n",
      "<re.Match object; span=(55, 56), match=' '>\n",
      "<re.Match object; span=(56, 57), match='i'>\n",
      "<re.Match object; span=(57, 58), match='s'>\n",
      "<re.Match object; span=(58, 59), match=' '>\n",
      "<re.Match object; span=(59, 60), match='f'>\n",
      "<re.Match object; span=(60, 61), match='u'>\n",
      "<re.Match object; span=(61, 62), match='n'>\n",
      "<re.Match object; span=(62, 63), match='.'>\n",
      "<re.Match object; span=(63, 64), match='\\n'>\n",
      "<re.Match object; span=(64, 65), match='H'>\n",
      "<re.Match object; span=(65, 66), match='e'>\n",
      "<re.Match object; span=(66, 67), match='l'>\n",
      "<re.Match object; span=(67, 68), match='l'>\n",
      "<re.Match object; span=(68, 69), match='o'>\n",
      "<re.Match object; span=(69, 70), match=' '>\n",
      "<re.Match object; span=(70, 71), match='P'>\n",
      "<re.Match object; span=(71, 72), match='y'>\n",
      "<re.Match object; span=(72, 73), match='t'>\n",
      "<re.Match object; span=(73, 74), match='h'>\n",
      "<re.Match object; span=(74, 75), match='o'>\n",
      "<re.Match object; span=(75, 76), match='n'>\n",
      "<re.Match object; span=(76, 77), match='.'>\n",
      "<re.Match object; span=(77, 78), match='\\n'>\n"
     ]
    }
   ],
   "source": [
    "# extact every character possible with '\\n' as well \n",
    "pattern = re.compile(r\".\", flags=re.S)\n",
    "\n",
    "matches = re.finditer(pattern, test_string)\n",
    "\n",
    "for match in matches:\n",
    "    print(match)"
   ]
  },
  {
   "cell_type": "markdown",
   "id": "54d8563f-7abd-447f-ae6c-cf9e44bf80f2",
   "metadata": {},
   "source": [
    "### Extra flags:\n",
    "* re.VERBOSE (or re.X): Allows you to write more readable regex by ignoring whitespace\n",
    "and comments within the pattern\n",
    "* re.ASCII (or re.A): Makes \\w, \\b, \\d, and \\s match only ASCII characters\n",
    "* re.LOCALE (or re.L): Makes \\w, \\b, \\d, and \\s dependent on the current locale"
   ]
  },
  {
   "cell_type": "markdown",
   "id": "e73c79d4-a717-4a6a-b48c-75fdc274e530",
   "metadata": {},
   "source": [
    "# 11. Practice Exercises"
   ]
  },
  {
   "cell_type": "markdown",
   "id": "9a9df8e2-2bb6-4163-8cca-0f1afee44483",
   "metadata": {},
   "source": [
    "### Q1. Extract all email addresses from given text"
   ]
  },
  {
   "cell_type": "code",
   "execution_count": 305,
   "id": "29fc30de-b5c2-42f7-8a2a-498b93d1238c",
   "metadata": {},
   "outputs": [],
   "source": [
    "text = \"\"\"\n",
    "Hello John, please contact us at support@example.com for further assistance.\n",
    "You can also reach out to our manager at manager@example.org or sales@example.net.\n",
    "Thank you, support@example.com.\n",
    "\"\"\""
   ]
  },
  {
   "cell_type": "code",
   "execution_count": 315,
   "id": "be4c0b47-0052-4969-8857-9b8275a68339",
   "metadata": {},
   "outputs": [
    {
     "name": "stdout",
     "output_type": "stream",
     "text": [
      "support@example.com\n",
      "manager@example.org\n",
      "sales@example.net\n",
      "support@example.com\n"
     ]
    }
   ],
   "source": [
    "pattern = re.compile(r\"\\w+@\\w+.\\w+\")\n",
    "\n",
    "matches = re.findall(pattern, text)\n",
    "\n",
    "for match in matches:\n",
    "    print(match)"
   ]
  },
  {
   "cell_type": "markdown",
   "id": "319698c0-75dc-4617-981a-93ab158c6a7f",
   "metadata": {},
   "source": [
    "### Q2. Validate phone numbers and callout invalid ones\n",
    "* valid format: (XXX) XXX-XXXX"
   ]
  },
  {
   "cell_type": "code",
   "execution_count": 453,
   "id": "04b5080d-b15f-43d2-ad4c-b31edcd3120a",
   "metadata": {},
   "outputs": [],
   "source": [
    "phone_numbers = [\n",
    "    \"(123) 456-7890\",\n",
    "    \"(987) 654-3210\",\n",
    "    \"123-456-7890\",\n",
    "    \"(123)456-7890\",\n",
    "    \"(123) 456-7890\"\n",
    "]"
   ]
  },
  {
   "cell_type": "code",
   "execution_count": 436,
   "id": "18e70a3e-89d7-4994-9805-4a01623c9219",
   "metadata": {},
   "outputs": [
    {
     "name": "stdout",
     "output_type": "stream",
     "text": [
      "123-456-7890\n",
      "(123)456-7890\n"
     ]
    }
   ],
   "source": [
    "pattern = re.compile(r\"\\((\\d{3})\\).(\\d{3})-(\\d{4})\")\n",
    "\n",
    "for number in phone_numbers:\n",
    "    if not re.match(pattern, number):\n",
    "        print(number)"
   ]
  },
  {
   "cell_type": "markdown",
   "id": "5aa35279-2038-4f0f-9411-2f52a856cce3",
   "metadata": {},
   "source": [
    "### Q3. From Q2, represent all numbers in valid format"
   ]
  },
  {
   "cell_type": "code",
   "execution_count": 463,
   "id": "ade37d61-3a35-4716-9f88-8d7df3d500c9",
   "metadata": {},
   "outputs": [
    {
     "name": "stdout",
     "output_type": "stream",
     "text": [
      "(123) 456-7890\n",
      "(987) 654-3210\n",
      "(123) 456-7890\n",
      "(123) 456-7890\n",
      "(123) 456-7890\n"
     ]
    }
   ],
   "source": [
    "# print(phone_numbers)\n",
    "pattern = re.compile(r\"\\(?(\\d{3})\\)?.?(\\d{3})-(\\d{4})\")\n",
    "\n",
    "for number in phone_numbers:\n",
    "    print(re.sub(pattern, r\"(\\1) \\2-\\3\", number).strip())"
   ]
  },
  {
   "cell_type": "markdown",
   "id": "c3e81743-6cc5-4095-8ce6-8675caa23afc",
   "metadata": {},
   "source": [
    "### Q4. Identify dates & modify format to YYYY-MM-DD from below text"
   ]
  },
  {
   "cell_type": "code",
   "execution_count": 466,
   "id": "2a8da4a4-f3ef-4910-8e19-1d9f500f282b",
   "metadata": {},
   "outputs": [],
   "source": [
    "text = \"We have meetings scheduled on 12/05/2023, 23/06/2024, and 07/07/2025.\""
   ]
  },
  {
   "cell_type": "code",
   "execution_count": 488,
   "id": "345b84ce-d042-47e4-a247-03050235d0f2",
   "metadata": {},
   "outputs": [
    {
     "name": "stdout",
     "output_type": "stream",
     "text": [
      "We have meetings scheduled on 2023-05-12, 2024-06-23, and 2025-07-07.\n"
     ]
    }
   ],
   "source": [
    "pattern = re.compile(r\"(\\d{2})/(\\d{2})/(\\d{4})\")\n",
    "matches = re.finditer(pattern, text)\n",
    "print(re.sub(pattern, r\"\\3-\\2-\\1\", text))"
   ]
  },
  {
   "cell_type": "markdown",
   "id": "a705b607-9615-40e1-9199-f4fd58ae498c",
   "metadata": {},
   "source": [
    "### Q5. Extract URLs from given text"
   ]
  },
  {
   "cell_type": "code",
   "execution_count": 493,
   "id": "d9214029-9893-4346-9ea6-6f79f7fc689a",
   "metadata": {},
   "outputs": [],
   "source": [
    "text = \"\"\"\n",
    "Visit our website at https://www.example.com for more information.\n",
    "You can also check out our blog at http://blog.example.com or follow us on https://twitter.com/example.\n",
    "\"\"\""
   ]
  },
  {
   "cell_type": "code",
   "execution_count": 505,
   "id": "c7d2fc6f-0dea-47f3-97fb-a4a1914be091",
   "metadata": {},
   "outputs": [
    {
     "name": "stdout",
     "output_type": "stream",
     "text": [
      "https://www.example.com\n",
      "http://blog.example.com\n",
      "https://twitter.com/example\n"
     ]
    }
   ],
   "source": [
    "# pattern = re.compile(r\"(https?://)(\\w+)\\.(\\w+).?(\\w+)\")\n",
    "patter = re.compile(r\"https?://(www\\.)?[\\w.]+(/\\w+)?\")\n",
    "matches = re.finditer(pattern, text)\n",
    "for match in matches:\n",
    "    print(match.group())"
   ]
  },
  {
   "cell_type": "markdown",
   "id": "f7514161-3a76-43fd-92f7-0589a4a65cb0",
   "metadata": {},
   "source": [
    "### Q6. Extract all sentences from below text"
   ]
  },
  {
   "cell_type": "code",
   "execution_count": 602,
   "id": "0a46f9c9-b3f9-45dd-b4cc-04013c2ea139",
   "metadata": {},
   "outputs": [],
   "source": [
    "text = \"Hello world! How are you doing today? This is agreat day. Let's make the most of it.\""
   ]
  },
  {
   "cell_type": "code",
   "execution_count": 610,
   "id": "91a0fc13-0afb-4366-a1cf-e2f34ea3233b",
   "metadata": {},
   "outputs": [
    {
     "name": "stdout",
     "output_type": "stream",
     "text": [
      "Hello world!\n",
      "How are you doing today?\n",
      "This is agreat day.\n",
      "Let's make the most of it.\n"
     ]
    }
   ],
   "source": [
    "pattern = re.compile(r\".*?[!.?]\")\n",
    "matches = re.findall(pattern, text)\n",
    "for match in matches:\n",
    "    print(match.strip())"
   ]
  },
  {
   "cell_type": "markdown",
   "id": "8ebf70f5-9dc7-423a-a575-c2f3db73414b",
   "metadata": {},
   "source": [
    "### Q7. Validate passwords based on following conditions:\n",
    "* atleast 8 characters in length\n",
    "* atleast one lowercase alphabet\n",
    "* atleast one uppercase alphabet\n",
    "* atleast one numeric digit"
   ]
  },
  {
   "cell_type": "code",
   "execution_count": 623,
   "id": "72b9ccd4-9cf9-421f-b932-a1d8a9cbcd81",
   "metadata": {},
   "outputs": [],
   "source": [
    "passwords = [\n",
    "    \"Password123\",\n",
    "    \"pass123\",\n",
    "    \"PASSWORD123\",\n",
    "    \"Pass123\",\n",
    "    \"ValidPass1\"\n",
    "]"
   ]
  },
  {
   "cell_type": "code",
   "execution_count": 667,
   "id": "e0ff8320-cc80-4592-9f46-d94d7c32f7a0",
   "metadata": {},
   "outputs": [
    {
     "name": "stdout",
     "output_type": "stream",
     "text": [
      "Invalid:  pass123\n",
      "Invalid:  PASSWORD123\n",
      "Invalid:  Pass123\n"
     ]
    }
   ],
   "source": [
    "# We are using look ahead assertion X(?=Y)\n",
    "# X = \"^\"\n",
    "# Y = \".*[a-z]\", \".*[A-Z]\", \".*[0-9]\"\n",
    "# We are actually satisfying 3 conditions: X(?=Y)(?=Z)(?=W)\n",
    "# Now by remaining at the start (^) we are checking if all three conditions that are in the brackets ahead of X are satisfied or not\n",
    "# [a-zA-Z0-9]{8,} = mean if all the characters are total 8 or above\n",
    "pattern = re.compile(r\"^(?=.*[a-z])(?=.*[A-Z])(?=.*[0-9])[a-zA-Z0-9]{8,}\")\n",
    "for password in passwords:\n",
    "    if not re.match(pattern, password):\n",
    "        print(\"Invalid: \",password)"
   ]
  },
  {
   "cell_type": "markdown",
   "id": "c4410ec2-5a48-4b15-a460-8832f913ffcb",
   "metadata": {},
   "source": [
    "### Q8. Remove all HTML tags from given text"
   ]
  },
  {
   "cell_type": "code",
   "execution_count": 672,
   "id": "ab72ebbe-7096-4713-952d-612e309a4087",
   "metadata": {},
   "outputs": [],
   "source": [
    "text = \"\"\"\n",
    "<p>\n",
    "The <strong>advent of technology</strong> in the 21st century has revolutionized the way we live and interact with the world around us. From the <em>smartphones</em> we carry to the <a href=\"https://en.wikipedia.org/wiki/Internet_of_things\" target=\"_blank\">Internet of Things</a> (IoT) devices that connect our homes, technology has become an <u>integral part</u> of our daily lives. <br><br>\n",
    "Consider the impact of <abbr title=\"Artificial Intelligence\">AI</abbr> on various industries. AI-driven applications are transforming <span style=\"color: blue;\">healthcare</span> by enabling predictive diagnostics and personalized treatment plans. In the realm of <span style=\"font-weight: bold;\">education</span>, AI is facilitating adaptive learning experiences that cater to individual student needs. <br><br>\n",
    "Moreover, the <mark>explosion of data</mark> has given rise to the field of data science, where professionals analyze vast amounts of information to uncover <q>insights</q> that drive decision-making across sectors. In <cite>finance</cite>, algorithms are being used to detect fraudulent activities and to automate trading processes, making the markets more efficient. <br><br>\n",
    "The rise of <kbd>cloud computing</kbd> has also played a crucial role in this technological transformation. By offering scalable and flexible computing resources, the cloud has enabled businesses to innovate without the constraints of physical infrastructure. This shift to the cloud has made it possible for <ins>startups</ins> and large enterprises alike to <del>maintain</del> <ins>achieve</ins> high levels of agility and resilience. <br><br>\n",
    "Looking ahead, the integration of <sup>5G</sup> networks promises to further accelerate the capabilities of connected devices, paving the way for advancements in areas such as <sub>autonomous vehicles</sub> and smart cities. As we continue to explore the potential of these emerging technologies, it is imperative that we also address the ethical and societal implications they bring. <br><br>\n",
    "In conclusion, the <strong>rapid pace</strong> of technological advancement presents both opportunities and challenges. By embracing innovation while remaining mindful of its impact, we can <i>harness the power</i> of technology to <u>create a better future</u> for all.\n",
    "</p>\n",
    "\"\"\""
   ]
  },
  {
   "cell_type": "code",
   "execution_count": 692,
   "id": "5867e916-9213-477d-b601-d2b92ee9e2b3",
   "metadata": {},
   "outputs": [
    {
     "name": "stdout",
     "output_type": "stream",
     "text": [
      "The advent of technology in the 21st century has revolutionized the way we live and interact with the world around us. From the smartphones we carry to the Internet of Things (IoT) devices that connect our homes, technology has become an integral part of our daily lives. \n",
      "Consider the impact of AI on various industries. AI-driven applications are transforming healthcare by enabling predictive diagnostics and personalized treatment plans. In the realm of education, AI is facilitating adaptive learning experiences that cater to individual student needs. \n",
      "Moreover, the explosion of data has given rise to the field of data science, where professionals analyze vast amounts of information to uncover insights that drive decision-making across sectors. In finance, algorithms are being used to detect fraudulent activities and to automate trading processes, making the markets more efficient. \n",
      "The rise of cloud computing has also played a crucial role in this technological transformation. By offering scalable and flexible computing resources, the cloud has enabled businesses to innovate without the constraints of physical infrastructure. This shift to the cloud has made it possible for startups and large enterprises alike to maintain achieve high levels of agility and resilience. \n",
      "Looking ahead, the integration of 5G networks promises to further accelerate the capabilities of connected devices, paving the way for advancements in areas such as autonomous vehicles and smart cities. As we continue to explore the potential of these emerging technologies, it is imperative that we also address the ethical and societal implications they bring. \n",
      "In conclusion, the rapid pace of technological advancement presents both opportunities and challenges. By embracing innovation while remaining mindful of its impact, we can harness the power of technology to create a better future for all.\n"
     ]
    }
   ],
   "source": [
    "pattern = re.compile(r\"(</?.+?>)\")\n",
    "matches = re.sub(pattern, \"\" ,text)\n",
    "# matches = re.findall(pattern, text)\n",
    "print(matches.strip())"
   ]
  }
 ],
 "metadata": {
  "kernelspec": {
   "display_name": "Python 3 (ipykernel)",
   "language": "python",
   "name": "python3"
  },
  "language_info": {
   "codemirror_mode": {
    "name": "ipython",
    "version": 3
   },
   "file_extension": ".py",
   "mimetype": "text/x-python",
   "name": "python",
   "nbconvert_exporter": "python",
   "pygments_lexer": "ipython3",
   "version": "3.12.4"
  }
 },
 "nbformat": 4,
 "nbformat_minor": 5
}
