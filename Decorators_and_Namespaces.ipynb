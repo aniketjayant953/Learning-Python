{
 "cells": [
  {
   "cell_type": "markdown",
   "id": "e7475eec",
   "metadata": {},
   "source": [
    "# Namespaces\n",
    "A namespace is a space that holds names(identifiers).Programmatically speaking, namespaces are dictionary of identifiers(keys) and their objects(values)\n",
    "\n",
    "### There are 4 types of namespaces:\n",
    "\n",
    "- Builtin Namespace\n",
    "- Global Namespace\n",
    "- Enclosing Namespace\n",
    "- Local Namespace"
   ]
  },
  {
   "cell_type": "markdown",
   "id": "4bc82b90",
   "metadata": {},
   "source": [
    "# Scope and LEGB Rule\n",
    "A scope is a textual region of a Python program where a namespace is directly accessible.\n",
    "\n",
    "The interpreter searches for a name from the inside out, looking in the local, enclosing, global, and finally the built-in scope. If the interpreter doesn’t find the name in any of these locations, then Python raises a NameError exception."
   ]
  },
  {
   "cell_type": "code",
   "execution_count": 1,
   "id": "b3b051fc",
   "metadata": {},
   "outputs": [
    {
     "name": "stdout",
     "output_type": "stream",
     "text": [
      "3\n",
      "2\n"
     ]
    }
   ],
   "source": [
    "# local and global\n",
    "# global var\n",
    "a = 2\n",
    "\n",
    "def temp():\n",
    "    # local var\n",
    "    b = 3\n",
    "    print(b)\n",
    "\n",
    "temp()\n",
    "print(a)"
   ]
  },
  {
   "cell_type": "code",
   "execution_count": 2,
   "id": "c62f8f69",
   "metadata": {},
   "outputs": [
    {
     "name": "stdout",
     "output_type": "stream",
     "text": [
      "3\n",
      "2\n"
     ]
    }
   ],
   "source": [
    "# local and global -> same name\n",
    "# global var\n",
    "a = 2\n",
    "\n",
    "def temp():\n",
    "    # local var\n",
    "    a = 3\n",
    "    print(a)\n",
    "\n",
    "temp()\n",
    "print(a)"
   ]
  },
  {
   "cell_type": "code",
   "execution_count": 3,
   "id": "3dabf024",
   "metadata": {},
   "outputs": [
    {
     "name": "stdout",
     "output_type": "stream",
     "text": [
      "2\n",
      "2\n"
     ]
    }
   ],
   "source": [
    "# local and global -> local does not have but global has\n",
    "a = 2\n",
    "\n",
    "def temp():\n",
    "    # local var\n",
    "    print(a)\n",
    "\n",
    "temp()\n",
    "print(a)"
   ]
  },
  {
   "cell_type": "code",
   "execution_count": 4,
   "id": "b541b0ea",
   "metadata": {},
   "outputs": [
    {
     "ename": "UnboundLocalError",
     "evalue": "local variable 'a' referenced before assignment",
     "output_type": "error",
     "traceback": [
      "\u001b[1;31m---------------------------------------------------------------------------\u001b[0m",
      "\u001b[1;31mUnboundLocalError\u001b[0m                         Traceback (most recent call last)",
      "Input \u001b[1;32mIn [4]\u001b[0m, in \u001b[0;36m<cell line: 9>\u001b[1;34m()\u001b[0m\n\u001b[0;32m      6\u001b[0m     a \u001b[38;5;241m+\u001b[39m\u001b[38;5;241m=\u001b[39m \u001b[38;5;241m1\u001b[39m\n\u001b[0;32m      7\u001b[0m     \u001b[38;5;28mprint\u001b[39m(a)\n\u001b[1;32m----> 9\u001b[0m \u001b[43mtemp\u001b[49m\u001b[43m(\u001b[49m\u001b[43m)\u001b[49m\n\u001b[0;32m     10\u001b[0m \u001b[38;5;28mprint\u001b[39m(a)\n",
      "Input \u001b[1;32mIn [4]\u001b[0m, in \u001b[0;36mtemp\u001b[1;34m()\u001b[0m\n\u001b[0;32m      4\u001b[0m \u001b[38;5;28;01mdef\u001b[39;00m \u001b[38;5;21mtemp\u001b[39m():\n\u001b[0;32m      5\u001b[0m     \u001b[38;5;66;03m# local var\u001b[39;00m\n\u001b[1;32m----> 6\u001b[0m     a \u001b[38;5;241m+\u001b[39m\u001b[38;5;241m=\u001b[39m \u001b[38;5;241m1\u001b[39m\n\u001b[0;32m      7\u001b[0m     \u001b[38;5;28mprint\u001b[39m(a)\n",
      "\u001b[1;31mUnboundLocalError\u001b[0m: local variable 'a' referenced before assignment"
     ]
    }
   ],
   "source": [
    "# local and global -> can't edit global var\n",
    "a = 2\n",
    "\n",
    "def temp():\n",
    "    # local var\n",
    "    a += 1\n",
    "    print(a)\n",
    "\n",
    "temp()\n",
    "print(a)"
   ]
  },
  {
   "cell_type": "code",
   "execution_count": 5,
   "id": "934caf51",
   "metadata": {},
   "outputs": [
    {
     "name": "stdout",
     "output_type": "stream",
     "text": [
      "3\n",
      "3\n"
     ]
    }
   ],
   "source": [
    "# local and global -> can't edit global var\n",
    "a = 2\n",
    "\n",
    "def temp():\n",
    "    global a\n",
    "    a += 1\n",
    "    print(a)\n",
    "\n",
    "temp()\n",
    "print(a)"
   ]
  },
  {
   "cell_type": "code",
   "execution_count": 6,
   "id": "62ee01b9",
   "metadata": {},
   "outputs": [
    {
     "name": "stdout",
     "output_type": "stream",
     "text": [
      "1\n",
      "1\n"
     ]
    }
   ],
   "source": [
    "# local and global -> global created inside local\n",
    "\n",
    "def temp():\n",
    "    global a\n",
    "    a = 1\n",
    "    print(a)\n",
    "\n",
    "temp()\n",
    "print(a)"
   ]
  },
  {
   "cell_type": "code",
   "execution_count": 7,
   "id": "6e10e14e",
   "metadata": {},
   "outputs": [
    {
     "name": "stdout",
     "output_type": "stream",
     "text": [
      "5\n",
      "5\n"
     ]
    },
    {
     "ename": "NameError",
     "evalue": "name 'z' is not defined",
     "output_type": "error",
     "traceback": [
      "\u001b[1;31m---------------------------------------------------------------------------\u001b[0m",
      "\u001b[1;31mNameError\u001b[0m                                 Traceback (most recent call last)",
      "Input \u001b[1;32mIn [7]\u001b[0m, in \u001b[0;36m<cell line: 9>\u001b[1;34m()\u001b[0m\n\u001b[0;32m      7\u001b[0m temp(\u001b[38;5;241m5\u001b[39m)\n\u001b[0;32m      8\u001b[0m \u001b[38;5;28mprint\u001b[39m(a)\n\u001b[1;32m----> 9\u001b[0m \u001b[38;5;28mprint\u001b[39m(\u001b[43mz\u001b[49m)\n",
      "\u001b[1;31mNameError\u001b[0m: name 'z' is not defined"
     ]
    }
   ],
   "source": [
    "# local and global -> function parameter is local\n",
    "\n",
    "def temp(z): # z is a local var\n",
    "    print(z)\n",
    "\n",
    "a = 5\n",
    "temp(5)\n",
    "print(a)\n",
    "print(z)"
   ]
  },
  {
   "cell_type": "code",
   "execution_count": 8,
   "id": "6d3d094a",
   "metadata": {},
   "outputs": [
    {
     "name": "stdout",
     "output_type": "stream",
     "text": [
      "['ArithmeticError', 'AssertionError', 'AttributeError', 'BaseException', 'BlockingIOError', 'BrokenPipeError', 'BufferError', 'BytesWarning', 'ChildProcessError', 'ConnectionAbortedError', 'ConnectionError', 'ConnectionRefusedError', 'ConnectionResetError', 'DeprecationWarning', 'EOFError', 'Ellipsis', 'EnvironmentError', 'Exception', 'False', 'FileExistsError', 'FileNotFoundError', 'FloatingPointError', 'FutureWarning', 'GeneratorExit', 'IOError', 'ImportError', 'ImportWarning', 'IndentationError', 'IndexError', 'InterruptedError', 'IsADirectoryError', 'KeyError', 'KeyboardInterrupt', 'LookupError', 'MemoryError', 'ModuleNotFoundError', 'NameError', 'None', 'NotADirectoryError', 'NotImplemented', 'NotImplementedError', 'OSError', 'OverflowError', 'PendingDeprecationWarning', 'PermissionError', 'ProcessLookupError', 'RecursionError', 'ReferenceError', 'ResourceWarning', 'RuntimeError', 'RuntimeWarning', 'StopAsyncIteration', 'StopIteration', 'SyntaxError', 'SyntaxWarning', 'SystemError', 'SystemExit', 'TabError', 'TimeoutError', 'True', 'TypeError', 'UnboundLocalError', 'UnicodeDecodeError', 'UnicodeEncodeError', 'UnicodeError', 'UnicodeTranslateError', 'UnicodeWarning', 'UserWarning', 'ValueError', 'Warning', 'WindowsError', 'ZeroDivisionError', '__IPYTHON__', '__build_class__', '__debug__', '__doc__', '__import__', '__loader__', '__name__', '__package__', '__spec__', 'abs', 'all', 'any', 'ascii', 'bin', 'bool', 'breakpoint', 'bytearray', 'bytes', 'callable', 'chr', 'classmethod', 'compile', 'complex', 'copyright', 'credits', 'delattr', 'dict', 'dir', 'display', 'divmod', 'enumerate', 'eval', 'exec', 'execfile', 'filter', 'float', 'format', 'frozenset', 'get_ipython', 'getattr', 'globals', 'hasattr', 'hash', 'help', 'hex', 'id', 'input', 'int', 'isinstance', 'issubclass', 'iter', 'len', 'license', 'list', 'locals', 'map', 'max', 'memoryview', 'min', 'next', 'object', 'oct', 'open', 'ord', 'pow', 'print', 'property', 'range', 'repr', 'reversed', 'round', 'runfile', 'set', 'setattr', 'slice', 'sorted', 'staticmethod', 'str', 'sum', 'super', 'tuple', 'type', 'vars', 'zip']\n"
     ]
    }
   ],
   "source": [
    "# Built-in Scope\n",
    "# how to see all the built-ins\n",
    "import builtins\n",
    "print(dir(builtins))"
   ]
  },
  {
   "cell_type": "code",
   "execution_count": 16,
   "id": "6dd8f0f4",
   "metadata": {},
   "outputs": [
    {
     "name": "stdout",
     "output_type": "stream",
     "text": [
      "hello\n",
      "hello\n"
     ]
    }
   ],
   "source": [
    "# renaming the builtins\n",
    "l = [1,2,3]\n",
    "max(l)\n",
    "\n",
    "def max(l):\n",
    "    print('hello')\n",
    "    \n",
    "max(l)"
   ]
  },
  {
   "cell_type": "code",
   "execution_count": 20,
   "id": "10c27d01",
   "metadata": {},
   "outputs": [
    {
     "name": "stdout",
     "output_type": "stream",
     "text": [
      "3\n",
      "outer function\n",
      "main program\n"
     ]
    }
   ],
   "source": [
    "# Enclosing Scope\n",
    "\n",
    "def outer():\n",
    "    a = 4\n",
    "    def inner():\n",
    "        a = 3\n",
    "        print(a)\n",
    "    inner()\n",
    "    print('outer function')\n",
    "\n",
    "a = 1\n",
    "outer()\n",
    "print('main program')"
   ]
  },
  {
   "cell_type": "code",
   "execution_count": 26,
   "id": "9a6a3efd",
   "metadata": {},
   "outputs": [
    {
     "name": "stdout",
     "output_type": "stream",
     "text": [
      "2\n",
      "11\n",
      "outer function\n",
      "main program\n"
     ]
    }
   ],
   "source": [
    "# nonlocal keyword\n",
    "\n",
    "def outer():\n",
    "    a = 1  # nonlocal\n",
    "    def inner():\n",
    "        nonlocal a\n",
    "        a += 1\n",
    "        print(a)\n",
    "        inside()\n",
    "    inner()\n",
    "    print('outer function')\n",
    "\n",
    "a = 5 # global\n",
    "outer()\n",
    "print('main program')"
   ]
  },
  {
   "cell_type": "markdown",
   "id": "12c12d52",
   "metadata": {},
   "source": [
    "# Decorators\n",
    "A decorator in python is a function that receives another function as input and adds some functionality(decoration) to and it and returns it.\n",
    "\n",
    "This can happen only because python functions are 1st class citizens.\n",
    "\n",
    "There are 2 types of decorators available in python\n",
    "\n",
    "- Built in decorators like @staticmethod, @classmethod, @abstractmethod and @property etc\n",
    "- User defined decorators that we programmers can create according to our needs"
   ]
  },
  {
   "cell_type": "code",
   "execution_count": 42,
   "id": "682af9d7",
   "metadata": {},
   "outputs": [
    {
     "name": "stdout",
     "output_type": "stream",
     "text": [
      "hello\n"
     ]
    }
   ],
   "source": [
    "# Python are 1st class function\n",
    "def func():\n",
    "    print('hello')\n",
    "\n",
    "a = func\n",
    "a()"
   ]
  },
  {
   "cell_type": "code",
   "execution_count": 29,
   "id": "538cf41c",
   "metadata": {},
   "outputs": [
    {
     "data": {
      "text/plain": [
       "4"
      ]
     },
     "execution_count": 29,
     "metadata": {},
     "output_type": "execute_result"
    }
   ],
   "source": [
    "# passing a function inside another function as input\n",
    "def modify(func,num):\n",
    "    return func(num)\n",
    "    \n",
    "def square(num):\n",
    "    return num**2\n",
    "\n",
    "modify(square,2)"
   ]
  },
  {
   "cell_type": "code",
   "execution_count": null,
   "id": "a213ce3a",
   "metadata": {},
   "outputs": [],
   "source": [
    "# How this works -> closure?"
   ]
  },
  {
   "cell_type": "code",
   "execution_count": 43,
   "id": "491b56ec",
   "metadata": {},
   "outputs": [
    {
     "name": "stdout",
     "output_type": "stream",
     "text": [
      "5\n"
     ]
    }
   ],
   "source": [
    "# even though after execution nonlocal var should be temp and \n",
    "# should be deleted this does not happen inner fuction still able\n",
    "# to access the nonlocal var (a='5') that is deleted This is called decorators\n",
    "def outer():\n",
    "    a = 5\n",
    "    def inner():\n",
    "        print(a)\n",
    "    return inner\n",
    "a = outer()\n",
    "a()"
   ]
  },
  {
   "cell_type": "code",
   "execution_count": 35,
   "id": "e836d112",
   "metadata": {},
   "outputs": [
    {
     "name": "stdout",
     "output_type": "stream",
     "text": [
      "**************************************************\n",
      "hello\n",
      "**************************************************\n",
      "**************************************************\n",
      "hello nitish\n",
      "**************************************************\n"
     ]
    }
   ],
   "source": [
    "# same as earlier code\n",
    "# simple example\n",
    "\n",
    "def my_decorator(func):\n",
    "    def wrapper():\n",
    "        print('*'*50)\n",
    "        func()\n",
    "        print('*'*50)\n",
    "    return wrapper # notice I didn't add '()' at the end\n",
    "        \n",
    "def hello():\n",
    "    print('hello')\n",
    "def display():\n",
    "    print('hello nitish')\n",
    "    \n",
    "a = my_decorator(hello)\n",
    "a() # I'm adding '()' to call it\n",
    "\n",
    "a = my_decorator(display)\n",
    "a()"
   ]
  },
  {
   "cell_type": "code",
   "execution_count": 44,
   "id": "ea488c08",
   "metadata": {},
   "outputs": [
    {
     "name": "stdout",
     "output_type": "stream",
     "text": [
      "**************************************************\n",
      "hello\n",
      "**************************************************\n"
     ]
    }
   ],
   "source": [
    "# Better Syntax?\n",
    "\n",
    "def my_decorator(func):\n",
    "    def wrapper():\n",
    "        print('*'*50)\n",
    "        func()\n",
    "        print('*'*50)\n",
    "    return wrapper # notice I didn't add '()' at the end\n",
    "\n",
    "@my_decorator\n",
    "def hello():\n",
    "    print('hello')\n",
    "    \n",
    "hello()\n"
   ]
  },
  {
   "cell_type": "code",
   "execution_count": 62,
   "id": "84d981b8",
   "metadata": {},
   "outputs": [
    {
     "name": "stdout",
     "output_type": "stream",
     "text": [
      "hello world\n",
      "Time taken by  hello 2.0151333808898926 secs\n",
      "4\n",
      "Time taken by  square 1.0084469318389893 secs\n",
      "81\n",
      "Time taken by  power 0.0010135173797607422 secs\n"
     ]
    }
   ],
   "source": [
    "# anything meaningful?\n",
    "\n",
    "def timer(func):\n",
    "    def wrapper(*args):\n",
    "        start = time.time()\n",
    "        func(*args)\n",
    "        print('Time taken by ',func.__name__,time.time()-start,'secs')\n",
    "    return wrapper\n",
    "\n",
    "@timer\n",
    "def hello():\n",
    "    time.sleep(2)\n",
    "    print('hello world')\n",
    "    \n",
    "@timer    \n",
    "def square(num):\n",
    "    time.sleep(1)\n",
    "    print(num**2)\n",
    "\n",
    "@timer\n",
    "def power(a,b):\n",
    "    print(a**b)\n",
    "\n",
    "hello()\n",
    "square(2)\n",
    "power(3,4)"
   ]
  },
  {
   "cell_type": "code",
   "execution_count": 75,
   "id": "3c087e16",
   "metadata": {},
   "outputs": [
    {
     "name": "stdout",
     "output_type": "stream",
     "text": [
      "16\n",
      "hello nitish\n"
     ]
    }
   ],
   "source": [
    "def sanity_check(data_type):\n",
    "    def outer_wrapper(func):\n",
    "        def inner_wrapper(*args):\n",
    "            if type(*args)==data_type:\n",
    "                func(*args)\n",
    "            else:\n",
    "                raise TypeError('Ye datatype nahi chalega')\n",
    "        return inner_wrapper\n",
    "    return outer_wrapper\n",
    "\n",
    "@sanity_check(int)\n",
    "def square(num):\n",
    "        print(num**2)\n",
    "square(4)\n",
    "\n",
    "@sanity_check(str)\n",
    "def greet(name):\n",
    "    print('hello',name)\n",
    "    \n",
    "greet('nitish')"
   ]
  },
  {
   "cell_type": "code",
   "execution_count": null,
   "id": "f8d2a85b",
   "metadata": {},
   "outputs": [],
   "source": [
    "square(*args):"
   ]
  }
 ],
 "metadata": {
  "kernelspec": {
   "display_name": "Python 3 (ipykernel)",
   "language": "python",
   "name": "python3"
  },
  "language_info": {
   "codemirror_mode": {
    "name": "ipython",
    "version": 3
   },
   "file_extension": ".py",
   "mimetype": "text/x-python",
   "name": "python",
   "nbconvert_exporter": "python",
   "pygments_lexer": "ipython3",
   "version": "3.9.12"
  }
 },
 "nbformat": 4,
 "nbformat_minor": 5
}
