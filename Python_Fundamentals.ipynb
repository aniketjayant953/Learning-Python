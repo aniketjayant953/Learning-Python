{
 "cells": [
  {
   "cell_type": "markdown",
   "id": "6fb27f12",
   "metadata": {},
   "source": [
    "### Python Output"
   ]
  },
  {
   "cell_type": "code",
   "execution_count": 1,
   "id": "372e9800",
   "metadata": {},
   "outputs": [
    {
     "name": "stdout",
     "output_type": "stream",
     "text": [
      "Hello World\n"
     ]
    }
   ],
   "source": [
    "# Python is a case sensitive language\n",
    "print('Hello World')"
   ]
  },
  {
   "cell_type": "code",
   "execution_count": 2,
   "id": "677ed9a4",
   "metadata": {},
   "outputs": [
    {
     "name": "stdout",
     "output_type": "stream",
     "text": [
      "Salman Khan\n"
     ]
    }
   ],
   "source": [
    "print('Salman Khan')"
   ]
  },
  {
   "cell_type": "code",
   "execution_count": 3,
   "id": "edf5f4b7",
   "metadata": {
    "scrolled": true
   },
   "outputs": [
    {
     "ename": "SyntaxError",
     "evalue": "invalid syntax (1115953987.py, line 1)",
     "output_type": "error",
     "traceback": [
      "\u001b[1;36m  Input \u001b[1;32mIn [3]\u001b[1;36m\u001b[0m\n\u001b[1;33m    print(salman khan)\u001b[0m\n\u001b[1;37m                 ^\u001b[0m\n\u001b[1;31mSyntaxError\u001b[0m\u001b[1;31m:\u001b[0m invalid syntax\n"
     ]
    }
   ],
   "source": [
    "print(salman khan)"
   ]
  },
  {
   "cell_type": "code",
   "execution_count": 4,
   "id": "b161796c",
   "metadata": {},
   "outputs": [
    {
     "name": "stdout",
     "output_type": "stream",
     "text": [
      "7\n"
     ]
    }
   ],
   "source": [
    "print(7)"
   ]
  },
  {
   "cell_type": "code",
   "execution_count": 5,
   "id": "06e77a5f",
   "metadata": {
    "scrolled": true
   },
   "outputs": [
    {
     "name": "stdout",
     "output_type": "stream",
     "text": [
      "True\n"
     ]
    }
   ],
   "source": [
    "print(True)"
   ]
  },
  {
   "cell_type": "code",
   "execution_count": 6,
   "id": "86cc81c6",
   "metadata": {
    "scrolled": true
   },
   "outputs": [
    {
     "name": "stdout",
     "output_type": "stream",
     "text": [
      "7.7\n"
     ]
    }
   ],
   "source": [
    "print(7.7)"
   ]
  },
  {
   "cell_type": "code",
   "execution_count": 8,
   "id": "4d361761",
   "metadata": {
    "scrolled": true
   },
   "outputs": [
    {
     "name": "stdout",
     "output_type": "stream",
     "text": [
      "Hello 1 4.5 True\n"
     ]
    }
   ],
   "source": [
    "print('Hello',1,4.5,True)"
   ]
  },
  {
   "cell_type": "code",
   "execution_count": 1,
   "id": "77044fa0",
   "metadata": {
    "scrolled": true
   },
   "outputs": [
    {
     "name": "stdout",
     "output_type": "stream",
     "text": [
      "Hello/1/4.5/True\n"
     ]
    }
   ],
   "source": [
    "print('Hello',1,4.5,True, sep='/')"
   ]
  },
  {
   "cell_type": "code",
   "execution_count": 3,
   "id": "4605d939",
   "metadata": {},
   "outputs": [
    {
     "name": "stdout",
     "output_type": "stream",
     "text": [
      "hello-world\n"
     ]
    }
   ],
   "source": [
    "print('hello', end='-')\n",
    "print('world')"
   ]
  },
  {
   "cell_type": "code",
   "execution_count": 4,
   "id": "8ddfe978",
   "metadata": {
    "scrolled": true
   },
   "outputs": [
    {
     "name": "stdout",
     "output_type": "stream",
     "text": [
      "\n"
     ]
    },
    {
     "data": {
      "text/plain": [
       "NoneType"
      ]
     },
     "execution_count": 4,
     "metadata": {},
     "output_type": "execute_result"
    }
   ],
   "source": [
    "type(print())"
   ]
  },
  {
   "cell_type": "markdown",
   "id": "5e66acf1",
   "metadata": {},
   "source": [
    "### Data Types"
   ]
  },
  {
   "cell_type": "code",
   "execution_count": 1,
   "id": "b8022579",
   "metadata": {},
   "outputs": [
    {
     "name": "stdout",
     "output_type": "stream",
     "text": [
      "8\n",
      "inf\n"
     ]
    }
   ],
   "source": [
    "# integer\n",
    "print(8)\n",
    "# 1*10^308 - it is the limit for python\n",
    "print(1e309)"
   ]
  },
  {
   "cell_type": "code",
   "execution_count": 5,
   "id": "e965dd2e",
   "metadata": {},
   "outputs": [
    {
     "name": "stdout",
     "output_type": "stream",
     "text": [
      "8.55\n",
      "1.7e+308\n"
     ]
    }
   ],
   "source": [
    "# Decimal/ Float\n",
    "print(8.55)\n",
    "# 1*10^308 - it is the limit for python\n",
    "print(1.7e309)"
   ]
  },
  {
   "cell_type": "code",
   "execution_count": 6,
   "id": "97a06d84",
   "metadata": {},
   "outputs": [
    {
     "name": "stdout",
     "output_type": "stream",
     "text": [
      "True\n",
      "False\n"
     ]
    }
   ],
   "source": [
    "# Boolean\n",
    "print(True)\n",
    "print(False)"
   ]
  },
  {
   "cell_type": "code",
   "execution_count": 7,
   "id": "12b87cad",
   "metadata": {},
   "outputs": [
    {
     "name": "stdout",
     "output_type": "stream",
     "text": [
      "Hello World\n"
     ]
    }
   ],
   "source": [
    "# Text/String\n",
    "print('Hello World')"
   ]
  },
  {
   "cell_type": "code",
   "execution_count": 8,
   "id": "8308b1d6",
   "metadata": {},
   "outputs": [
    {
     "name": "stdout",
     "output_type": "stream",
     "text": [
      "(5+6j)\n"
     ]
    }
   ],
   "source": [
    "# Complex numbers\n",
    "print(5+6j)"
   ]
  },
  {
   "cell_type": "code",
   "execution_count": 9,
   "id": "562cc384",
   "metadata": {},
   "outputs": [
    {
     "name": "stdout",
     "output_type": "stream",
     "text": [
      "[1, 2, 3, 4, 5]\n"
     ]
    }
   ],
   "source": [
    "# List -> C -> Array\n",
    "print([1,2,3,4,5])"
   ]
  },
  {
   "cell_type": "code",
   "execution_count": 10,
   "id": "a6f5b57d",
   "metadata": {},
   "outputs": [
    {
     "name": "stdout",
     "output_type": "stream",
     "text": [
      "(1, 2, 3, 4, 5)\n"
     ]
    }
   ],
   "source": [
    "# Tuple\n",
    "print((1,2,3,4,5))"
   ]
  },
  {
   "cell_type": "code",
   "execution_count": 11,
   "id": "c3a633a0",
   "metadata": {},
   "outputs": [
    {
     "name": "stdout",
     "output_type": "stream",
     "text": [
      "{1, 2, 3, 4, 5}\n"
     ]
    }
   ],
   "source": [
    "# Sets\n",
    "print({1,2,3,4,5})"
   ]
  },
  {
   "cell_type": "code",
   "execution_count": 12,
   "id": "318f9ff5",
   "metadata": {},
   "outputs": [
    {
     "name": "stdout",
     "output_type": "stream",
     "text": [
      "{'name': 'Nitish', 'gender': 'Male', 'age': 45}\n"
     ]
    }
   ],
   "source": [
    "# Dictionary\n",
    "print({'name': \"Nitish\", 'gender':'Male','age':45})"
   ]
  },
  {
   "cell_type": "code",
   "execution_count": 15,
   "id": "7359438a",
   "metadata": {},
   "outputs": [
    {
     "data": {
      "text/plain": [
       "complex"
      ]
     },
     "execution_count": 15,
     "metadata": {},
     "output_type": "execute_result"
    }
   ],
   "source": [
    "# type\n",
    "type(6+7j)"
   ]
  },
  {
   "cell_type": "markdown",
   "id": "2e17480c",
   "metadata": {},
   "source": [
    "## Variables"
   ]
  },
  {
   "cell_type": "code",
   "execution_count": 16,
   "id": "fb9d9534",
   "metadata": {},
   "outputs": [],
   "source": [
    "# Static Vs Dynamic Typing\n",
    "# Static Vs Dynamic Binding\n",
    "# Stylish Decalaration Techniques"
   ]
  },
  {
   "cell_type": "code",
   "execution_count": 18,
   "id": "24ce5359",
   "metadata": {},
   "outputs": [
    {
     "name": "stdout",
     "output_type": "stream",
     "text": [
      "nitish\n",
      "11\n"
     ]
    }
   ],
   "source": [
    "# C/C++\n",
    "# int name = 'nitish'\n",
    "\n",
    "name = 'nitish'\n",
    "print(name)\n",
    "\n",
    "a = 5\n",
    "b = 6\n",
    "print(a+b)"
   ]
  },
  {
   "cell_type": "code",
   "execution_count": 20,
   "id": "d671f745",
   "metadata": {},
   "outputs": [],
   "source": [
    "# Static Typing\n",
    "# It is where you already declare the type of the \n",
    "# variable already\n",
    "# C/C++\n",
    "int name = 'nitish'"
   ]
  },
  {
   "cell_type": "code",
   "execution_count": 19,
   "id": "68774a90",
   "metadata": {},
   "outputs": [],
   "source": [
    "# Dynamic Typing\n",
    "# It is a type of typing where you don't declare \n",
    "#the type of variable before hand Python is smart\n",
    "#  enough to understand the type of the data already\n",
    "a = 5"
   ]
  },
  {
   "cell_type": "code",
   "execution_count": 21,
   "id": "5e006f62",
   "metadata": {},
   "outputs": [
    {
     "name": "stdout",
     "output_type": "stream",
     "text": [
      "5\n",
      "nitish\n"
     ]
    }
   ],
   "source": [
    "# Dynamic Binding\n",
    "# It is type of binding where the same variable can \n",
    "# dynamically change its type of the variable\n",
    "a = 5\n",
    "print(a)\n",
    "a = 'nitish'\n",
    "print(a)"
   ]
  },
  {
   "cell_type": "code",
   "execution_count": null,
   "id": "a03ac9d3",
   "metadata": {},
   "outputs": [],
   "source": [
    "# Static Binding\n",
    "# It can't change its varible type throughout the code\n",
    "# C/C++\n",
    "int name = 'nitish'"
   ]
  },
  {
   "cell_type": "code",
   "execution_count": 23,
   "id": "0e624cae",
   "metadata": {},
   "outputs": [
    {
     "name": "stdout",
     "output_type": "stream",
     "text": [
      "1 2 3\n",
      "1 2 3\n",
      "5 5 5\n"
     ]
    }
   ],
   "source": [
    "a = 1\n",
    "b = 2\n",
    "c = 3\n",
    "print(a,b,c)\n",
    "\n",
    "a,b,c = 1,2,3\n",
    "print(a,b,c)\n",
    "\n",
    "a = b = c = 5\n",
    "print(a,b,c)"
   ]
  },
  {
   "cell_type": "markdown",
   "id": "732e00d8",
   "metadata": {},
   "source": [
    "## Comments"
   ]
  },
  {
   "cell_type": "code",
   "execution_count": 26,
   "id": "a577a1a4",
   "metadata": {},
   "outputs": [
    {
     "name": "stdout",
     "output_type": "stream",
     "text": [
      "11\n"
     ]
    }
   ],
   "source": [
    "# Add the 2 numbers\n",
    "a = 5\n",
    "b = 6 # like this\n",
    "\n",
    "# Second comment\n",
    "print(a + b)"
   ]
  },
  {
   "cell_type": "markdown",
   "id": "17a18c7b",
   "metadata": {},
   "source": [
    "## Keywords & Identifiers"
   ]
  },
  {
   "cell_type": "code",
   "execution_count": 28,
   "id": "38fd2f62",
   "metadata": {},
   "outputs": [],
   "source": [
    "# Keywords\n",
    "# Reserved Keywords that the language won't allow coder to use"
   ]
  },
  {
   "attachments": {
    "keywords.jpg": {
     "image/jpeg": "[encoded data removed]"
    }
   },
   "cell_type": "markdown",
   "id": "3e29eecc",
   "metadata": {},
   "source": [
    "![keywords.jpg](attachment:keywords.jpg)"
   ]
  },
  {
   "cell_type": "code",
   "execution_count": null,
   "id": "3de955e1",
   "metadata": {},
   "outputs": [],
   "source": [
    "# Identifiers\n",
    "\n",
    "# You cannot start with a digit\n",
    "1name = 'Nitish'  #XX\n",
    "\n",
    "# You can use special Character -> _\n",
    "first-name = 'nitish' # XX\n",
    "first_name = 'nitish' # Right\n",
    "\n",
    "# identifiers can't be keywords"
   ]
  },
  {
   "cell_type": "markdown",
   "id": "ead0fb66",
   "metadata": {},
   "source": [
    "## User Input"
   ]
  },
  {
   "cell_type": "code",
   "execution_count": 32,
   "id": "682764c0",
   "metadata": {},
   "outputs": [
    {
     "name": "stdout",
     "output_type": "stream",
     "text": [
      "Enter Name : Aniket\n"
     ]
    },
    {
     "data": {
      "text/plain": [
       "'Aniket'"
      ]
     },
     "execution_count": 32,
     "metadata": {},
     "output_type": "execute_result"
    }
   ],
   "source": [
    "# Stactic Vs Dynamic\n",
    "input('Enter Name : ')"
   ]
  },
  {
   "cell_type": "code",
   "execution_count": 15,
   "id": "a42fb9d6",
   "metadata": {
    "scrolled": true
   },
   "outputs": [
    {
     "name": "stdout",
     "output_type": "stream",
     "text": [
      "Enter first Number : 3\n",
      "Enter Second Number : 4\n",
      "<class 'str'> <class 'str'>\n",
      "<class 'str'> <class 'str'>\n",
      "7\n",
      "<class 'int'>\n"
     ]
    }
   ],
   "source": [
    "# take input from users and store them in a variable\n",
    "a = input('Enter first Number : ')\n",
    "b = input('Enter Second Number : ')\n",
    "print(type(a),type(b))\n",
    "\n",
    "# add the 2 numbers\n",
    "result = int(a) + int(b)\n",
    "print(type(a),type(b))\n",
    "\n",
    "# print the results\n",
    "print(result)\n",
    "print(type(result))"
   ]
  },
  {
   "cell_type": "markdown",
   "id": "b93a26c4",
   "metadata": {},
   "source": [
    "## Type Conversion"
   ]
  },
  {
   "cell_type": "code",
   "execution_count": 2,
   "id": "66df1e20",
   "metadata": {},
   "outputs": [
    {
     "name": "stdout",
     "output_type": "stream",
     "text": [
      "10.6\n",
      "<class 'int'> <class 'float'>\n"
     ]
    }
   ],
   "source": [
    "# Implicit \n",
    "# where the python automatically add 2 different \n",
    "# data type if its possible\n",
    "print(5 + 5.6)\n",
    "print(type(5), type(4.6))"
   ]
  },
  {
   "cell_type": "code",
   "execution_count": 12,
   "id": "432d4dee",
   "metadata": {},
   "outputs": [
    {
     "name": "stdout",
     "output_type": "stream",
     "text": [
      "<class 'str'>\n",
      "<class 'int'>\n",
      "5\n",
      "4.0\n"
     ]
    }
   ],
   "source": [
    "# Explicit\n",
    "# to convert the data type as a requirement for the coder\n",
    "# str -> int\n",
    "a = '4'\n",
    "print(type(a))\n",
    "print(type(int(a)))\n",
    "\n",
    "# int -> str\n",
    "print(str(5))\n",
    "\n",
    "# float \n",
    "print(float(4))"
   ]
  },
  {
   "cell_type": "markdown",
   "id": "0448aaef",
   "metadata": {},
   "source": [
    "## Literals"
   ]
  },
  {
   "cell_type": "code",
   "execution_count": 18,
   "id": "5cb71214",
   "metadata": {},
   "outputs": [
    {
     "name": "stdout",
     "output_type": "stream",
     "text": [
      "10 100 200 300\n",
      "10.5 150.0 0.0015\n",
      "3.14 0.0\n"
     ]
    }
   ],
   "source": [
    "a = 0b1010 # Binary Literals\n",
    "b = 100 # Decima Literal\n",
    "c = 0o310 # Octal Literal\n",
    "d = 0x12c # Hexadecimal literal\n",
    "\n",
    "# Float Literal\n",
    "float_1 = 10.5\n",
    "float_2 = 1.5e2 # 1.5 * 10^2\n",
    "float_3 = 1.5e-3 # 1.5 * 10^-3\n",
    "\n",
    "# Complex Literal\n",
    "x = 3.14j\n",
    "\n",
    "print(a,b,c,d)\n",
    "print(float_1, float_2, float_3)\n",
    "print(x.imag, x.real)"
   ]
  },
  {
   "cell_type": "code",
   "execution_count": 19,
   "id": "9bb6c88e",
   "metadata": {},
   "outputs": [
    {
     "name": "stdout",
     "output_type": "stream",
     "text": [
      "This is Python\n",
      "This is Python\n",
      "C\n",
      "This is multiline String with more than one line code\n",
      "😀😆🤣\n",
      "raw \\n string\n"
     ]
    }
   ],
   "source": [
    "string = 'This is Python'\n",
    "strings = 'This is Python'\n",
    "char = 'C'\n",
    "multiline_str = \"\"\"This is multiline String with more than one line code\"\"\"\n",
    "unicode = u\"\\U0001f600\\U0001F606\\U0001F923\"\n",
    "raw_str = r'raw \\n string'\n",
    "\n",
    "print(string)\n",
    "print(strings)\n",
    "print(char)\n",
    "print(multiline_str)\n",
    "print(unicode)\n",
    "print(raw_str)"
   ]
  },
  {
   "cell_type": "code",
   "execution_count": 20,
   "id": "2774d766",
   "metadata": {},
   "outputs": [
    {
     "name": "stdout",
     "output_type": "stream",
     "text": [
      "a :  5\n",
      "b :  10\n"
     ]
    }
   ],
   "source": [
    "a = True + 4\n",
    "b = False + 10\n",
    "\n",
    "print('a : ' , a)\n",
    "print('b : ' , b)"
   ]
  },
  {
   "cell_type": "code",
   "execution_count": 21,
   "id": "26ad6462",
   "metadata": {
    "scrolled": false
   },
   "outputs": [
    {
     "name": "stdout",
     "output_type": "stream",
     "text": [
      "None\n"
     ]
    }
   ],
   "source": [
    "a = None\n",
    "print(a)"
   ]
  },
  {
   "cell_type": "code",
   "execution_count": 22,
   "id": "b42b00c4",
   "metadata": {},
   "outputs": [
    {
     "name": "stdout",
     "output_type": "stream",
     "text": [
      "6\n"
     ]
    }
   ],
   "source": [
    "# It will not throw a error if you don't want to \n",
    "# give a value to k for now\n",
    "k = None\n",
    "a = 3\n",
    "b = 3\n",
    "print(a+b)"
   ]
  },
  {
   "cell_type": "markdown",
   "id": "2aafeecc",
   "metadata": {},
   "source": [
    "## Operators"
   ]
  },
  {
   "cell_type": "code",
   "execution_count": null,
   "id": "e0a513ae",
   "metadata": {},
   "outputs": [],
   "source": []
  }
 ],
 "metadata": {
  "kernelspec": {
   "display_name": "Python 3 (ipykernel)",
   "language": "python",
   "name": "python3"
  },
  "language_info": {
   "codemirror_mode": {
    "name": "ipython",
    "version": 3
   },
   "file_extension": ".py",
   "mimetype": "text/x-python",
   "name": "python",
   "nbconvert_exporter": "python",
   "pygments_lexer": "ipython3",
   "version": "3.9.12"
  }
 },
 "nbformat": 4,
 "nbformat_minor": 5
}
