{
 "cells": [
  {
   "cell_type": "markdown",
   "id": "b6b47d53",
   "metadata": {},
   "source": [
    "## Write OOP classes to handle the following scenarios:\n",
    "- A user can create and view 2D coordinates\n",
    "- A user can find out the distance between 2 coordinates\n",
    "- A user can find find the distance of a coordinate from origin\n",
    "- A user can check if a point lies on a given line\n",
    "- A user can find the distance between a given 2D point and a given line"
   ]
  },
  {
   "cell_type": "code",
   "execution_count": 73,
   "id": "01235614",
   "metadata": {},
   "outputs": [],
   "source": [
    "class Point:\n",
    "    \n",
    "    def __init__(self,x,y):\n",
    "        self.x_cod = x\n",
    "        self.y_cod = y\n",
    "        \n",
    "    def __str__(self):\n",
    "        return f'<{self.x_cod},{self.y_cod}>'\n",
    "    \n",
    "    def euclidean_distance(self,other):\n",
    "        return ((self.x_cod - other.x_cod)**2 + (self.y_cod - other.y_cod)**2)**0.5\n",
    "    \n",
    "    def distance_from_origin(self):\n",
    "        # return (self.x_cod**2 + self.y_cod**2)**0.5\n",
    "        return self.euclidean_distance(Point(0,0))\n",
    "    \n",
    "        \n",
    "    \n",
    "class Line:\n",
    "    \n",
    "    def __init__(self,a,b,c):\n",
    "        self.A = a\n",
    "        self.B = b\n",
    "        self.C = c\n",
    "    \n",
    "    def __str__(self):\n",
    "        return f'{self.A}x + {self.B}y + {self.C} = 0'\n",
    "        \n",
    "    \n",
    "    def point_on_line(line,point):\n",
    "        if line.A*point.x_cod + line.B*point.y_cod + line.C == 0:\n",
    "            return 'lies on the line'\n",
    "        else:\n",
    "            return 'does not lies on the line'\n",
    "        \n",
    "    def shortest_distance(self,other):\n",
    "        #d = | Ax + By + C| / (A**2 + B**2)**0.5\n",
    "        Ax = self.A * other.x_cod\n",
    "        By = self.B * other.y_cod\n",
    "        C  = self.C\n",
    "        den = (self.A**2 + self.B**2)**0.5\n",
    "\n",
    "        return (abs(Ax + By + C))/den\n",
    "    \n",
    "    \n",
    "    def is_intersection(self,other):\n",
    "        if self.A == other.A and self.B == other.B:\n",
    "            return 'Both lines are Parallel'\n",
    "            \n",
    "        else:\n",
    "            x_num = self.B * other.C - other.B*self.C\n",
    "            x_den = self.A * other.B - other.A*self.B\n",
    "\n",
    "            y_num = other.A * self.C - self.A * other.C\n",
    "            y_den = self.A * other.B - other.A * self.B\n",
    "\n",
    "            X = x_num/x_den\n",
    "            Y = y_num/y_den\n",
    "\n",
    "            return f'The line intersect at <{int(X)},{int(Y)}>'\n",
    "        \n",
    "        \n",
    "    "
   ]
  },
  {
   "cell_type": "code",
   "execution_count": 76,
   "id": "cd6a6d48",
   "metadata": {},
   "outputs": [
    {
     "data": {
      "text/plain": [
       "'The line intersect at <-17,8>'"
      ]
     },
     "execution_count": 76,
     "metadata": {},
     "output_type": "execute_result"
    }
   ],
   "source": [
    "l1 = Line(2,4,2)\n",
    "l2 = Line(2,3,10)\n",
    "\n",
    "l1.is_intersection(l2)"
   ]
  },
  {
   "cell_type": "code",
   "execution_count": 68,
   "id": "9401af99",
   "metadata": {},
   "outputs": [
    {
     "name": "stdout",
     "output_type": "stream",
     "text": [
      "<1,10>\n",
      "1x + 1y + -2 = 0\n",
      "does not lies on the line\n",
      "6.363961030678928\n"
     ]
    }
   ],
   "source": [
    "l1 = Line(1,1,-2)\n",
    "p1 = Point(1,10)\n",
    "print(p1)\n",
    "print(l1)\n",
    "\n",
    "# l1.point_on_line(Point(1,2)) # another way of writing\n",
    "print(l1.point_on_line(p1))\n",
    "print(l1.shortest_distance(p1))"
   ]
  },
  {
   "cell_type": "code",
   "execution_count": 20,
   "id": "61512679",
   "metadata": {},
   "outputs": [
    {
     "name": "stdout",
     "output_type": "stream",
     "text": [
      "<0,0>\n",
      "<1,1>\n"
     ]
    }
   ],
   "source": [
    "p1 = Point(0,0)\n",
    "p2 = Point(1,1)\n",
    "\n",
    "#<x,y>\n",
    "print(p1)\n",
    "print(p2)"
   ]
  },
  {
   "cell_type": "code",
   "execution_count": 16,
   "id": "6a99c5ae",
   "metadata": {},
   "outputs": [
    {
     "data": {
      "text/plain": [
       "1.4142135623730951"
      ]
     },
     "execution_count": 16,
     "metadata": {},
     "output_type": "execute_result"
    }
   ],
   "source": [
    "p1.euclidean_distance(p2)"
   ]
  },
  {
   "cell_type": "code",
   "execution_count": 22,
   "id": "99e190cd",
   "metadata": {},
   "outputs": [
    {
     "data": {
      "text/plain": [
       "1.4142135623730951"
      ]
     },
     "execution_count": 22,
     "metadata": {},
     "output_type": "execute_result"
    }
   ],
   "source": [
    "p2.distance_from_origin()"
   ]
  },
  {
   "cell_type": "markdown",
   "id": "9c1672f1",
   "metadata": {},
   "source": [
    "## How objects access attributes"
   ]
  },
  {
   "cell_type": "code",
   "execution_count": 80,
   "id": "ebae53bf",
   "metadata": {},
   "outputs": [],
   "source": [
    "class Person:\n",
    "    def __init__(self,name_input,country_input):\n",
    "        self.name = name_input\n",
    "        self.country = country_input\n",
    "    def greet(self):\n",
    "        if self.country == 'india':\n",
    "            print('Namaste',self.name)\n",
    "        else:\n",
    "            print('Hello',self.name)"
   ]
  },
  {
   "cell_type": "code",
   "execution_count": 81,
   "id": "1c863cea",
   "metadata": {},
   "outputs": [],
   "source": [
    "# how to access attributes\n",
    "p = Person('nitish','india')"
   ]
  },
  {
   "cell_type": "code",
   "execution_count": 83,
   "id": "7dcdf90e",
   "metadata": {},
   "outputs": [
    {
     "data": {
      "text/plain": [
       "'india'"
      ]
     },
     "execution_count": 83,
     "metadata": {},
     "output_type": "execute_result"
    }
   ],
   "source": [
    "p.name\n",
    "p.country"
   ]
  },
  {
   "cell_type": "code",
   "execution_count": 84,
   "id": "758749c6",
   "metadata": {},
   "outputs": [
    {
     "name": "stdout",
     "output_type": "stream",
     "text": [
      "Namaste nitish\n"
     ]
    }
   ],
   "source": [
    "# how to access methods\n",
    "p.greet()"
   ]
  },
  {
   "cell_type": "code",
   "execution_count": 85,
   "id": "b1bf7f6d",
   "metadata": {},
   "outputs": [
    {
     "ename": "AttributeError",
     "evalue": "'Person' object has no attribute 'gender'",
     "output_type": "error",
     "traceback": [
      "\u001b[1;31m---------------------------------------------------------------------------\u001b[0m",
      "\u001b[1;31mAttributeError\u001b[0m                            Traceback (most recent call last)",
      "Input \u001b[1;32mIn [85]\u001b[0m, in \u001b[0;36m<cell line: 2>\u001b[1;34m()\u001b[0m\n\u001b[0;32m      1\u001b[0m \u001b[38;5;66;03m# what if i try ti access non-existent attributes\u001b[39;00m\n\u001b[1;32m----> 2\u001b[0m \u001b[43mp\u001b[49m\u001b[38;5;241;43m.\u001b[39;49m\u001b[43mgender\u001b[49m\n",
      "\u001b[1;31mAttributeError\u001b[0m: 'Person' object has no attribute 'gender'"
     ]
    }
   ],
   "source": [
    "# what if i try ti access non-existent attributes\n",
    "p.gender"
   ]
  },
  {
   "cell_type": "markdown",
   "id": "602d7ac9",
   "metadata": {},
   "source": [
    "## Attribute creation from outside of the class"
   ]
  },
  {
   "cell_type": "code",
   "execution_count": 86,
   "id": "f0affe50",
   "metadata": {},
   "outputs": [],
   "source": [
    "p.gender = 'male'"
   ]
  },
  {
   "cell_type": "code",
   "execution_count": 87,
   "id": "0629cae3",
   "metadata": {},
   "outputs": [
    {
     "data": {
      "text/plain": [
       "'male'"
      ]
     },
     "execution_count": 87,
     "metadata": {},
     "output_type": "execute_result"
    }
   ],
   "source": [
    "p.gender"
   ]
  },
  {
   "cell_type": "markdown",
   "id": "b20ef031",
   "metadata": {},
   "source": [
    "# Reference Variables\n",
    "- Reference variables hold the objects\n",
    "- We can create objects without reference variable as well\n",
    "- An object can have multiple reference variables\n",
    "- Assigning a new reference variable to an existing object does not create a new object"
   ]
  },
  {
   "cell_type": "code",
   "execution_count": 98,
   "id": "5d64762c",
   "metadata": {},
   "outputs": [
    {
     "name": "stdout",
     "output_type": "stream",
     "text": [
      "<__main__.Person object at 0x000001B48B52FCA0>\n"
     ]
    }
   ],
   "source": [
    "# object without a reference\n",
    "class Person:\n",
    "     def __init__(self):\n",
    "        self.name = 'nitish'\n",
    "        self.gender = 'male'\n",
    "        \n",
    "# can also be created without object\n",
    "# object is not the variable (p) it's the Person() itself\n",
    "# it'll create Person() object but to refernce that object there is no variable\n",
    "# basically it'll lost in memory\n",
    "print(Person())\n",
    "\n",
    "# 'p' is not the object it contains address of the person (object) as a refrence\n",
    "# hence, 'p' it is called Refrence variable\n",
    "p = Person()\n",
    "\n",
    "# that's why you can do this \n",
    "# basically both pointing to the same memory location\n",
    "q = p"
   ]
  },
  {
   "cell_type": "code",
   "execution_count": 96,
   "id": "6c5a0bce",
   "metadata": {},
   "outputs": [
    {
     "name": "stdout",
     "output_type": "stream",
     "text": [
      "nitish\n",
      "nitish\n",
      "ankit\n",
      "ankit\n"
     ]
    }
   ],
   "source": [
    "# change attribute value with the help of 2nd object\n",
    "print(p.name)\n",
    "print(q.name)\n",
    "q.name = 'ankit'\n",
    "print(p.name)\n",
    "print(q.name)\n",
    "\n",
    "# q = p.copy() # throws error"
   ]
  },
  {
   "cell_type": "markdown",
   "id": "f5486da1",
   "metadata": {},
   "source": [
    "## Pass by reference\n",
    "- Passing Person() as an refrence in a calling function(Person('male','nitish'))"
   ]
  },
  {
   "cell_type": "code",
   "execution_count": 104,
   "id": "5fd19738",
   "metadata": {},
   "outputs": [
    {
     "name": "stdout",
     "output_type": "stream",
     "text": [
      "Hi my name is  nitish and I am a male\n",
      "ankit\n",
      "male\n"
     ]
    }
   ],
   "source": [
    "class Person:\n",
    "     def __init__(self,name,gender):\n",
    "        self.name = name\n",
    "        self.gender = gender\n",
    "    \n",
    "# outside the class - > function    \n",
    "def greet(person):\n",
    "    print('Hi my name is ',person.name, 'and I am a', person.gender)\n",
    "    p1 = Person('ankit','male')\n",
    "    return p1\n",
    "\n",
    "p = Person('nitish', 'male')\n",
    "# greet(p)\n",
    "\n",
    "x = greet(p)\n",
    "print(x.name)\n",
    "print(x.gender)"
   ]
  },
  {
   "cell_type": "code",
   "execution_count": 106,
   "id": "96cb91eb",
   "metadata": {},
   "outputs": [
    {
     "name": "stdout",
     "output_type": "stream",
     "text": [
      "1874958772208\n",
      "1874958772208\n",
      "Hi my name is  nitish and I am a male\n",
      "aniket\n",
      "aniket\n"
     ]
    }
   ],
   "source": [
    "class Person:\n",
    "     def __init__(self,name,gender):\n",
    "        self.name = name\n",
    "        self.gender = gender\n",
    "    \n",
    "# outside the class - > function    \n",
    "def greet(person):\n",
    "    print(id(person))\n",
    "    print('Hi my name is ',person.name, 'and I am a', person.gender)\n",
    "    person.name = 'aniket'\n",
    "    print(person.name)\n",
    "    \n",
    "p = Person('nitish', 'male')\n",
    "print(id(p))\n",
    "greet(person = p)\n",
    "print(p.name)"
   ]
  },
  {
   "cell_type": "markdown",
   "id": "0b10e7e2",
   "metadata": {},
   "source": [
    "## Object ki mutability"
   ]
  },
  {
   "cell_type": "code",
   "execution_count": 107,
   "id": "e11d3716",
   "metadata": {},
   "outputs": [
    {
     "name": "stdout",
     "output_type": "stream",
     "text": [
      "1874959032624\n",
      "1874959032624\n"
     ]
    }
   ],
   "source": [
    "class Person:\n",
    "\n",
    "  def __init__(self,name,gender):\n",
    "    self.name = name\n",
    "    self.gender = gender\n",
    "\n",
    "# outside the class -> function\n",
    "def greet(person):\n",
    "  person.name = 'ankit'\n",
    "  return person\n",
    "\n",
    "p = Person('nitish','male')\n",
    "print(id(p))\n",
    "p1 = greet(p)\n",
    "print(id(p1))\n",
    "\n",
    "# it didn't change bc doing changes in Person didn't create \n",
    "# a new address in the memory it made changes in the same address\n",
    "# which proves that it's mutable\n",
    "# immutable object changes it's address to make changes like in tuple"
   ]
  },
  {
   "cell_type": "markdown",
   "id": "dd37c9b7",
   "metadata": {},
   "source": [
    "# Encapsulation"
   ]
  },
  {
   "cell_type": "code",
   "execution_count": 108,
   "id": "3800e290",
   "metadata": {},
   "outputs": [],
   "source": [
    "# instance var -> python tutor\n",
    "class Person:\n",
    "\n",
    "    def __init__(self,name_input,country_input):\n",
    "        self.name = name_input # instance var\n",
    "        self.country = country_input # instance var\n",
    "\n",
    "p1 = Person('nitish','india')\n",
    "p2 = Person('steve','australia')"
   ]
  },
  {
   "cell_type": "code",
   "execution_count": 112,
   "id": "5af7b93b",
   "metadata": {},
   "outputs": [
    {
     "name": "stdout",
     "output_type": "stream",
     "text": [
      "nitish steve\n"
     ]
    }
   ],
   "source": [
    "# why did the same name has 2 values\n",
    "# it's because instance vas is a special type \n",
    "# which has different values for differnt object\n",
    "print(p1.name, p2.name)"
   ]
  },
  {
   "cell_type": "markdown",
   "id": "34ac0222",
   "metadata": {},
   "source": [
    "# Getter and Setter"
   ]
  },
  {
   "cell_type": "code",
   "execution_count": 70,
   "id": "940085ad",
   "metadata": {},
   "outputs": [],
   "source": [
    "# Pascal case -> PascalCase \n",
    "\n",
    "class Atm:\n",
    "    \n",
    "    # constructor(special function) -> superpower\n",
    "    def __init__(self):\n",
    "        self.pin = ''\n",
    "        # i've changed self.balance to self.__balance because it was\n",
    "        # accessible by the user in suggestion when pressing tab and \n",
    "        # also replaceble\n",
    "        self.__balance = 0\n",
    "        \n",
    "    # getter    \n",
    "    def get_balance(self):\n",
    "        return self.__balance\n",
    "    \n",
    "    # setter\n",
    "    def set_balance(self,new_value):\n",
    "        # if check is made to ensure that the junior programmer \n",
    "        # shouldn't messes with the values (heheh)\n",
    "        if type(new_value) == int:\n",
    "            self.__balance = new_value\n",
    "        else:\n",
    "            print('beta bohot maarenge')\n",
    "        \n",
    "            \n",
    "    def create_pin(self):\n",
    "        user_pin = input('enter your pin: ')\n",
    "        self.pin = user_pin\n",
    "        \n",
    "        user_balance = int(input('enter balance: '))\n",
    "        self.__balance = user_balance\n",
    "        \n",
    "        print('pin created successfully')\n",
    "    \n",
    "            \n",
    "    def check_balance(self):\n",
    "        pin = input('Enter old Pin: ')\n",
    "        if pin == self.pin:\n",
    "            print('Balance: ', self.__balance)\n",
    "        else:\n",
    "            print('Chal Nikal yaha se')\n",
    "            \n",
    "    def withdraw(self):\n",
    "        pin = input('Enter Pin: ')\n",
    "        if pin == self.pin:\n",
    "            # allow to withdraw\n",
    "            amt = int(input('Enter the amount: '))\n",
    "            if amt <= self.__balance:\n",
    "                self.__balance = self.__balance - amt\n",
    "                print('withdraw successful. Remaining balance is ',self.__balance)\n",
    "            else:\n",
    "                print('abe garib')\n",
    "        else:\n",
    "            print('sale chor')\n",
    "        "
   ]
  },
  {
   "cell_type": "markdown",
   "id": "71f59398",
   "metadata": {},
   "source": [
    "### Menance junior programmer"
   ]
  },
  {
   "cell_type": "code",
   "execution_count": 71,
   "id": "4b666e2a",
   "metadata": {},
   "outputs": [],
   "source": [
    "obj = Atm()"
   ]
  },
  {
   "cell_type": "code",
   "execution_count": 54,
   "id": "dc636e21",
   "metadata": {
    "scrolled": true
   },
   "outputs": [
    {
     "name": "stdout",
     "output_type": "stream",
     "text": [
      "enter your pin: 1234\n",
      "enter balance: 10000\n",
      "pin created successfully\n"
     ]
    }
   ],
   "source": [
    "obj.create_pin()"
   ]
  },
  {
   "cell_type": "code",
   "execution_count": 55,
   "id": "823b4be5",
   "metadata": {},
   "outputs": [],
   "source": [
    "# this did not made any attribute changes but instead made a \n",
    "# new attribute __balance = 'hehehe' and the original __balance changed to _Atm__balance = 0\n",
    "obj.__balance = 'heheh'"
   ]
  },
  {
   "cell_type": "code",
   "execution_count": 51,
   "id": "27db9226",
   "metadata": {},
   "outputs": [
    {
     "name": "stdout",
     "output_type": "stream",
     "text": [
      "Enter old Pin: 1234\n",
      "Balance:  heheh\n"
     ]
    }
   ],
   "source": [
    "# as you can see here it did not change\n",
    "obj.check_balance()"
   ]
  },
  {
   "cell_type": "code",
   "execution_count": 34,
   "id": "3cc0d5f2",
   "metadata": {},
   "outputs": [
    {
     "name": "stdout",
     "output_type": "stream",
     "text": [
      "Enter Pin: 1234\n",
      "Enter the amount: 5000\n",
      "withdraw successful. Remaining balance is  5000\n"
     ]
    }
   ],
   "source": [
    "obj.withdraw()"
   ]
  },
  {
   "cell_type": "code",
   "execution_count": 35,
   "id": "e03a03d5",
   "metadata": {},
   "outputs": [],
   "source": [
    "# but bu writing this made changes in the actual attribute\n",
    "obj._Atm__balance = 'hehehe'"
   ]
  },
  {
   "cell_type": "markdown",
   "id": "905fc6d0",
   "metadata": {},
   "source": [
    "So it proves nothing is private in python everything and anything is accessible by junior programmer and can able to make changes. It is frustrating knowing that if java can make a varible private so why is it so difficult for python. The answer is \"python is made for adults\" ,simple meaning for this even after having some what measures to make a varible private in python by using (*__varible* ) double underscore why is it that your juniors want to break that common aggrement between gentlemen. So, its not a problem of python it's the problem of your work culture."
   ]
  },
  {
   "cell_type": "code",
   "execution_count": 36,
   "id": "43eca234",
   "metadata": {
    "scrolled": false
   },
   "outputs": [
    {
     "name": "stdout",
     "output_type": "stream",
     "text": [
      "Enter Pin: 1234\n",
      "Enter the amount: 5000\n"
     ]
    },
    {
     "ename": "TypeError",
     "evalue": "'<=' not supported between instances of 'int' and 'str'",
     "output_type": "error",
     "traceback": [
      "\u001b[1;31m---------------------------------------------------------------------------\u001b[0m",
      "\u001b[1;31mTypeError\u001b[0m                                 Traceback (most recent call last)",
      "Input \u001b[1;32mIn [36]\u001b[0m, in \u001b[0;36m<cell line: 1>\u001b[1;34m()\u001b[0m\n\u001b[1;32m----> 1\u001b[0m \u001b[43mobj\u001b[49m\u001b[38;5;241;43m.\u001b[39;49m\u001b[43mwithdraw\u001b[49m\u001b[43m(\u001b[49m\u001b[43m)\u001b[49m\n",
      "Input \u001b[1;32mIn [30]\u001b[0m, in \u001b[0;36mAtm.withdraw\u001b[1;34m(self)\u001b[0m\n\u001b[0;32m     30\u001b[0m \u001b[38;5;28;01mif\u001b[39;00m pin \u001b[38;5;241m==\u001b[39m \u001b[38;5;28mself\u001b[39m\u001b[38;5;241m.\u001b[39mpin:\n\u001b[0;32m     31\u001b[0m     \u001b[38;5;66;03m# allow to withdraw\u001b[39;00m\n\u001b[0;32m     32\u001b[0m     amt \u001b[38;5;241m=\u001b[39m \u001b[38;5;28mint\u001b[39m(\u001b[38;5;28minput\u001b[39m(\u001b[38;5;124m'\u001b[39m\u001b[38;5;124mEnter the amount: \u001b[39m\u001b[38;5;124m'\u001b[39m))\n\u001b[1;32m---> 33\u001b[0m     \u001b[38;5;28;01mif\u001b[39;00m \u001b[43mamt\u001b[49m\u001b[43m \u001b[49m\u001b[38;5;241;43m<\u001b[39;49m\u001b[38;5;241;43m=\u001b[39;49m\u001b[43m \u001b[49m\u001b[38;5;28;43mself\u001b[39;49m\u001b[38;5;241;43m.\u001b[39;49m\u001b[43m__balance\u001b[49m:\n\u001b[0;32m     34\u001b[0m         \u001b[38;5;28mself\u001b[39m\u001b[38;5;241m.\u001b[39m__balance \u001b[38;5;241m=\u001b[39m \u001b[38;5;28mself\u001b[39m\u001b[38;5;241m.\u001b[39m__balance \u001b[38;5;241m-\u001b[39m amt\n\u001b[0;32m     35\u001b[0m         \u001b[38;5;28mprint\u001b[39m(\u001b[38;5;124m'\u001b[39m\u001b[38;5;124mwithdraw successful. Remaining balance is \u001b[39m\u001b[38;5;124m'\u001b[39m,\u001b[38;5;28mself\u001b[39m\u001b[38;5;241m.\u001b[39m__balance)\n",
      "\u001b[1;31mTypeError\u001b[0m: '<=' not supported between instances of 'int' and 'str'"
     ]
    }
   ],
   "source": [
    "obj.withdraw()"
   ]
  },
  {
   "cell_type": "markdown",
   "id": "9dec41fe",
   "metadata": {},
   "source": [
    "### New junior programmer"
   ]
  },
  {
   "cell_type": "code",
   "execution_count": 79,
   "id": "36780725",
   "metadata": {},
   "outputs": [],
   "source": [
    "obj = Atm()"
   ]
  },
  {
   "cell_type": "code",
   "execution_count": 80,
   "id": "efc72e7f",
   "metadata": {},
   "outputs": [
    {
     "data": {
      "text/plain": [
       "0"
      ]
     },
     "execution_count": 80,
     "metadata": {},
     "output_type": "execute_result"
    }
   ],
   "source": [
    "obj.get_balance()"
   ]
  },
  {
   "cell_type": "code",
   "execution_count": 81,
   "id": "b686846b",
   "metadata": {},
   "outputs": [
    {
     "name": "stdout",
     "output_type": "stream",
     "text": [
      "beta bohot maarenge\n"
     ]
    }
   ],
   "source": [
    "obj.set_balance('hehe')"
   ]
  },
  {
   "cell_type": "code",
   "execution_count": 82,
   "id": "9b029805",
   "metadata": {},
   "outputs": [
    {
     "data": {
      "text/plain": [
       "0"
      ]
     },
     "execution_count": 82,
     "metadata": {},
     "output_type": "execute_result"
    }
   ],
   "source": [
    "obj.get_balance()"
   ]
  },
  {
   "cell_type": "markdown",
   "id": "5d1ac17b",
   "metadata": {},
   "source": [
    "# Collection of objects"
   ]
  },
  {
   "cell_type": "code",
   "execution_count": 86,
   "id": "c65c00b1",
   "metadata": {},
   "outputs": [
    {
     "name": "stdout",
     "output_type": "stream",
     "text": [
      "nitish male\n",
      "ankit male\n",
      "ankita female\n"
     ]
    }
   ],
   "source": [
    "class Person:\n",
    "\n",
    "  def __init__(self,name,gender):\n",
    "    self.name = name\n",
    "    self.gender = gender\n",
    "    \n",
    "p1 = Person('nitish','male')\n",
    "p2 = Person('ankit','male')\n",
    "p3 = Person('ankita','female')\n",
    "\n",
    "# can also store it in a list bc it allows mutuable object\n",
    "l = [p1,p2,p3]\n",
    "\n",
    "for i in l:\n",
    "    print(i.name,i.gender)"
   ]
  },
  {
   "cell_type": "code",
   "execution_count": 87,
   "id": "c78fbe87",
   "metadata": {},
   "outputs": [
    {
     "name": "stdout",
     "output_type": "stream",
     "text": [
      "male nitish\n",
      "female ankita\n"
     ]
    }
   ],
   "source": [
    "d = {'p1':p1,'p2':p2,'p2':p3}\n",
    "\n",
    "for i in d:\n",
    "    print(d[i].gender,d[i].name)\n",
    "    \n"
   ]
  },
  {
   "cell_type": "markdown",
   "id": "07453bbc",
   "metadata": {},
   "source": [
    "# Static Varibles(Vs Instance variable)"
   ]
  },
  {
   "cell_type": "code",
   "execution_count": 15,
   "id": "bd18e361",
   "metadata": {},
   "outputs": [],
   "source": [
    "# Boss told to add a customed ID so you did cid as a varible and made a unique id by incrementing it after every iteration\n",
    "\n",
    "class Atm:\n",
    "    \n",
    "    __counter = 1 # static method will change or increment after every initialization\n",
    "    \n",
    "    # constructor(special function) -> superpower\n",
    "    def __init__(self):\n",
    "        self.pin = ''\n",
    "        self.__balance = 0  # if it is self you are accessing the object\n",
    "        self.cid = Atm.__counter # if it is Atm.__counter you are accessing Atm static variable\n",
    "        Atm.__counter = Atm.__counter + 1\n",
    "        \n",
    "    # also don't need to add self    \n",
    "    # since it is not Object method it is access by class\n",
    "    # to access it write Atm.get_counter()\n",
    "    # add this @staticmethod to just decorate it to make is distinguishable\n",
    "    # utility fuctions\n",
    "    @staticmethod\n",
    "    def get_counter():\n",
    "        return Atm.__counter"
   ]
  },
  {
   "cell_type": "code",
   "execution_count": null,
   "id": "700a0d55",
   "metadata": {},
   "outputs": [],
   "source": [
    "#### without static method counter"
   ]
  },
  {
   "cell_type": "code",
   "execution_count": 89,
   "id": "4fa288de",
   "metadata": {},
   "outputs": [],
   "source": [
    "c1 = Atm()"
   ]
  },
  {
   "cell_type": "code",
   "execution_count": 90,
   "id": "be1a484a",
   "metadata": {},
   "outputs": [],
   "source": [
    "c2 = Atm()"
   ]
  },
  {
   "cell_type": "code",
   "execution_count": 91,
   "id": "dd6e506f",
   "metadata": {},
   "outputs": [],
   "source": [
    "c3 = Atm()"
   ]
  },
  {
   "cell_type": "code",
   "execution_count": 92,
   "id": "b9e1e1e8",
   "metadata": {
    "scrolled": true
   },
   "outputs": [
    {
     "data": {
      "text/plain": [
       "1"
      ]
     },
     "execution_count": 92,
     "metadata": {},
     "output_type": "execute_result"
    }
   ],
   "source": [
    "c1.cid"
   ]
  },
  {
   "cell_type": "code",
   "execution_count": 93,
   "id": "0161e91d",
   "metadata": {},
   "outputs": [
    {
     "data": {
      "text/plain": [
       "1"
      ]
     },
     "execution_count": 93,
     "metadata": {},
     "output_type": "execute_result"
    }
   ],
   "source": [
    "c2.cid"
   ]
  },
  {
   "cell_type": "code",
   "execution_count": 94,
   "id": "530ac0e0",
   "metadata": {
    "scrolled": true
   },
   "outputs": [
    {
     "data": {
      "text/plain": [
       "1"
      ]
     },
     "execution_count": 94,
     "metadata": {},
     "output_type": "execute_result"
    }
   ],
   "source": [
    "c3.cid"
   ]
  },
  {
   "cell_type": "markdown",
   "id": "f601febc",
   "metadata": {},
   "source": [
    "#### after creating static variable counter outside the function"
   ]
  },
  {
   "cell_type": "code",
   "execution_count": 16,
   "id": "05297ab4",
   "metadata": {},
   "outputs": [],
   "source": [
    "c1 = Atm()"
   ]
  },
  {
   "cell_type": "code",
   "execution_count": 17,
   "id": "2fbec4f5",
   "metadata": {},
   "outputs": [],
   "source": [
    "c2 = Atm()"
   ]
  },
  {
   "cell_type": "code",
   "execution_count": 18,
   "id": "84f4f730",
   "metadata": {},
   "outputs": [],
   "source": [
    "c3 = Atm()"
   ]
  },
  {
   "cell_type": "code",
   "execution_count": 19,
   "id": "6a24a24c",
   "metadata": {
    "scrolled": true
   },
   "outputs": [
    {
     "data": {
      "text/plain": [
       "1"
      ]
     },
     "execution_count": 19,
     "metadata": {},
     "output_type": "execute_result"
    }
   ],
   "source": [
    "c1.cid"
   ]
  },
  {
   "cell_type": "code",
   "execution_count": 20,
   "id": "c90fce6b",
   "metadata": {},
   "outputs": [
    {
     "data": {
      "text/plain": [
       "2"
      ]
     },
     "execution_count": 20,
     "metadata": {},
     "output_type": "execute_result"
    }
   ],
   "source": [
    "c2.cid"
   ]
  },
  {
   "cell_type": "code",
   "execution_count": 21,
   "id": "95932395",
   "metadata": {
    "scrolled": true
   },
   "outputs": [
    {
     "data": {
      "text/plain": [
       "3"
      ]
     },
     "execution_count": 21,
     "metadata": {},
     "output_type": "execute_result"
    }
   ],
   "source": [
    "c3.cid"
   ]
  },
  {
   "cell_type": "code",
   "execution_count": 12,
   "id": "94928f08",
   "metadata": {},
   "outputs": [
    {
     "data": {
      "text/plain": [
       "4"
      ]
     },
     "execution_count": 12,
     "metadata": {},
     "output_type": "execute_result"
    }
   ],
   "source": [
    "Atm.counter"
   ]
  },
  {
   "cell_type": "code",
   "execution_count": 13,
   "id": "41709d9a",
   "metadata": {},
   "outputs": [],
   "source": [
    "# horror after the movie ended\n",
    "Atm.counter = 'hehe'"
   ]
  },
  {
   "cell_type": "code",
   "execution_count": 14,
   "id": "4bda40a4",
   "metadata": {},
   "outputs": [
    {
     "ename": "TypeError",
     "evalue": "can only concatenate str (not \"int\") to str",
     "output_type": "error",
     "traceback": [
      "\u001b[1;31m---------------------------------------------------------------------------\u001b[0m",
      "\u001b[1;31mTypeError\u001b[0m                                 Traceback (most recent call last)",
      "Input \u001b[1;32mIn [14]\u001b[0m, in \u001b[0;36m<cell line: 1>\u001b[1;34m()\u001b[0m\n\u001b[1;32m----> 1\u001b[0m c3 \u001b[38;5;241m=\u001b[39m \u001b[43mAtm\u001b[49m\u001b[43m(\u001b[49m\u001b[43m)\u001b[49m\n",
      "Input \u001b[1;32mIn [5]\u001b[0m, in \u001b[0;36mAtm.__init__\u001b[1;34m(self)\u001b[0m\n\u001b[0;32m     10\u001b[0m \u001b[38;5;28mself\u001b[39m\u001b[38;5;241m.\u001b[39m__balance \u001b[38;5;241m=\u001b[39m \u001b[38;5;241m0\u001b[39m  \u001b[38;5;66;03m# if it is self you are accessing the object\u001b[39;00m\n\u001b[0;32m     11\u001b[0m \u001b[38;5;28mself\u001b[39m\u001b[38;5;241m.\u001b[39mcid \u001b[38;5;241m=\u001b[39m Atm\u001b[38;5;241m.\u001b[39mcounter \u001b[38;5;66;03m# if it Atm.counter you are accessing Atm static variable\u001b[39;00m\n\u001b[1;32m---> 12\u001b[0m Atm\u001b[38;5;241m.\u001b[39mcounter \u001b[38;5;241m=\u001b[39m \u001b[43mAtm\u001b[49m\u001b[38;5;241;43m.\u001b[39;49m\u001b[43mcounter\u001b[49m\u001b[43m \u001b[49m\u001b[38;5;241;43m+\u001b[39;49m\u001b[43m \u001b[49m\u001b[38;5;241;43m1\u001b[39;49m\n",
      "\u001b[1;31mTypeError\u001b[0m: can only concatenate str (not \"int\") to str"
     ]
    }
   ],
   "source": [
    "# this will throw an error\n",
    "c3 = Atm()"
   ]
  },
  {
   "cell_type": "code",
   "execution_count": null,
   "id": "b816006b",
   "metadata": {},
   "outputs": [],
   "source": [
    "# make it private __counter = 1"
   ]
  },
  {
   "cell_type": "code",
   "execution_count": 22,
   "id": "3581de80",
   "metadata": {},
   "outputs": [
    {
     "data": {
      "text/plain": [
       "4"
      ]
     },
     "execution_count": 22,
     "metadata": {},
     "output_type": "execute_result"
    }
   ],
   "source": [
    "# to access static method\n",
    "Atm.get_counter()"
   ]
  },
  {
   "cell_type": "code",
   "execution_count": null,
   "id": "12eb61f1",
   "metadata": {},
   "outputs": [],
   "source": []
  }
 ],
 "metadata": {
  "kernelspec": {
   "display_name": "Python 3 (ipykernel)",
   "language": "python",
   "name": "python3"
  },
  "language_info": {
   "codemirror_mode": {
    "name": "ipython",
    "version": 3
   },
   "file_extension": ".py",
   "mimetype": "text/x-python",
   "name": "python",
   "nbconvert_exporter": "python",
   "pygments_lexer": "ipython3",
   "version": "3.9.12"
  }
 },
 "nbformat": 4,
 "nbformat_minor": 5
}
