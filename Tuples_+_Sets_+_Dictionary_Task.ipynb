{
 "cells": [
  {
   "cell_type": "markdown",
   "metadata": {
    "id": "limD5IAfl-tz"
   },
   "source": [
    "# Tuple\n"
   ]
  },
  {
   "cell_type": "markdown",
   "metadata": {
    "id": "nSTn3CjbmB7q"
   },
   "source": [
    "###`Q1:` Join Tuples if similar initial element\n",
    "While working with Python tuples, we can have a problem in which we need to perform concatenation of records from the similarity of initial element. This problem can have applications in data domains such as Data Science.\n",
    "\n",
    "For eg.\n",
    "```\n",
    "Input  : test_list = [(5, 6), (5, 7), (5, 8), (6, 10), (7, 13)]\n",
    "Output : [(5, 6, 7, 8), (6, 10), (7, 13)]\n",
    "```"
   ]
  },
  {
   "cell_type": "code",
   "execution_count": 263,
   "metadata": {
    "id": "hwVeEvH9rJzU",
    "scrolled": true
   },
   "outputs": [
    {
     "data": {
      "text/plain": [
       "[(5, 6, 7, 8), (6, 10), (7, 13)]"
      ]
     },
     "execution_count": 263,
     "metadata": {},
     "output_type": "execute_result"
    }
   ],
   "source": [
    "# write your code here\n",
    "test_list = [(5, 6), (5, 7), (5, 8), (6, 10), (7, 13)]\n",
    "l = []\n",
    "for i in test_list:\n",
    "    l.append(i[0])\n",
    "unique = set(l)\n",
    "\n",
    "res = []\n",
    "for i in unique:\n",
    "    res.append([i]) \n",
    "    for j in test_list:\n",
    "        if j[0] == i:\n",
    "            res[-1].append(j[1])\n",
    "list(map(tuple,l1))"
   ]
  },
  {
   "cell_type": "markdown",
   "metadata": {
    "id": "ujQpZOFFmeha"
   },
   "source": [
    "###`Q2:` Multiply Adjacent elements (both side) and take sum of right and lest side multiplication result.\n",
    "\n",
    "\n",
    "For eg.\n",
    "```\n",
    "The original tuple : (1, 5, 7, 8, 10)\n",
    "Resultant tuple after multiplication :\n",
    "\n",
    "(1*5, 1*5+5*7, 7*5 + 7*8, 8*7 + 8*10, 10*8) -> (5, 40, 91, 136, 80)\n",
    "\n",
    "output-(5, 40, 91, 136, 80)\n",
    "```"
   ]
  },
  {
   "cell_type": "code",
   "execution_count": 25,
   "metadata": {
    "id": "N9lveEsArNVc"
   },
   "outputs": [
    {
     "data": {
      "text/plain": [
       "(5, 40, 91, 136, 80)"
      ]
     },
     "execution_count": 25,
     "metadata": {},
     "output_type": "execute_result"
    }
   ],
   "source": [
    "# write your code here\n",
    "t = (1, 5, 7, 8, 10)\n",
    "l = ()\n",
    "for i in range(len(t)):\n",
    "    if i == 0:\n",
    "        l = l + (t[i]*t[i+1],)\n",
    "    elif i >= len(t)-1:\n",
    "        l = l + (t[len(t)-1]* t[len(t)-2],)\n",
    "    else:\n",
    "        l = l+ (t[i]*t[i+1] + t[i]*t[i-1],)\n",
    "l"
   ]
  },
  {
   "cell_type": "code",
   "execution_count": 264,
   "metadata": {},
   "outputs": [
    {
     "name": "stdout",
     "output_type": "stream",
     "text": [
      "(5, 40, 91, 136, 80)\n"
     ]
    }
   ],
   "source": [
    "# write your code here\n",
    "t = (1, 5, 7, 8, 10)\n",
    "\n",
    "L = []\n",
    "\n",
    "L.append(t[0]*t[1])\n",
    "\n",
    "for i in range(1,len(t)-1):\n",
    "  L.append(t[i]*t[i-1] + t[i]*t[i+1])\n",
    "\n",
    "L.append(t[-1]*t[-2])\n",
    "\n",
    "print(tuple(L))"
   ]
  },
  {
   "cell_type": "markdown",
   "metadata": {
    "id": "x0psnUiu2ZVp"
   },
   "source": [
    "###`Q3`: Check is tuples are same or not?\n",
    "Two tuples would be same if both tuples have same element at same index\n",
    "```\n",
    "t1 = (1,2,3,0)\n",
    "t2 = (0,1,2,3)\n",
    "\n",
    "t1 and t2 are not same\n",
    "```"
   ]
  },
  {
   "cell_type": "code",
   "execution_count": 265,
   "metadata": {
    "id": "JMVw9EhSrPEc"
   },
   "outputs": [
    {
     "name": "stdout",
     "output_type": "stream",
     "text": [
      "t1 and t2 are not same\n"
     ]
    }
   ],
   "source": [
    "# write your code here\n",
    "t1 = (1,2,3,0)\n",
    "t2 = (1,2,3,1)\n",
    "for i in range(len(t2)):\n",
    "    if t1[i] != t2[i]:\n",
    "        flag = False\n",
    "    else:\n",
    "        flag = True\n",
    "        \n",
    "if flag:\n",
    "    print(\"t1 and t2 are same\")\n",
    "else:\n",
    "    print('t1 and t2 are not same')"
   ]
  },
  {
   "cell_type": "code",
   "execution_count": 269,
   "metadata": {},
   "outputs": [
    {
     "name": "stdout",
     "output_type": "stream",
     "text": [
      "t1 and t2 are not same\n"
     ]
    }
   ],
   "source": [
    "t1 = (1,2,3,0)\n",
    "t2 = (1,2,3,1)\n",
    "for i in list(zip(t1,t2)):\n",
    "    if i[0] == i[1]:\n",
    "        flag = True\n",
    "    else:\n",
    "        flag = False\n",
    "if flag:\n",
    "    print(\"t1 and t2 are same\")\n",
    "else:\n",
    "    print('t1 and t2 are not same')"
   ]
  },
  {
   "cell_type": "markdown",
   "metadata": {
    "id": "aZ4rObHK4fCN"
   },
   "source": [
    "###`Q4`: Count no of tuples, list and set from a list\n",
    "```\n",
    "list1 = [{'hi', 'bye'},{'Geeks', 'forGeeks'},('a', 'b'),['hi', 'bye'],['a', 'b']]\n",
    "\n",
    "```\n",
    "`Output:`\n",
    "\n",
    "```\n",
    "List-2\n",
    "Set-2\n",
    "Tuples-1\n",
    "```"
   ]
  },
  {
   "cell_type": "code",
   "execution_count": 271,
   "metadata": {
    "id": "g_Bnuczk69tG"
   },
   "outputs": [
    {
     "name": "stdout",
     "output_type": "stream",
     "text": [
      "Lists-2\n",
      "Sets-2\n",
      "Tuples-1\n"
     ]
    }
   ],
   "source": [
    "# write your code here\n",
    "# write your code here\n",
    "L = [{'hi', 'bye'},{'Geeks', 'forGeeks'},('a', 'b'),['hi', 'bye'],['a', 'b']]\n",
    "output = [0,0,0]\n",
    "\n",
    "for i in L:\n",
    "    if type(i) == list:\n",
    "        output[0] = output[0] + 1\n",
    "    elif type(i) == set:\n",
    "        output[1] = output[1] + 1\n",
    "    elif type(i) == tuple:\n",
    "        output[2] = output[2] + 1\n",
    "    else:\n",
    "        pass\n",
    "\n",
    "print('Lists-{}\\nSets-{}\\nTuples-{}'.format(output[0],output[1],output[2]))"
   ]
  },
  {
   "cell_type": "markdown",
   "metadata": {
    "id": "jInFNuit8hf1"
   },
   "source": [
    "###`Q5`: Shortlist Students for a Job role\n",
    "Ask user to input students record and store in tuples for each record. Then Ask user to input three things he wants in the candidate- Primary Skill, Higher Education, Year of Graduation.\n",
    "\n",
    "Show every students record in form of tuples if matches all required criteria.\n",
    "\n",
    "It is assumed that there will be only one primry skill.\n",
    "\n",
    "If no such candidate found, print `No such candidate`\n",
    "\n",
    "`Input:`\n",
    "```\n",
    "Enter No of records- 2\n",
    "Enter Details of student-1\n",
    "Enter Student name- Manohar\n",
    "Enter Higher Education- B.Tech\n",
    "Enter Primary Skill- Python\n",
    "Enter Year of Graduation- 2022\n",
    "Enter Details of student-2\n",
    "Enter Student name- Ponian\n",
    "Enter Higher Education- B.Sc.\n",
    "Enter Primary Skill- C++\n",
    "Enter Year of Graduation- 2020\n",
    "\n",
    "Enter Job Role Requirement\n",
    "Enter Skill- Python\n",
    "Enter Higher Education- B.Tech\n",
    "Enter Year of Graduation- 2022\n",
    "```\n",
    "\n",
    "`Output`\n",
    "```\n",
    "('Manohar', 'B.tech', 'Python', '2022')\n",
    "```\n"
   ]
  },
  {
   "cell_type": "code",
   "execution_count": 273,
   "metadata": {
    "id": "erh9QZaerSHk",
    "scrolled": true
   },
   "outputs": [
    {
     "name": "stdout",
     "output_type": "stream",
     "text": [
      "Enter No of records- 2\n",
      "Enter Details of student- 1\n",
      "Enter Student name- Aniket\n",
      "Enter Higher Education-b.tech\n",
      "Enter Primary Skill- python\n",
      "Year of Graduation- 2022\n",
      "Enter Details of student- 2\n",
      "Enter Student name- ponian\n",
      "Enter Higher Education-b.tech\n",
      "Enter Primary Skill- python\n",
      "Year of Graduation- 2022\n",
      "((1, 'aniket', 'b.tech', 'python', 2022), (2, 'ponian', 'b.tech', 'python', 2022))\n",
      "\n",
      "Enter Job Role Requirement\n",
      "Enter Skill- python\n",
      "Enter Higher Education- b.tech\n",
      "Enter Year of Graduation-2022\n",
      "('python', 'b.tech', 2022)\n",
      "('aniket', 'b.tech', 'python', 2022)\n",
      "('ponian', 'b.tech', 'python', 2022)\n"
     ]
    }
   ],
   "source": [
    "# write your code here\n",
    "records = int(input(\"Enter No of records- \"))\n",
    "t = ()\n",
    "for i in range(records):\n",
    "    id = int(input(\"Enter Details of student- \"))\n",
    "    name = input(\"Enter Student name- \").lower()\n",
    "    higher_edu = input(\"Enter Higher Education-\").lower()   \n",
    "    pri_skill = input(\"Enter Primary Skill- \").lower()    \n",
    "    grad_year = int(input(\"Year of Graduation- \"))\n",
    "    t = t+ ((id,name,higher_edu,pri_skill,grad_year),)\n",
    "print(t)\n",
    "\n",
    "print()\n",
    "print(\"Enter Job Role Requirement\")\n",
    "req_skill = input(\"Enter Skill- \").lower()\n",
    "req_higher_edu = input(\"Enter Higher Education- \").lower()\n",
    "req_grad_year = int(input(\"Enter Year of Graduation-\"))\n",
    "req_t = (req_skill,req_higher_edu,req_grad_year)\n",
    "print(req_t)\n",
    "for i in t:\n",
    "    flag = True\n",
    "    for j in req_t:\n",
    "        if j not in i:\n",
    "            flag = False\n",
    "    if flag == True:\n",
    "            print(i[1:])\n"
   ]
  },
  {
   "cell_type": "markdown",
   "metadata": {
    "id": "l4hLvwD2BeIN"
   },
   "source": [
    "# Set"
   ]
  },
  {
   "cell_type": "markdown",
   "metadata": {
    "id": "zCX0Sk2IBfu8"
   },
   "source": [
    "###`Q1:` Write a program to find set of common elements in three lists using sets.\n",
    "```\n",
    "Input : ar1 = [1, 5, 10, 20, 40, 80]\n",
    "        ar2 = [6, 7, 20, 80, 100]\n",
    "        ar3 = [3, 4, 15, 20, 30, 70, 80, 120]\n",
    "\n",
    "Output : [80, 20]\n",
    "```"
   ]
  },
  {
   "cell_type": "code",
   "execution_count": 151,
   "metadata": {
    "id": "rqATYpBUrUQU"
   },
   "outputs": [
    {
     "data": {
      "text/plain": [
       "[80, 20]"
      ]
     },
     "execution_count": 151,
     "metadata": {},
     "output_type": "execute_result"
    }
   ],
   "source": [
    "# write your code here\n",
    "ar1 = [1, 5, 10, 20, 40, 80]\n",
    "ar2 = [6, 7, 20, 80, 100]\n",
    "ar3 = [3, 4, 15, 20, 30, 70, 80, 120]\n",
    "\n",
    "list(set(ar1).intersection(set(ar2)).intersection(set(ar3)))"
   ]
  },
  {
   "cell_type": "markdown",
   "metadata": {
    "id": "0gOVS-0yCYrK"
   },
   "source": [
    "###`Q2:` Write a program to count unique number of vowels using sets in a given string. Lowercase and upercase vowels will be taken as different.\n",
    "\n",
    "`Input:`\n",
    "```\n",
    "Str1 = \"hands-on data science mentorship progrAm with live classes at affordable fee only on CampusX\"\n",
    "```\n",
    "`Output:`\n",
    "```\n",
    "No of unique vowels-6\n",
    "```"
   ]
  },
  {
   "cell_type": "code",
   "execution_count": 153,
   "metadata": {
    "id": "0vAlEAOzDihm"
   },
   "outputs": [
    {
     "name": "stdout",
     "output_type": "stream",
     "text": [
      "No of unique vowels- 6\n"
     ]
    }
   ],
   "source": [
    "# write your code here\n",
    "Str1 = \"hands-on data science mentorship progrAm with live classes at affordable fee only on CampusX\"\n",
    "vowels = {'a','e','i','o','u','A','E','I','O','U'}\n",
    "out = set()\n",
    "for i in Str1:\n",
    "    if i in vowels:\n",
    "        out.update(i)\n",
    "print(\"No of unique vowels-\",len(out))\n",
    "        "
   ]
  },
  {
   "cell_type": "code",
   "execution_count": 274,
   "metadata": {},
   "outputs": [
    {
     "name": "stdout",
     "output_type": "stream",
     "text": [
      "No of unique vowels- 6\n"
     ]
    }
   ],
   "source": [
    "# write your code here\n",
    "vowels = set('aeiouAEIOU')\n",
    "\n",
    "s = set(\"hands-on data science mentorship progrAm with live classes at affordable fee only on CampusX\")\n",
    "\n",
    "print('No of unique vowels-',len(s & vowels))"
   ]
  },
  {
   "cell_type": "markdown",
   "metadata": {
    "id": "fqLZxiarEne5"
   },
   "source": [
    "### `Q3:` Write a program to Check if a given string is binary string of or not.\n",
    "\n",
    "A string is said to be binary if it's consists of only two unique characters.\n",
    "\n",
    "Take string input from user.\n",
    "\n",
    "```\n",
    "Input: str = \"01010101010\"\n",
    "Output: Yes\n",
    "\n",
    "Input: str = \"1222211\"\n",
    "Output: Yes\n",
    "\n",
    "Input: str = \"Campusx\"\n",
    "Output: No\n",
    "```"
   ]
  },
  {
   "cell_type": "code",
   "execution_count": 156,
   "metadata": {
    "id": "5M5v8LoYrXkE"
   },
   "outputs": [
    {
     "name": "stdout",
     "output_type": "stream",
     "text": [
      "Yes\n"
     ]
    }
   ],
   "source": [
    "# write your code here\n",
    "s = \"1222211\"\n",
    "\n",
    "if len(set(s)) == 2:\n",
    "    print('Yes')\n",
    "else:\n",
    "    print('No')"
   ]
  },
  {
   "cell_type": "markdown",
   "metadata": {
    "id": "xXS8wYH1mDqx"
   },
   "source": [
    "### `Q4`: find union of n arrays.\n",
    "\n",
    "**Example 1:**\n",
    "\n",
    "Input:\n",
    "```bash\n",
    "[[1, 2, 2, 4, 3, 6],\n",
    " [5, 1, 3, 4],\n",
    " [9, 5, 7, 1],\n",
    " [2, 4, 1, 3]]\n",
    "```\n",
    "\n",
    "Output:\n",
    "\n",
    "```bash\n",
    "[1, 2, 3, 4, 5, 6, 7, 9]\n",
    "```"
   ]
  },
  {
   "cell_type": "code",
   "execution_count": 159,
   "metadata": {
    "id": "FVNyK6MbncU8"
   },
   "outputs": [
    {
     "data": {
      "text/plain": [
       "[1, 2, 3, 4, 5, 6, 7, 9]"
      ]
     },
     "execution_count": 159,
     "metadata": {},
     "output_type": "execute_result"
    }
   ],
   "source": [
    "# write your code here\n",
    "arr = [[1, 2, 2, 4, 3, 6],\n",
    " [5, 1, 3, 4],\n",
    " [9, 5, 7, 1],\n",
    " [2, 4, 1, 3]]\n",
    "\n",
    "s = set()\n",
    "\n",
    "for i in arr:\n",
    "    s.update(i)\n",
    "list(s)"
   ]
  },
  {
   "cell_type": "markdown",
   "metadata": {
    "id": "T_Re21BdndOz"
   },
   "source": [
    "### `Q5`: Intersection of two lists. Intersection of two list means we need to take all those elements which are common to both of the initial lists and store them into another list. Only use using **list-comprehension**.\n",
    "\n",
    "**Example 1:**\n",
    "\n",
    "Input:\n",
    "```bash\n",
    "lst1 = {15, 9, 10, 56, 23, 78, 5, 4, 9}\n",
    "lst2 = {9, 4, 5, 36, 47, 26, 10, 45, 87}\n",
    "```\n",
    "\n",
    "Output:\n",
    "```bash\n",
    "[9, 10, 4, 5]\n",
    "```\n",
    "\n",
    "**Example 2:**\n",
    "\n",
    "Input:\n",
    "```bash\n",
    "lst1 = {4, 9, 1, 17, 11, 26, 28, 54, 69}\n",
    "lst2 = {9, 9, 74, 21, 45, 11, 63, 28, 26}\n",
    "```\n",
    "\n",
    "Output:\n",
    "```bash\n",
    "[9, 11, 26, 28]\n",
    "```"
   ]
  },
  {
   "cell_type": "code",
   "execution_count": 275,
   "metadata": {
    "id": "nWnL25ftoLVT"
   },
   "outputs": [
    {
     "data": {
      "text/plain": [
       "[4, 5, 9, 10]"
      ]
     },
     "execution_count": 275,
     "metadata": {},
     "output_type": "execute_result"
    }
   ],
   "source": [
    "# write your code here\n",
    "lst1 = {15, 9, 10, 56, 23, 78, 5, 4, 9}\n",
    "lst2 = {9, 4, 5, 36, 47, 26, 10, 45, 87}\n",
    "\n",
    "[i for i in lst1 if i in lst2]"
   ]
  },
  {
   "cell_type": "markdown",
   "metadata": {
    "id": "tD2RSYn1a8oA"
   },
   "source": [
    "# Dictionary"
   ]
  },
  {
   "cell_type": "markdown",
   "metadata": {
    "id": "7tUjHhcPbQzQ"
   },
   "source": [
    "### `Q1`: Key with maximum unique values\n",
    "\n",
    "Given a dictionary with values list, extract key whose value has most unique values.\n",
    "\n",
    "**Example 1:**\n",
    "\n",
    "Input:\n",
    "\n",
    "```bash\n",
    "test_dict = {\"CampusX\" : [5, 7, 9, 4, 0], \"is\" : [6, 7, 4, 3, 3], \"Best\" : [9, 9, 6, 5, 5]}\n",
    "```\n",
    "\n",
    "Output:\n",
    "```bash\n",
    "CampusX\n",
    "```\n",
    "\n",
    "**Example 2:**\n",
    "\n",
    "Input:\n",
    "```bash\n",
    "test_dict = {\"CampusX\" : [5, 7, 7, 7, 7], \"is\" : [6, 7, 7, 7], \"Best\" : [9, 9, 6, 5, 5]}\n",
    "```\n",
    "\n",
    "Output:\n",
    "```bash\n",
    "Best\n",
    "```"
   ]
  },
  {
   "cell_type": "code",
   "execution_count": 189,
   "metadata": {
    "id": "N8KHX863lNxL"
   },
   "outputs": [
    {
     "name": "stdout",
     "output_type": "stream",
     "text": [
      "Best\n"
     ]
    }
   ],
   "source": [
    "# write your code here\n",
    "test_dict = {\"CampusX\" : [5, 7, 7, 7, 7], \"is\" : [6, 7, 7, 7,], \"Best\" : [9, 9, 6, 5, 5]}\n",
    "\n",
    "greatest = 0\n",
    "greatest_key = ''\n",
    "\n",
    "for i in test_dict:\n",
    "    if len(set(test_dict[i])) > greatest:\n",
    "        greatest = len(set(test_dict[i]))\n",
    "        greatest_key = i\n",
    "        \n",
    "print(greatest_key)"
   ]
  },
  {
   "cell_type": "markdown",
   "metadata": {
    "id": "_S5X6C84dWdJ"
   },
   "source": [
    "### `Q2`: Replace words from Dictionary. Given String, replace it’s words from lookup dictionary.\n",
    "\n",
    "**Example 1:**\n",
    "\n",
    "Input:\n",
    "\n",
    "```bash\n",
    "test_str = 'CampusX best for DS students.'\n",
    "repl_dict = {\"best\" : \"is the best channel\", \"DS\" : \"Data-Science\"}\n",
    "```\n",
    "\n",
    "Output:\n",
    "\n",
    "```bash\n",
    "CampusX is the best channel for Data-Science students.\n",
    "```\n",
    "\n",
    "**Example 2:**\n",
    "\n",
    "Input:\n",
    "```bash\n",
    "test_str = 'CampusX best for DS students.'\n",
    "repl_dict = {\"good\" : \"is the best channel\", \"ds\" : \"Data-Science\"}\n",
    "```\n",
    "\n",
    "Output:\n",
    "```bash\n",
    "CampusX best for DS students.\n",
    "```"
   ]
  },
  {
   "cell_type": "code",
   "execution_count": 193,
   "metadata": {
    "id": "BTAQ8qnrlOxr"
   },
   "outputs": [
    {
     "data": {
      "text/plain": [
       "'CampusX best for DS students.'"
      ]
     },
     "execution_count": 193,
     "metadata": {},
     "output_type": "execute_result"
    }
   ],
   "source": [
    "# write your code here\n",
    "test_str = 'CampusX best for DS students.'\n",
    "repl_dict = {\"good\" : \"is the best channel\", \"ds\" : \"Data-Science\"}\n",
    "for i in repl_dict:\n",
    "    if i in test_str:\n",
    "        test_str = test_str.replace(i, repl_dict[i])\n",
    "test_str"
   ]
  },
  {
   "cell_type": "code",
   "execution_count": 276,
   "metadata": {},
   "outputs": [
    {
     "name": "stdout",
     "output_type": "stream",
     "text": [
      "CampusX is the best channel for Data-Science students.\n"
     ]
    }
   ],
   "source": [
    "test_str = 'CampusX best for DS students.'\n",
    "repl_dict = {\"best\" : \"is the best channel\", \"DS\" : \"Data-Science\"}\n",
    "\n",
    "res = []\n",
    "for i in test_str.split():\n",
    "    if i in repl_dict:\n",
    "        res.append(repl_dict[i])\n",
    "    else:\n",
    "        res.append(i)\n",
    "\n",
    "print(\" \".join(res))"
   ]
  },
  {
   "cell_type": "markdown",
   "metadata": {
    "id": "55xgap3zfbcR"
   },
   "source": [
    "### `Q3`: Convert List to List of dictionaries. Given list values and keys list, convert these values to key value pairs in form of list of dictionaries.\n",
    "\n",
    "**Example 1:**\n",
    "\n",
    "Input:\n",
    "```bash\n",
    "test_list = [\"DataScience\", 3, \"is\", 8]\n",
    "key_list = [\"name\", \"id\"]\n",
    "```\n",
    "\n",
    "Output:\n",
    "\n",
    "```bash\n",
    "[{'name': 'DataScience', 'id': 3}, {'name': 'is', 'id': 8}]\n",
    "```\n",
    "\n",
    "**Example 2:**\n",
    "\n",
    "Input:\n",
    "```bash\n",
    "test_list = [\"CampusX\", 10]\n",
    "key_list = [\"name\", \"id\"]\n",
    "```\n",
    "\n",
    "Output:\n",
    "\n",
    "```bash\n",
    "[{'name': 'CampusX', 'id': 10}]\n",
    "```"
   ]
  },
  {
   "cell_type": "code",
   "execution_count": 346,
   "metadata": {
    "id": "jbCajI87lQFr"
   },
   "outputs": [
    {
     "data": {
      "text/plain": [
       "[{'name': 'DataScience', 'id': 3}, {'name': 'is', 'id': 8}]"
      ]
     },
     "execution_count": 346,
     "metadata": {},
     "output_type": "execute_result"
    }
   ],
   "source": [
    "# write your code here\n",
    "test_list = [\"DataScience\", 3, \"is\", 8]\n",
    "key_list = [\"name\", \"id\"]\n",
    "\n",
    "n = len(test_list)\n",
    "res = []\n",
    "\n",
    "for i in range(0,n,2):\n",
    "    res.append({key_list[0]:test_list[i],key_list[1]:test_list[i+1],})\n",
    "res"
   ]
  },
  {
   "cell_type": "markdown",
   "metadata": {
    "id": "5RxBlLQahLkB"
   },
   "source": [
    "### `Q4`: Convert a list of Tuples into Dictionary.\n",
    "\n",
    "**Example 1:**\n",
    "\n",
    "Input:\n",
    "```bash\n",
    "[(\"akash\", 10), (\"gaurav\", 12), (\"anand\", 14), (\"suraj\", 20), (\"akhil\", 25), (\"ashish\", 30)]\n",
    "```\n",
    "\n",
    "Output:\n",
    "```bash\n",
    "{'akash': [10], 'gaurav': [12], 'anand': [14], 'suraj': [20], 'akhil': [25], 'ashish': [30]}\n",
    "```\n",
    "\n",
    "**Example 2:**\n",
    "\n",
    "Input:\n",
    "```bash\n",
    "[('A', 1), ('B', 2), ('C', 3)]\n",
    "```\n",
    "\n",
    "Output:\n",
    "```bash\n",
    "{'A': [1], 'B': [2], 'C': [3]}\n",
    "```"
   ]
  },
  {
   "cell_type": "code",
   "execution_count": 350,
   "metadata": {
    "id": "f1yz7inMlQ5N"
   },
   "outputs": [
    {
     "data": {
      "text/plain": [
       "{'akash': [10],\n",
       " 'gaurav': [12],\n",
       " 'anand': [14],\n",
       " 'suraj': [20],\n",
       " 'akhil': [25],\n",
       " 'ashish': [30]}"
      ]
     },
     "execution_count": 350,
     "metadata": {},
     "output_type": "execute_result"
    }
   ],
   "source": [
    "# write your code here\n",
    "l = [(\"akash\", 10), (\"gaurav\", 12), (\"anand\", 14), (\"suraj\", 20), (\"akhil\", 25), (\"ashish\", 30)]\n",
    "d = {}\n",
    "for i,j in l:\n",
    "    d[i] = [j]\n",
    "d"
   ]
  },
  {
   "cell_type": "markdown",
   "metadata": {
    "id": "Fz8EzJD-kBkS"
   },
   "source": [
    "### `Q5`: Sort Dictionary key and values List.\n",
    "\n",
    "**Example 1:**\n",
    "\n",
    "Input:\n",
    "\n",
    "```bash\n",
    "{'c': [3], 'b': [12, 10], 'a': [19, 4]}\n",
    "```\n",
    "\n",
    "Output:\n",
    "\n",
    "```bash\n",
    "{'a': [4, 19], 'b': [10, 12], 'c': [3]}\n",
    "```\n",
    "\n",
    "**Example 2:**\n",
    "\n",
    "Input:\n",
    "\n",
    "```bash\n",
    "{'c': [10, 34, 3]}\n",
    "```\n",
    "\n",
    "Output:\n",
    "\n",
    "```bash\n",
    "{'c': [3, 10, 34]}\n",
    "```"
   ]
  },
  {
   "cell_type": "code",
   "execution_count": 229,
   "metadata": {
    "id": "x9UmJ4EQk7Pp"
   },
   "outputs": [
    {
     "data": {
      "text/plain": [
       "{'a': [4, 19], 'b': [10, 12], 'c': [3]}"
      ]
     },
     "execution_count": 229,
     "metadata": {},
     "output_type": "execute_result"
    }
   ],
   "source": [
    "# write your code here\n",
    "d = {'c': [3], 'b': [12, 10], 'a': [19, 4]}\n",
    "l = []\n",
    "out = {}\n",
    "for i,j in d.items():\n",
    "    l.append((i,sorted(j)))\n",
    "    \n",
    "for i,j in sorted(l,key = lambda x:x[0]):\n",
    "    out.update({i:j})\n",
    "\n",
    "out   "
   ]
  },
  {
   "cell_type": "code",
   "execution_count": 353,
   "metadata": {},
   "outputs": [
    {
     "data": {
      "text/plain": [
       "{'a': [4, 19], 'b': [10, 12], 'c': [3]}"
      ]
     },
     "execution_count": 353,
     "metadata": {},
     "output_type": "execute_result"
    }
   ],
   "source": [
    "d = {'c': [3], 'b': [12, 10], 'a': [19, 4]}\n",
    "res = {}\n",
    "for i in sorted(d):\n",
    "    res[i] = sorted(d[i])\n",
    "res"
   ]
  },
  {
   "cell_type": "code",
   "execution_count": null,
   "metadata": {},
   "outputs": [],
   "source": []
  }
 ],
 "metadata": {
  "colab": {
   "provenance": []
  },
  "kernelspec": {
   "display_name": "Python 3 (ipykernel)",
   "language": "python",
   "name": "python3"
  },
  "language_info": {
   "codemirror_mode": {
    "name": "ipython",
    "version": 3
   },
   "file_extension": ".py",
   "mimetype": "text/x-python",
   "name": "python",
   "nbconvert_exporter": "python",
   "pygments_lexer": "ipython3",
   "version": "3.9.12"
  }
 },
 "nbformat": 4,
 "nbformat_minor": 1
}
