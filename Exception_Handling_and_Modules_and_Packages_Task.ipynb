{
 "cells": [
  {
   "cell_type": "markdown",
   "metadata": {
    "id": "ajVfqio_GinI"
   },
   "source": [
    "## Exception Handling\n"
   ]
  },
  {
   "cell_type": "markdown",
   "metadata": {
    "id": "0qnQkJtnGozz"
   },
   "source": [
    "###`Q-1`: You are given a function definition. There might be several issues on execution of this function. You are asked to do exception handling for diffrent errors that this function goes in to `without altering this function`. And print error text.\n",
    "\n"
   ]
  },
  {
   "cell_type": "markdown",
   "metadata": {
    "id": "2no_EB2fGyGq"
   },
   "source": [
    "Function parameters `l -> list, s -> could be anything`\n",
    "\n",
    "```\n",
    "def function(l: list, s, **args):\n",
    "    last_element = l[-1]\n",
    "    \n",
    "    l[int(s)]=10\n",
    "    any_element = l[int(s)+10]\n",
    "    l[s]=10\n",
    "    \n",
    "    res = sum(l)\n",
    "    \n",
    "    p = args['p']\n",
    "    # print(p)\n",
    "    return res/last_element * p + any_element\n",
    "\n",
    "```\n",
    "Check for different function calls:-\n",
    "\n",
    "```\n",
    "function([1,2,1], 12)\n",
    "function([1,2,1]*9, '1-2')\n",
    "function([1,'2',1]*9, 12)\n",
    "function([1,'2',1]*9, 12)\n",
    "function([1,2,0]*9, 12  )\n",
    "function([1,2,1]*9, 12, p=None)\n",
    "function([1,2,0]*9, 12, p=10)\n",
    "```"
   ]
  },
  {
   "cell_type": "code",
   "execution_count": 65,
   "metadata": {
    "id": "VoaL4_9eGjFU"
   },
   "outputs": [
    {
     "name": "stdout",
     "output_type": "stream",
     "text": [
      "Result 452.0\n",
      "Thank You\n"
     ]
    }
   ],
   "source": [
    "# Write code here\n",
    "\n",
    "def function(l: list, s, **args): \n",
    "    last_element = l[-1]\n",
    "\n",
    "    l[int(s)]=1010\n",
    "    any_element = l[int(s)+10]\n",
    "    l[s]=10\n",
    "\n",
    "    res = sum(l)\n",
    "\n",
    "    p = args['p']\n",
    "    # print(p)\n",
    "\n",
    "    return res/last_element * p + any_element\n",
    "\n",
    "    \n",
    "    \n",
    "try:\n",
    "#     res = function([1,2,1], 12)\n",
    "#     res = function([1,2,1]*9, '1-2')\n",
    "#     res = function([1,'2',1]*9, 12)\n",
    "#     res = function([1,2,0]*9, 12  )\n",
    "#     res = function([1,2,1]*9, 12, p=None)\n",
    "    res = function([1,2,1]*9, 12, p=10)\n",
    "  \n",
    "except IndexError:\n",
    "    print('Index out of range')\n",
    "except ValueError:\n",
    "    print('Tik se argument daal')\n",
    "except TypeError:\n",
    "    print('Galat type ke data se bheed raha hai tu')\n",
    "except KeyError:\n",
    "    print('Ye key to hai hi nahi')\n",
    "except ZeroDivisionError:\n",
    "    print('Matlab kuch bhi. Zero se ky tere baap ne divide kiya tha')\n",
    "else:\n",
    "    print('Result', res)\n",
    "finally:\n",
    "    print('Thank You')"
   ]
  },
  {
   "cell_type": "markdown",
   "metadata": {
    "id": "HuLMy2fVG9sL"
   },
   "source": [
    "###`Q-2:` You are given a code snippet. There might be several issues on execution of this code. You are asked to do exception handling for diffrent errors, condition is what ever happens we need to execute last line printing correct result of `sum of elements`.\n",
    "\n",
    "List have elemnts as any no of  `key-pair dict with key as list index and value as any integer`, `integers` and `numeric-strings`. There is always only one element in the dict.\n",
    "\n",
    "\n",
    "```\n",
    "l = [{0:2},2,3,4,'5', {5:10}]\n",
    "# For calculating sum of above list\n",
    "s=0\n",
    "for i in range(len(l)):\n",
    "    #You can Edit code from here\n",
    "    s += l[i].get(i)\n",
    "    s += l[i]\n",
    "    s += int(l[i])\n",
    "\n",
    "\n",
    "print(s)\n",
    "```"
   ]
  },
  {
   "cell_type": "code",
   "execution_count": 73,
   "metadata": {
    "id": "pEP8JU0qHAf8"
   },
   "outputs": [
    {
     "name": "stdout",
     "output_type": "stream",
     "text": [
      "26\n"
     ]
    }
   ],
   "source": [
    "# Write code here\n",
    "l = [{0:2},2,3,4,'5', {5:10}]\n",
    "# For calculating sum of above list\n",
    "s=0\n",
    "for i in range(len(l)):\n",
    "    #You can Edit code from here\n",
    "    try:\n",
    "        s += l[i]\n",
    "    except TypeError:\n",
    "        try:\n",
    "            s += l[i].get(i)\n",
    "        except:\n",
    "            s += int(l[i])\n",
    "\n",
    "print(s)"
   ]
  },
  {
   "cell_type": "markdown",
   "metadata": {
    "id": "ohE2fDTXHIan"
   },
   "source": [
    "### `Q-3:`: File Handling with Exception handling\n",
    "\n",
    "Write a program that opens a text file and write data to it as \"Hello, Good Morning!!!\". Handle exceptions that can be generated during the I/O operations. Do not show the success message on the main exception handling block (write inside the else block)."
   ]
  },
  {
   "cell_type": "code",
   "execution_count": 93,
   "metadata": {
    "id": "iOeiWrcIHPlY"
   },
   "outputs": [
    {
     "name": "stdout",
     "output_type": "stream",
     "text": [
      "Successfully Printed\n"
     ]
    }
   ],
   "source": [
    "# write code here\n",
    "try:\n",
    "    with open('sample.txt','w') as f:\n",
    "        f.write(\"Hello, Good Morning!!!\")\n",
    "except IOError:\n",
    "    print('Error Occurred')\n",
    "else:\n",
    "    print('Successfully Printed')\n",
    "    "
   ]
  },
  {
   "cell_type": "markdown",
   "metadata": {
    "id": "ru8g8-_bHTUf"
   },
   "source": [
    "### `Q-4`: Number game program.\n",
    "\n",
    "Write a number game program. Ask the user to enter a number. If the number is greater than number to be guessed, raise a **ValueTooLarge** exception. If the value is smaller the number to be guessed the, raise a **ValueTooSmall** exception and prompt the user to enter again. Quit the program only when the user enters the correct number. Also raise **GuessError** if user guess a number less than 1."
   ]
  },
  {
   "cell_type": "code",
   "execution_count": 161,
   "metadata": {
    "id": "QftlN5LJHZSX"
   },
   "outputs": [
    {
     "name": "stdout",
     "output_type": "stream",
     "text": [
      "Guess Karo :50\n",
      "Value too large.Enter a smaller value\n",
      "Guess Karo :35\n",
      "Value too small.Enter a larger value\n",
      "Guess Karo :40\n",
      "Jackpot correct answer. 3 me Converge hue.\n"
     ]
    }
   ],
   "source": [
    "import random\n",
    "class GuessError(Exception):\n",
    "    def __init__(self,message):\n",
    "        print(message)\n",
    "        \n",
    "class ValueTooLarge(Exception):\n",
    "    def __init__(self,message):\n",
    "        print(message)\n",
    "        \n",
    "class ValueTooSmall(Exception):\n",
    "    def __init__(self,message):\n",
    "        print(message)\n",
    "        \n",
    "\n",
    "rand = random.randint(1,100)\n",
    "count = 0\n",
    "\n",
    "\n",
    "while 1:\n",
    "    \n",
    "    try:\n",
    "        guess = int(input('Guess Karo :'))\n",
    "        if guess < 1 or guess > 100:\n",
    "            raise GuessError('Enter between 1 to 100')\n",
    "        if guess > rand:\n",
    "            raise ValueTooLarge('Value too large.Enter a smaller value')\n",
    "        if guess < rand:\n",
    "            raise ValueTooSmall('Value too small.Enter a larger value')\n",
    "        if guess == rand:\n",
    "            print(f'Jackpot correct answer. {count+1} me Converge hue.')\n",
    "            break\n",
    "\n",
    "    except GuessError as e:\n",
    "        pass\n",
    "    except ValueTooLarge as f:\n",
    "        pass\n",
    "    except ValueTooSmall as g:\n",
    "        pass\n",
    "    count += 1\n",
    "    "
   ]
  },
  {
   "cell_type": "markdown",
   "metadata": {
    "id": "ZsGI_40fHcsd"
   },
   "source": [
    "## `Q-5:` Cast vote\n",
    "\n",
    "Write a program that validate name and age as entered by the user to determine whether the person can cast vote or not. To handle the age, create **InvalidAge** exception and for name, create **InvalidName** exception. The name will be invalid when the string will be empty or name has only one word.\n",
    "\n",
    "Example 1:\n",
    "\n",
    "Input:\n",
    "\n",
    "```bash\n",
    "Enter the name:               goransh singh\n",
    "Enter the age: 25\n",
    "```\n",
    "\n",
    "Output:\n",
    "\n",
    "```bash\n",
    "Goransh Singh  Congratulation !!! You can vote.\n",
    "```"
   ]
  },
  {
   "cell_type": "code",
   "execution_count": 166,
   "metadata": {
    "id": "OHL3UiS4Hi3U"
   },
   "outputs": [
    {
     "name": "stdout",
     "output_type": "stream",
     "text": [
      "Enter Name: aniket\n",
      "Enter Age: 19\n",
      "Invalid Name\n"
     ]
    }
   ],
   "source": [
    "# Write code here\n",
    "class InvalidAge(Exception):\n",
    "    def display(self):\n",
    "        print('Invalid Age')\n",
    "class InvalidName(Exception):\n",
    "    def display(self):\n",
    "        print('Invalid Name')\n",
    "\n",
    "try:\n",
    "        \n",
    "    name = input('Enter Name: ')\n",
    "    age = int(input('Enter Age: '))\n",
    "\n",
    "    if len(name) == 0 or len(name.split()) < 2:\n",
    "        raise InvalidName\n",
    "    if age < 18:\n",
    "        raise InvalidAge\n",
    "except InvalidAge as e:\n",
    "    e.display()\n",
    "except InvalidName as f:\n",
    "    f.display()\n",
    "else:\n",
    "    print(f'{name} Congratulation!!! You can Vote')"
   ]
  },
  {
   "cell_type": "markdown",
   "metadata": {
    "id": "SCvs0QjgHlOG"
   },
   "source": [
    "### `Q-6`: Write a python function which infinitely prints natural numbers in a single line. Raise the **StopIteration** exception after displaying first 20 numnbers to exit from the program."
   ]
  },
  {
   "cell_type": "code",
   "execution_count": 17,
   "metadata": {
    "id": "Lc5ilNgNHoSx",
    "scrolled": false
   },
   "outputs": [
    {
     "name": "stdout",
     "output_type": "stream",
     "text": [
      "2 3 4 5 6 7 8 9 10 11 12 13 14 15 16 17 18 19 20 21 "
     ]
    }
   ],
   "source": [
    "# Write code here\n",
    "class StopIteration(Exception):\n",
    "    pass\n",
    "    \n",
    "def display(num):\n",
    "    i = 0\n",
    "    while 1:\n",
    "        try:\n",
    "            i += 1\n",
    "            num += 1\n",
    "            if i>20:\n",
    "                raise StopIteration\n",
    "        except StopIteration:\n",
    "            break\n",
    "        else:\n",
    "            print(num,end=' ')\n",
    "        \n",
    "display(1)"
   ]
  },
  {
   "cell_type": "code",
   "execution_count": null,
   "metadata": {},
   "outputs": [],
   "source": []
  }
 ],
 "metadata": {
  "colab": {
   "provenance": []
  },
  "kernelspec": {
   "display_name": "Python 3 (ipykernel)",
   "language": "python",
   "name": "python3"
  },
  "language_info": {
   "codemirror_mode": {
    "name": "ipython",
    "version": 3
   },
   "file_extension": ".py",
   "mimetype": "text/x-python",
   "name": "python",
   "nbconvert_exporter": "python",
   "pygments_lexer": "ipython3",
   "version": "3.9.12"
  }
 },
 "nbformat": 4,
 "nbformat_minor": 1
}
